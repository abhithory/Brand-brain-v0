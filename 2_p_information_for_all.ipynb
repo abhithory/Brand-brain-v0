{
 "cells": [
  {
   "cell_type": "code",
   "execution_count": 10,
   "id": "08523332",
   "metadata": {},
   "outputs": [],
   "source": [
    "import pandas as pd\n",
    "\n",
    "# do for 10 shows\n",
    "from tqdm import tqdm\n",
    "import time\n",
    "import difflib\n",
    "import json\n",
    "\n"
   ]
  },
  {
   "cell_type": "code",
   "execution_count": null,
   "id": "06570c10",
   "metadata": {},
   "outputs": [
    {
     "name": "stdout",
     "output_type": "stream",
     "text": [
      "total pods:  450\n",
      "total pods after removing null categories:  376\n",
      "total pods after removing null itunesID and youtubeID:  275\n"
     ]
    }
   ],
   "source": [
    "\n",
    "pods = pd.read_csv(\"./0_pods.csv\")\n",
    "\n",
    "print(\"total pods: \", len(pods))\n",
    "pods = pods[\n",
    "    pods[\"categories\"].notna() \n",
    "    # pods[\"categories\"].apply(lambda x: len(x) if isinstance(x, (list, str)) else 0) > 0\n",
    "]\n",
    "pods.head()\n",
    "print(\"total pods after removing null categories: \", len(pods))\n",
    "\n",
    "\n",
    "pods = pods[\n",
    "    pods[\"itunesID\"].notna() &\n",
    "    pods[\"youtubeID\"].notna()\n",
    "]\n",
    "pods = pods[[\"id\", \"name\",\"itunesID\", \"image\",\"youtubeID\", \"categories\", \"summary\", \"spotifyId\",\"socialLinks\"]]\n",
    "print(\"total pods after removing null itunesID and youtubeID: \", len(pods))\n",
    "pods.head()\n",
    "\n",
    "\n",
    "pods[\"category\"] = None\n",
    "pods[\"category\"] = pods[\"category\"].astype('str')\n",
    "\n",
    "\n",
    "pods[\"apple_reviews\"] = None\n",
    "pods[\"apple_reviews\"] = pods[\"apple_reviews\"].astype('object')\n",
    "\n",
    "\n",
    "pods[\"followers_count\"] = {}\n",
    "pods[\"followers_count\"] = pods[\"followers_count\"].astype('object')\n",
    "\n",
    "pods[\"recent_posts\"] = {}\n",
    "pods[\"recent_posts\"] = pods[\"recent_posts\"].astype('object')\n",
    "\n",
    "\n",
    "pods[\"youtube_videos\"] = None\n",
    "pods[\"youtube_videos\"] = pods[\"youtube_videos\"].astype('object')\n"
   ]
  },
  {
   "cell_type": "code",
   "execution_count": 22,
   "id": "9715021d",
   "metadata": {},
   "outputs": [],
   "source": [
    "transcripts = {}\n",
    "\n",
    "def save_transcripts_to_file():\n",
    "    \"\"\"Save all transcripts to JSON file\"\"\"\n",
    "    with open(\"video-transcripts.json\", \"w\") as f:\n",
    "        json.dump(transcripts, f, indent=2)\n",
    "\n",
    "def load_transcripts_from_file():\n",
    "    \"\"\"Load transcripts from JSON file\"\"\"\n",
    "    global transcripts\n",
    "    try:\n",
    "        with open(\"video-transcripts.json\", \"r\") as f:\n",
    "            transcripts = json.load(f)\n",
    "    except FileNotFoundError:\n",
    "        transcripts = {}\n",
    "\n",
    "def store_transcript(video_id, transcript_text):\n",
    "    \"\"\"Store transcript for a video\"\"\"\n",
    "    transcripts[video_id] = transcript_text\n",
    "    save_transcripts_to_file()\n",
    "\n",
    "def get_transcript(video_id):\n",
    "    \"\"\"Get transcript by video ID\"\"\"\n",
    "    return transcripts.get(video_id, \"\")\n",
    "\n",
    "load_transcripts_from_file()\n",
    "\n"
   ]
  },
  {
   "cell_type": "code",
   "execution_count": 12,
   "id": "15143093",
   "metadata": {},
   "outputs": [],
   "source": [
    "stoic_base_url = \"http://127.0.0.1:5000\""
   ]
  },
  {
   "cell_type": "code",
   "execution_count": 13,
   "id": "7998ebe4",
   "metadata": {},
   "outputs": [],
   "source": [
    "\n",
    "import re\n",
    "\n",
    "def get_instagram_username(url):\n",
    "    \"\"\"\n",
    "    Extract Instagram username from URL - simple and reliable\n",
    "    \n",
    "    Args:\n",
    "        url (str): Instagram URL\n",
    "        \n",
    "    Returns:\n",
    "        str: Username or None if not found\n",
    "    \"\"\"\n",
    "    if not url:\n",
    "        return None\n",
    "    \n",
    "    # Remove any whitespace\n",
    "    url = url.strip()\n",
    "    \n",
    "    # Use regex to extract username from Instagram URL\n",
    "    # This pattern captures the username part after instagram.com/\n",
    "    pattern = r'instagram\\.com/([^/?#]+)'\n",
    "    \n",
    "    match = re.search(pattern, url, re.IGNORECASE)\n",
    "    \n",
    "    if match:\n",
    "        username = match.group(1)\n",
    "        return username\n",
    "    \n",
    "    return None"
   ]
  },
  {
   "cell_type": "code",
   "execution_count": 14,
   "id": "5f4d16cd",
   "metadata": {},
   "outputs": [],
   "source": [
    "import requests\n",
    "import json\n",
    "from concurrent.futures import ThreadPoolExecutor, as_completed\n",
    "\n",
    "def get_pod_apple_reviews(itunes_id):\n",
    "    apple_reviews_api_url = f\"{stoic_base_url}/api/applepodcast/reviews?itunes_id={itunes_id}\"\n",
    "    response = requests.get(apple_reviews_api_url)\n",
    "    apple_reviews_data = response.json()\n",
    "    return apple_reviews_data\n",
    "\n",
    "\n",
    "def get_pod_social_followers(social_links):\n",
    "    if isinstance(social_links, str):\n",
    "        social_links = json.loads(social_links)\n",
    "\n",
    "    followers_count = {}\n",
    "    recent_posts = {}\n",
    "    try:\n",
    "        instagram_url = social_links.get(\"instagram\")\n",
    "        instgaram_username = get_instagram_username(instagram_url)\n",
    "\n",
    "        if instgaram_username:\n",
    "            instagram_api_url = f\"{stoic_base_url}/api/instagram/profile?username={instgaram_username}\"\n",
    "            response = requests.get(instagram_api_url)\n",
    "            instagram_data = response.json()\n",
    "\n",
    "            recent_posts[\"instagram\"] = instagram_data.get(\"recentPosts\", [])\n",
    "            if \"followersCount\" in instagram_data:\n",
    "                followers_count[\"instagram\"] = instagram_data[\"followersCount\"]\n",
    "    except Exception as e:\n",
    "        print(\"error in instagram: \",e)\n",
    "\n",
    "\n",
    "    # try:\n",
    "    #     twitter_url = social_links.get(\"twitter\") or social_links.get(\"x\")\n",
    "    #     twitter_username = twitter_url.split(\"/\")[-1]\n",
    "    #     twitter_api_url = f\"{stoic_base_url}/api/twitter/profile?username={twitter_username}\"\n",
    "    #     print(\"twitter api url: \",twitter_api_url)\n",
    "    #     response = requests.get(twitter_api_url)\n",
    "    #     twitter_data = response.json()\n",
    "    #     recent_posts[\"twitter\"] = []\n",
    "    #     if \"followersCount\" in twitter_data:\n",
    "    #         followers_count[\"twitter\"] = twitter_data[\"followersCount\"]\n",
    "    # except Exception as e:\n",
    "    #     print(\"error in twitter: \",e)\n",
    "\n",
    "    return followers_count, recent_posts\n",
    "\n",
    "def fetch_single_video(youtube_video_api_url, video_id):\n",
    "    \"\"\"Fetch details for a single video\"\"\"\n",
    "    try:\n",
    "        payload = {\"video_id\": video_id, \"fetch_transcript\": True}\n",
    "        response = requests.post(youtube_video_api_url, json=payload)\n",
    "        youtube_video_data = response.json()\n",
    "        return video_id, youtube_video_data\n",
    "    except Exception as e:\n",
    "        print(f\"Error fetching video {video_id}: {e}\")\n",
    "        return video_id, None\n",
    "\n",
    "def get_youtube_info_and_latest_videos(youtube_id, video_count=5, max_workers=2):\n",
    "    youtube_latest_videos_api_url = f\"{stoic_base_url}/api/youtube/get-channel-details-and-latest-videos\"\n",
    "    payload = {\"channel_identifier\": youtube_id, \"latest_video_count\":video_count}\n",
    "    response = requests.post(youtube_latest_videos_api_url, json=payload)\n",
    "    youtube_data = response.json()\n",
    "    subscribers = None\n",
    "    if \"subscriberCount\" in youtube_data.get(\"channelDetails\", {}):\n",
    "        subscribers = youtube_data[\"channelDetails\"][\"subscriberCount\"]\n",
    "    latest_basic_videos = youtube_data[\"latestVideos\"]\n",
    "\n",
    "    youtube_video_api_url = f\"{stoic_base_url}/api/youtube/video\"\n",
    "    latest_videos = []\n",
    "    \n",
    "    with ThreadPoolExecutor(max_workers=max_workers) as executor:\n",
    "        # Submit all tasks\n",
    "        future_to_video_id = {\n",
    "            executor.submit(fetch_single_video, youtube_video_api_url, video[\"youtubeVideoId\"]): video[\"youtubeVideoId\"]\n",
    "            for video in latest_basic_videos\n",
    "        }\n",
    "        \n",
    "        # Collect results as they complete\n",
    "        for future in as_completed(future_to_video_id):\n",
    "            video_id, result = future.result()\n",
    "            if result is not None:\n",
    "                latest_videos.append(result)\n",
    "\n",
    "\n",
    "    return latest_videos, subscribers"
   ]
  },
  {
   "cell_type": "code",
   "execution_count": null,
   "id": "fb528b1d",
   "metadata": {},
   "outputs": [],
   "source": [
    "from openai import OpenAI\n",
    "import json\n",
    "import os\n",
    "\n",
    "os.environ[\"OPENAI_API_KEY\"] = \\n",
    "\n",
    "\n",
    "client = OpenAI()"
   ]
  },
  {
   "cell_type": "code",
   "execution_count": 16,
   "id": "3a0efa39",
   "metadata": {},
   "outputs": [],
   "source": [
    "def get_main_category(categories, podcast_name, podcast_summary):\n",
    "    categories_str = \", \".join(categories)\n",
    "    prompt = f\"\"\"\n",
    "    You are given a list of categories: {categories_str}.\n",
    "    The podcast name is: \"{podcast_name}\".\n",
    "    The summary is: \"{podcast_summary}\".\n",
    "\n",
    "    Select the **single most relevant category** from the given categories \n",
    "    that best describes this podcast. Return only the category name. return the category as it is. dont add space or any other character. and everything should in lowercase\n",
    "    \"\"\"\n",
    "\n",
    "    response = client.responses.create(\n",
    "        model=\"gpt-4.1\",\n",
    "        input=prompt,\n",
    "        temperature=0\n",
    "    )\n",
    "    return response.output_text.strip()"
   ]
  },
  {
   "cell_type": "code",
   "execution_count": 17,
   "id": "7957e218",
   "metadata": {},
   "outputs": [],
   "source": [
    "def prepare_transcript(transcript, max_chars=400000):\n",
    "    \"\"\"\n",
    "    Combine transcript into a single string with timestamps.\n",
    "    Truncate if exceeds max_chars.\n",
    "    \"\"\"\n",
    "    combined = []\n",
    "    total_length = 0\n",
    "\n",
    "    for item in transcript:\n",
    "        text_piece = f\"[{item['start']}s] {item['text']} \"\n",
    "        if total_length + len(text_piece) > max_chars:\n",
    "            break\n",
    "        combined.append(text_piece)\n",
    "        total_length += len(text_piece)\n",
    "    \n",
    "    return \"\".join(combined)\n",
    "\n",
    "def extract_sponsors_from_transcript(transcripts, description):\n",
    "    \"\"\"\n",
    "    Extract sponsors from full transcript (up to max_chars) and description.\n",
    "    \"\"\"\n",
    "\n",
    "    transcript_text= prepare_transcript(transcripts)\n",
    "\n",
    "    prompt = f\"\"\"\n",
    "    You are given a podcast transcript and YouTube video description.\n",
    "    Extract all **real sponsors** (products or services, not social media links),\n",
    "    along with the start and end timestamps, in this JSON format:\n",
    "    [\n",
    "      {{\n",
    "        \"sponsorName\": \"\",\n",
    "        \"startTime\": 0,\n",
    "        \"endTime\": 0,\n",
    "        \"domain\": \"\"\n",
    "      }}\n",
    "    ]\n",
    "\n",
    "    **Transcript:** {transcript_text}\n",
    "    **Description:** {description}\n",
    "\n",
    "    Guidelines:\n",
    "    1. If no promotions are found, return an empty array [].\n",
    "    2. Ignore social links like Spotify, iTunes, YouTube, Instagram, Facebook, TikTok, Patreon, Twitch.\n",
    "    3. Use timestamps from the transcript when possible.\n",
    "    4. Extract domain names from the description links.\n",
    "    5. Return ONLY valid JSON.\n",
    "    \"\"\"\n",
    "\n",
    "    response = client.responses.create(\n",
    "        model=\"gpt-4o-mini\",\n",
    "        # model=\"gpt-4.1\",\n",
    "    # model: \"gpt-4o-mini\",\n",
    "        input=prompt,\n",
    "        temperature=0\n",
    "    )\n",
    "\n",
    "    raw_output = response.output_text.strip()\n",
    "\n",
    "    # Remove code fences like ```json and ```\n",
    "    if raw_output.startswith(\"```\"):\n",
    "        raw_output = raw_output.strip(\"`\")\n",
    "        raw_output = raw_output.replace(\"json\\n\", \"\").replace(\"json\", \"\")\n",
    "\n",
    "    try:\n",
    "        sponsors = json.loads(raw_output)\n",
    "    except Exception as e:\n",
    "        print(\"Exception: \", e)\n",
    "        sponsors = []\n",
    "\n",
    "    return sponsors"
   ]
  },
  {
   "cell_type": "code",
   "execution_count": 18,
   "id": "5e080b40",
   "metadata": {},
   "outputs": [
    {
     "name": "stdout",
     "output_type": "stream",
     "text": [
      "true_crime\n"
     ]
    }
   ],
   "source": [
    "\n",
    "with open(\"./categories_details.json\", \"r\") as file:\n",
    "    data = json.load(file)\n",
    "all_categories = data[\"all_categories\"]\n",
    "category_rules = data[\"category_rules\"]\n",
    "avg_ad_price = data[\"avg_ad_price\"]\n",
    "\n",
    "def match_category(input_category: str) -> str:\n",
    "    input_category = input_category.lower().strip()\n",
    "    for keyword, mapped_category in category_rules.items():\n",
    "        if keyword in input_category:\n",
    "            return mapped_category\n",
    "    closest_match = difflib.get_close_matches(input_category, all_categories, n=1, cutoff=0.4)\n",
    "    return closest_match[0] if closest_match else \"unknown\"\n",
    "\n",
    "\n",
    "\n",
    "matched = match_category(\"crime\")\n",
    "print(matched)"
   ]
  },
  {
   "cell_type": "code",
   "execution_count": 19,
   "id": "194011e2",
   "metadata": {},
   "outputs": [],
   "source": [
    "def get_pod_all_info(pod, index):\n",
    "    # get information about podcast\n",
    "    pod_id = pod[\"id\"]\n",
    "    pod_itunes_id = int(pod[\"itunesID\"])\n",
    "    pod_name = pod[\"name\"]\n",
    "    pod_summary = pod[\"summary\"]\n",
    "    pod_categories = pod[\"categories\"]\n",
    "\n",
    "    existing_category = pod[\"category\"]\n",
    "    if existing_category is None or existing_category == \"\" or existing_category == \"None\":\n",
    "        try:\n",
    "            pod_category = get_main_category(pod_categories, pod_name, pod_summary)\n",
    "            pods.at[index, \"category\"] = pod_category\n",
    "        except Exception as e:\n",
    "            print(pod_id,\" error in getting category: \",e)\n",
    "\n",
    "    existing_apple_reviews = pod[\"apple_reviews\"]\n",
    "    if existing_apple_reviews is None:\n",
    "        try:\n",
    "            apple_reviews_data = get_pod_apple_reviews(pod_itunes_id)\n",
    "            pods.at[index, \"apple_reviews\"] = {\n",
    "                \"average_rating\": apple_reviews_data[\"average_rating\"],\n",
    "                \"rating_count\": apple_reviews_data[\"rating_count\"],\n",
    "                    \"ratings_breakdown\": apple_reviews_data[\"ratings_breakdown\"],\n",
    "                }\n",
    "        except Exception as e:\n",
    "            print(pod_id,\" error in getting apple reviews: \",e)\n",
    "\n",
    "\n",
    "    pod_social_links = pod[\"socialLinks\"]\n",
    "    existing_followers = pod[\"followers_count\"]\n",
    "    try:\n",
    "        existing_insta_followers = existing_followers[\"instagram\"]\n",
    "    except (KeyError, TypeError):\n",
    "        existing_insta_followers = None\n",
    "    if pod_social_links and existing_insta_followers is None:\n",
    "        try:\n",
    "            followers_count, recent_posts = get_pod_social_followers(pod_social_links)\n",
    "            if isinstance(existing_followers, dict):\n",
    "                pods.at[index, \"followers_count\"] = {\n",
    "                    **existing_followers,  # Spread existing dict\n",
    "                    **followers_count\n",
    "                }\n",
    "            else:\n",
    "                pods.at[index, \"followers_count\"] = {\n",
    "                    **followers_count\n",
    "                }\n",
    "            if recent_posts:\n",
    "                pods.at[index, \"recent_posts\"] = recent_posts\n",
    "        except Exception as e:\n",
    "            print(pod_id,\" error in getting followers: \",e)\n",
    "\n",
    "    youtube_id = pod[\"youtubeID\"]\n",
    "    existing_youtube_videos = pod[\"youtube_videos\"]\n",
    "    if youtube_id and existing_youtube_videos is None:\n",
    "        try:\n",
    "            latest_videos, subscribers = get_youtube_info_and_latest_videos(youtube_id, 5, 2)\n",
    "\n",
    "            updated_latest_videos = []\n",
    "            for video in latest_videos:\n",
    "                video_id = video[\"youtubeVideoId\"]\n",
    "                transcript = video[\"transcript\"]\n",
    "                store_transcript(video_id, transcript)\n",
    "                video[\"transcript\"] = None\n",
    "                updated_latest_videos.append(video)\n",
    "\n",
    "            existing_followers = pods.at[index, \"followers_count\"]  # Changed from pod.get()\n",
    "\n",
    "            if isinstance(existing_followers, dict):\n",
    "                pods.at[index, \"followers_count\"] = {\n",
    "                    **existing_followers,  # Spread existing dict\n",
    "                    \"youtube\": subscribers\n",
    "                }\n",
    "            else:\n",
    "                pods.at[index, \"followers_count\"] = {\n",
    "                    \"youtube\": subscribers\n",
    "                }\n",
    "            pods.at[index, \"youtube_videos\"] = updated_latest_videos\n",
    "        except Exception as e:\n",
    "            print(pod_id,\" error in youtube videos : \",e)\n"
   ]
  },
  {
   "cell_type": "code",
   "execution_count": null,
   "id": "ba66ecbc",
   "metadata": {},
   "outputs": [
    {
     "name": "stderr",
     "output_type": "stream",
     "text": [
      "  1%|          | 3/275 [01:02<1:37:27, 21.50s/it]"
     ]
    },
    {
     "name": "stdout",
     "output_type": "stream",
     "text": [
      "4thingswithamybrown  error in youtube videos :  'latestVideos'\n"
     ]
    },
    {
     "name": "stderr",
     "output_type": "stream",
     "text": [
      "  2%|▏         | 6/275 [02:49<2:33:38, 34.27s/it]"
     ]
    },
    {
     "name": "stdout",
     "output_type": "stream",
     "text": [
      "Datingintelligence  error in youtube videos :  'youtubeVideoId'\n"
     ]
    },
    {
     "name": "stderr",
     "output_type": "stream",
     "text": [
      "  3%|▎         | 7/275 [03:45<3:04:46, 41.37s/it]"
     ]
    },
    {
     "name": "stdout",
     "output_type": "stream",
     "text": [
      "MidnightBurger  error in youtube videos :  'youtubeVideoId'\n"
     ]
    },
    {
     "name": "stderr",
     "output_type": "stream",
     "text": [
      "  5%|▌         | 15/275 [09:40<2:35:12, 35.82s/it]"
     ]
    },
    {
     "name": "stdout",
     "output_type": "stream",
     "text": [
      "almostfamous  error in youtube videos :  'latestVideos'\n"
     ]
    },
    {
     "name": "stderr",
     "output_type": "stream",
     "text": [
      " 10%|▉         | 27/275 [14:13<1:58:32, 28.68s/it]"
     ]
    },
    {
     "name": "stdout",
     "output_type": "stream",
     "text": [
      "beargrease  error in youtube videos :  'youtubeVideoId'\n"
     ]
    },
    {
     "name": "stderr",
     "output_type": "stream",
     "text": [
      " 19%|█▉        | 52/275 [24:24<2:04:59, 33.63s/it]"
     ]
    },
    {
     "name": "stdout",
     "output_type": "stream",
     "text": [
      "dailymeditationpodcast  error in youtube videos :  'youtubeVideoId'\n"
     ]
    },
    {
     "name": "stderr",
     "output_type": "stream",
     "text": [
      " 21%|██        | 57/275 [26:17<1:32:51, 25.56s/it]"
     ]
    },
    {
     "name": "stdout",
     "output_type": "stream",
     "text": [
      "devaneostemporales  error in youtube videos :  'youtubeVideoId'\n"
     ]
    },
    {
     "name": "stderr",
     "output_type": "stream",
     "text": [
      " 22%|██▏       | 61/275 [29:00<2:16:46, 38.35s/it]"
     ]
    },
    {
     "name": "stdout",
     "output_type": "stream",
     "text": [
      "disneytravelsecrets  error in youtube videos :  'youtubeVideoId'\n"
     ]
    },
    {
     "name": "stderr",
     "output_type": "stream",
     "text": [
      " 24%|██▍       | 66/275 [30:40<1:17:25, 22.23s/it]"
     ]
    },
    {
     "name": "stdout",
     "output_type": "stream",
     "text": [
      "eatyourcontent  error in youtube videos :  'youtubeVideoId'\n"
     ]
    },
    {
     "name": "stderr",
     "output_type": "stream",
     "text": [
      " 24%|██▍       | 67/275 [31:19<1:34:27, 27.25s/it]"
     ]
    },
    {
     "name": "stdout",
     "output_type": "stream",
     "text": [
      "echalepodcast  error in youtube videos :  'youtubeVideoId'\n"
     ]
    },
    {
     "name": "stderr",
     "output_type": "stream",
     "text": [
      " 25%|██▌       | 70/275 [32:27<1:22:54, 24.27s/it]"
     ]
    },
    {
     "name": "stdout",
     "output_type": "stream",
     "text": [
      "entrellats  error in youtube videos :  'youtubeVideoId'\n"
     ]
    },
    {
     "name": "stderr",
     "output_type": "stream",
     "text": [
      " 33%|███▎      | 90/275 [39:59<1:08:34, 22.24s/it]"
     ]
    },
    {
     "name": "stdout",
     "output_type": "stream",
     "text": [
      "h3  error in youtube videos :  'youtubeVideoId'\n"
     ]
    },
    {
     "name": "stderr",
     "output_type": "stream",
     "text": [
      " 37%|███▋      | 103/275 [46:15<1:18:50, 27.50s/it]"
     ]
    },
    {
     "name": "stdout",
     "output_type": "stream",
     "text": [
      "jimmysjobsofthefuture  error in youtube videos :  'youtubeVideoId'\n"
     ]
    },
    {
     "name": "stderr",
     "output_type": "stream",
     "text": [
      " 38%|███▊      | 104/275 [46:50<1:24:31, 29.66s/it]"
     ]
    },
    {
     "name": "stdout",
     "output_type": "stream",
     "text": [
      "joelosteen  error in youtube videos :  'youtubeVideoId'\n"
     ]
    },
    {
     "name": "stderr",
     "output_type": "stream",
     "text": [
      " 39%|███▊      | 106/275 [48:03<1:37:11, 34.50s/it]"
     ]
    },
    {
     "name": "stdout",
     "output_type": "stream",
     "text": [
      "juliandoreypodcast  error in youtube videos :  'youtubeVideoId'\n"
     ]
    },
    {
     "name": "stderr",
     "output_type": "stream",
     "text": [
      " 40%|███▉      | 109/275 [51:38<2:33:18, 55.41s/it]"
     ]
    },
    {
     "name": "stdout",
     "output_type": "stream",
     "text": [
      "lesinvestisseurs40  error in youtube videos :  'youtubeVideoId'\n"
     ]
    },
    {
     "name": "stderr",
     "output_type": "stream",
     "text": [
      " 42%|████▏     | 116/275 [57:50<2:24:49, 54.65s/it]"
     ]
    },
    {
     "name": "stdout",
     "output_type": "stream",
     "text": [
      "mamasconganas  error in youtube videos :  'youtubeVideoId'\n"
     ]
    },
    {
     "name": "stderr",
     "output_type": "stream",
     "text": [
      " 43%|████▎     | 117/275 [58:33<2:14:34, 51.10s/it]"
     ]
    },
    {
     "name": "stdout",
     "output_type": "stream",
     "text": [
      "marchofhistory  error in youtube videos :  'youtubeVideoId'\n"
     ]
    },
    {
     "name": "stderr",
     "output_type": "stream",
     "text": [
      " 45%|████▌     | 124/275 [1:02:30<1:48:42, 43.19s/it]"
     ]
    },
    {
     "name": "stdout",
     "output_type": "stream",
     "text": [
      "mikewardsousecoute  error in youtube videos :  'youtubeVideoId'\n"
     ]
    },
    {
     "name": "stderr",
     "output_type": "stream",
     "text": [
      " 47%|████▋     | 129/275 [1:05:04<1:25:59, 35.34s/it]"
     ]
    },
    {
     "name": "stdout",
     "output_type": "stream",
     "text": [
      "motleyfoolmoney  error in youtube videos :  'latestVideos'\n"
     ]
    },
    {
     "name": "stderr",
     "output_type": "stream",
     "text": [
      " 53%|█████▎    | 145/275 [1:12:53<57:51, 26.70s/it]  "
     ]
    },
    {
     "name": "stdout",
     "output_type": "stream",
     "text": [
      "patgrayunleashed  error in youtube videos :  'youtubeVideoId'\n"
     ]
    },
    {
     "name": "stderr",
     "output_type": "stream",
     "text": [
      " 55%|█████▍    | 150/275 [1:14:44<45:31, 21.85s/it]"
     ]
    },
    {
     "name": "stdout",
     "output_type": "stream",
     "text": [
      "psiloveyouxoxo  error in youtube videos :  'youtubeVideoId'\n"
     ]
    },
    {
     "name": "stderr",
     "output_type": "stream",
     "text": [
      " 60%|██████    | 166/275 [1:22:02<49:31, 27.26s/it]"
     ]
    },
    {
     "name": "stdout",
     "output_type": "stream",
     "text": [
      "sleepmeditationfor  error in youtube videos :  'youtubeVideoId'\n"
     ]
    },
    {
     "name": "stderr",
     "output_type": "stream",
     "text": [
      " 63%|██████▎   | 174/275 [1:25:01<39:23, 23.40s/it]"
     ]
    },
    {
     "name": "stdout",
     "output_type": "stream",
     "text": [
      "spooked  error in youtube videos :  'youtubeVideoId'\n"
     ]
    },
    {
     "name": "stderr",
     "output_type": "stream",
     "text": [
      " 70%|███████   | 193/275 [1:34:03<56:16, 41.17s/it]  "
     ]
    },
    {
     "name": "stdout",
     "output_type": "stream",
     "text": [
      "theconfessionals  error in youtube videos :  'youtubeVideoId'\n"
     ]
    },
    {
     "name": "stderr",
     "output_type": "stream",
     "text": [
      " 75%|███████▍  | 206/275 [1:42:27<34:30, 30.01s/it]  "
     ]
    },
    {
     "name": "stdout",
     "output_type": "stream",
     "text": [
      "theglasscannon  error in youtube videos :  'youtubeVideoId'\n"
     ]
    },
    {
     "name": "stderr",
     "output_type": "stream",
     "text": [
      " 79%|███████▊  | 216/275 [1:47:42<32:09, 32.71s/it]"
     ]
    },
    {
     "name": "stdout",
     "output_type": "stream",
     "text": [
      "themandalore  error in youtube videos :  'youtubeVideoId'\n"
     ]
    },
    {
     "name": "stderr",
     "output_type": "stream",
     "text": [
      " 90%|████████▉ | 247/275 [2:03:23<12:44, 27.31s/it]"
     ]
    },
    {
     "name": "stdout",
     "output_type": "stream",
     "text": [
      "tomorrowslegends  error in youtube videos :  'youtubeVideoId'\n"
     ]
    },
    {
     "name": "stderr",
     "output_type": "stream",
     "text": [
      " 96%|█████████▌| 264/275 [2:13:24<06:03, 33.04s/it]"
     ]
    },
    {
     "name": "stdout",
     "output_type": "stream",
     "text": [
      "wdwradio  error in youtube videos :  'youtubeVideoId'\n"
     ]
    },
    {
     "name": "stderr",
     "output_type": "stream",
     "text": [
      " 97%|█████████▋| 268/275 [2:15:34<03:47, 32.57s/it]"
     ]
    },
    {
     "name": "stdout",
     "output_type": "stream",
     "text": [
      "whatshouldireadnext  error in youtube videos :  'youtubeVideoId'\n"
     ]
    },
    {
     "name": "stderr",
     "output_type": "stream",
     "text": [
      "100%|██████████| 275/275 [2:19:58<00:00, 30.54s/it]"
     ]
    },
    {
     "name": "stdout",
     "output_type": "stream",
     "text": [
      "zengeen  error in youtube videos :  'youtubeVideoId'\n"
     ]
    },
    {
     "name": "stderr",
     "output_type": "stream",
     "text": [
      "\n"
     ]
    }
   ],
   "source": [
    "\n",
    "for index, pod in tqdm(pods.iterrows(), total=len(pods)):\n",
    "# for index, pod in tqdm(pods.head(2).iterrows(), total=10):\n",
    "    get_pod_all_info(pod, index)"
   ]
  },
  {
   "cell_type": "code",
   "execution_count": 205,
   "id": "325fc516",
   "metadata": {},
   "outputs": [],
   "source": [
    "\n",
    "pods.to_csv(\"1_pods_with_scrapped_data.csv\", index=False)"
   ]
  },
  {
   "cell_type": "code",
   "execution_count": 5,
   "id": "7479cbf2",
   "metadata": {},
   "outputs": [
    {
     "data": {
      "text/html": [
       "<div>\n",
       "<style scoped>\n",
       "    .dataframe tbody tr th:only-of-type {\n",
       "        vertical-align: middle;\n",
       "    }\n",
       "\n",
       "    .dataframe tbody tr th {\n",
       "        vertical-align: top;\n",
       "    }\n",
       "\n",
       "    .dataframe thead th {\n",
       "        text-align: right;\n",
       "    }\n",
       "</style>\n",
       "<table border=\"1\" class=\"dataframe\">\n",
       "  <thead>\n",
       "    <tr style=\"text-align: right;\">\n",
       "      <th></th>\n",
       "      <th>id</th>\n",
       "      <th>name</th>\n",
       "      <th>itunesID</th>\n",
       "      <th>image</th>\n",
       "      <th>youtubeID</th>\n",
       "      <th>categories</th>\n",
       "      <th>summary</th>\n",
       "      <th>spotifyId</th>\n",
       "      <th>socialLinks</th>\n",
       "      <th>category</th>\n",
       "      <th>apple_reviews</th>\n",
       "      <th>followers_count</th>\n",
       "      <th>recent_posts</th>\n",
       "      <th>youtube_videos</th>\n",
       "    </tr>\n",
       "  </thead>\n",
       "  <tbody>\n",
       "    <tr>\n",
       "      <th>0</th>\n",
       "      <td>20vc</td>\n",
       "      <td>The Twenty Minute VC (20VC)</td>\n",
       "      <td>9.582305e+08</td>\n",
       "      <td>https://static.libsyn.com/p/assets/d/2/b/a/d2b...</td>\n",
       "      <td>UCf0PBRjhf0rF8fWBIxTuoWA</td>\n",
       "      <td>[\"business\",\"society_&amp;_culture\",\"technology\"]</td>\n",
       "      <td>The Twenty Minute VC brings insightful intervi...</td>\n",
       "      <td>3j2KMcZTtgTNBKwtZBMHvl</td>\n",
       "      <td>{\"facebook\":\"https://www.facebook.com/The Twen...</td>\n",
       "      <td>business</td>\n",
       "      <td>{'average_rating': 4.4, 'rating_count': 479, '...</td>\n",
       "      <td>{'instagram': 11470, 'youtube': 160000}</td>\n",
       "      <td>{'instagram': [{'caption': 'Cos all the best a...</td>\n",
       "      <td>[{'age_restricted': False, 'airDate': '2025072...</td>\n",
       "    </tr>\n",
       "    <tr>\n",
       "      <th>1</th>\n",
       "      <td>402p</td>\n",
       "      <td>4.0 To Pro</td>\n",
       "      <td>1.672464e+09</td>\n",
       "      <td>https://megaphone.imgix.net/podcasts/073cc458-...</td>\n",
       "      <td>UCzxISXhBIzA-2wsnC7z9_Aw</td>\n",
       "      <td>[\"sports\",\"education\",\"leisure\"]</td>\n",
       "      <td>4.0 to Pro is a pocket-sized podcast dedicated...</td>\n",
       "      <td>5xQf95A7d9UESlpZi2YGBZ</td>\n",
       "      <td>{\"applePodcasts\":\"https://podcasts.apple.com/u...</td>\n",
       "      <td>sports</td>\n",
       "      <td>{'average_rating': 4.9, 'rating_count': 339, '...</td>\n",
       "      <td>{'instagram': 3454, 'youtube': 1060}</td>\n",
       "      <td>{'instagram': [{'caption': '@4.0_to_pro Custom...</td>\n",
       "      <td>[{'age_restricted': False, 'airDate': '2025071...</td>\n",
       "    </tr>\n",
       "    <tr>\n",
       "      <th>2</th>\n",
       "      <td>4thingswithamybrown</td>\n",
       "      <td>4 Things with Amy Brown</td>\n",
       "      <td>1.442391e+09</td>\n",
       "      <td>https://www.omnycontent.com/d/playlist/e73c998...</td>\n",
       "      <td>UC7qHbziuYTsDYp9OxYXOJOA</td>\n",
       "      <td>[\"health&amp;fitness\",\"society&amp;_culture\",\"education\"]</td>\n",
       "      <td>Join Amy Brown as she discusses 4 essential pr...</td>\n",
       "      <td>7qMQUCmvUFlqZ0J68anixa</td>\n",
       "      <td>{\"applePodcasts\":\"https://podcasts.apple.com/u...</td>\n",
       "      <td>health&amp;fitness</td>\n",
       "      <td>{'average_rating': 4.9, 'rating_count': 5232, ...</td>\n",
       "      <td>{'instagram': 623540}</td>\n",
       "      <td>{'instagram': [{'caption': 'only the best for ...</td>\n",
       "      <td>NaN</td>\n",
       "    </tr>\n",
       "    <tr>\n",
       "      <th>3</th>\n",
       "      <td>99invisible</td>\n",
       "      <td>99% Invisible</td>\n",
       "      <td>3.947753e+08</td>\n",
       "      <td>https://storage.googleapis.com/core-dev-361305...</td>\n",
       "      <td>UCVMF2HD4ZgC0QHpU9Yq5Xrw</td>\n",
       "      <td>[\"arts\",\"society_&amp;_culture\",\"education\"]</td>\n",
       "      <td>Hosted by Roman Mars, 99% Invisible explores t...</td>\n",
       "      <td>2VRS1IJCTn2Nlkg33ZVfkM</td>\n",
       "      <td>{\"facebook\":\"https://www.facebook.com/99percen...</td>\n",
       "      <td>society_&amp;_culture</td>\n",
       "      <td>{'average_rating': 4.8, 'rating_count': 25366,...</td>\n",
       "      <td>{'instagram': 87855, 'youtube': 11400}</td>\n",
       "      <td>{'instagram': [{'caption': '99% Invisible invi...</td>\n",
       "      <td>[{'age_restricted': False, 'airDate': '2025071...</td>\n",
       "    </tr>\n",
       "    <tr>\n",
       "      <th>4</th>\n",
       "      <td>Crimeatorium</td>\n",
       "      <td>Crimeatorium True Crime</td>\n",
       "      <td>1.724979e+09</td>\n",
       "      <td>https://media.redcircle.com/images/2024/12/10/...</td>\n",
       "      <td>UCM_TCZ3r8wQGfol-C6CSKBw</td>\n",
       "      <td>[\"true_crime\",\"society_&amp;_culture\",\"education\"]</td>\n",
       "      <td>Join Madeline O'Brien as she delves into lesse...</td>\n",
       "      <td>3DsvYLaAUl1NV0eUrr6uI1</td>\n",
       "      <td>{\"facebook\":\"https://www.facebook.com/Crimeato...</td>\n",
       "      <td>true_crime</td>\n",
       "      <td>{'average_rating': None, 'rating_count': None,...</td>\n",
       "      <td>{'instagram': 0, 'youtube': 21900}</td>\n",
       "      <td>{'instagram': []}</td>\n",
       "      <td>[]</td>\n",
       "    </tr>\n",
       "    <tr>\n",
       "      <th>5</th>\n",
       "      <td>Datingintelligence</td>\n",
       "      <td>Dating Intelligence the Podcast</td>\n",
       "      <td>1.513626e+09</td>\n",
       "      <td>https://static.libsyn.com/p/assets/2/3/f/1/23f...</td>\n",
       "      <td>UCcy0KXINyPCf6-lWEzFQTQg</td>\n",
       "      <td>[\"society_&amp;_culture\",\"health&amp;fitness\",\"educati...</td>\n",
       "      <td>Dating Intelligence the Podcast explores datin...</td>\n",
       "      <td>51I5oHDuLzecFM2VC2Elm1</td>\n",
       "      <td>{\"facebook\":null,\"instagram\":\"https://www.inst...</td>\n",
       "      <td>society_&amp;_culture</td>\n",
       "      <td>{'average_rating': 4.9, 'rating_count': 30, 'r...</td>\n",
       "      <td>{'instagram': 0}</td>\n",
       "      <td>{'instagram': []}</td>\n",
       "      <td>NaN</td>\n",
       "    </tr>\n",
       "    <tr>\n",
       "      <th>6</th>\n",
       "      <td>MidnightBurger</td>\n",
       "      <td>Midnight Burger</td>\n",
       "      <td>1.537653e+09</td>\n",
       "      <td>https://storage.googleapis.com/core-production...</td>\n",
       "      <td>UC4Hfu6qPbLI1Uecswv9Mm1g</td>\n",
       "      <td>[\"society_&amp;_culture\",\"fiction\",\"leisure\"]</td>\n",
       "      <td>Midnight Burger is a whimsical audio journey w...</td>\n",
       "      <td>3flVB3CeXIfVHwXjcKkNk8</td>\n",
       "      <td>{\"facebook\":\"https://www.facebook.com/Midnight...</td>\n",
       "      <td>fiction</td>\n",
       "      <td>{'average_rating': 4.9, 'rating_count': 2021, ...</td>\n",
       "      <td>{'instagram': 0}</td>\n",
       "      <td>{'instagram': []}</td>\n",
       "      <td>NaN</td>\n",
       "    </tr>\n",
       "    <tr>\n",
       "      <th>7</th>\n",
       "      <td>SPNthenandnow</td>\n",
       "      <td>Supernatural Then and Now</td>\n",
       "      <td>1.605385e+09</td>\n",
       "      <td>https://storage.googleapis.com/core-production...</td>\n",
       "      <td>UCHbjWmAa_7ixnzv1jlILv6A</td>\n",
       "      <td>[\"tv_&amp;_film\",\"society_&amp;_culture\",\"comedy\"]</td>\n",
       "      <td>Supernatural Then and Now takes fans on a jour...</td>\n",
       "      <td>1c6D3QoBrXq9YezlQM1uer</td>\n",
       "      <td>{\"facebook\":null,\"instagram\":\"https://www.inst...</td>\n",
       "      <td>society_&amp;_culture</td>\n",
       "      <td>{'average_rating': 4.9, 'rating_count': 1991, ...</td>\n",
       "      <td>{'instagram': 0, 'youtube': 4130}</td>\n",
       "      <td>{'instagram': []}</td>\n",
       "      <td>[{'age_restricted': False, 'airDate': '2025071...</td>\n",
       "    </tr>\n",
       "    <tr>\n",
       "      <th>8</th>\n",
       "      <td>Travel-in-10</td>\n",
       "      <td>Travel in 10: Travel Podcast</td>\n",
       "      <td>8.326049e+07</td>\n",
       "      <td>https://storage.googleapis.com/core-production...</td>\n",
       "      <td>UCLwR_buRFVTkb7yVWxc52-g</td>\n",
       "      <td>[\"leisure\",\"society_&amp;_culture\",\"travel\"]</td>\n",
       "      <td>Join Tim and David as they uncover unique trav...</td>\n",
       "      <td>2kyOzc9Cw2LGcHXvPcxn3u</td>\n",
       "      <td>{\"facebook\":\"https://www.facebook.com/Travelin...</td>\n",
       "      <td>\"travel\"</td>\n",
       "      <td>{'average_rating': 4, 'rating_count': 12, 'rat...</td>\n",
       "      <td>{'instagram': 0, 'youtube': 116}</td>\n",
       "      <td>{'instagram': []}</td>\n",
       "      <td>[{'age_restricted': False, 'airDate': '2025071...</td>\n",
       "    </tr>\n",
       "    <tr>\n",
       "      <th>9</th>\n",
       "      <td>adatewithdateline</td>\n",
       "      <td>A Date With Dateline</td>\n",
       "      <td>1.244348e+09</td>\n",
       "      <td>https://storage.googleapis.com/core-production...</td>\n",
       "      <td>UCZKTsL2PL_QXFym29pZv7fw</td>\n",
       "      <td>[\"true_crime\",\"society_&amp;_culture\",\"comedy\"]</td>\n",
       "      <td>A Date With Dateline features Kimberly and Kat...</td>\n",
       "      <td>4srBB0Rb4vw0Kur08gfreU</td>\n",
       "      <td>{\"discord\":\"\",\"facebook\":null,\"instagram\":\"htt...</td>\n",
       "      <td>true_crime</td>\n",
       "      <td>{'average_rating': 4.6, 'rating_count': 5315, ...</td>\n",
       "      <td>{'instagram': 0, 'youtube': 2920}</td>\n",
       "      <td>{'instagram': []}</td>\n",
       "      <td>[]</td>\n",
       "    </tr>\n",
       "  </tbody>\n",
       "</table>\n",
       "</div>"
      ],
      "text/plain": [
       "                    id                             name      itunesID  \\\n",
       "0                 20vc      The Twenty Minute VC (20VC)  9.582305e+08   \n",
       "1                 402p                       4.0 To Pro  1.672464e+09   \n",
       "2  4thingswithamybrown          4 Things with Amy Brown  1.442391e+09   \n",
       "3          99invisible                    99% Invisible  3.947753e+08   \n",
       "4         Crimeatorium          Crimeatorium True Crime  1.724979e+09   \n",
       "5   Datingintelligence  Dating Intelligence the Podcast  1.513626e+09   \n",
       "6       MidnightBurger                  Midnight Burger  1.537653e+09   \n",
       "7        SPNthenandnow        Supernatural Then and Now  1.605385e+09   \n",
       "8         Travel-in-10     Travel in 10: Travel Podcast  8.326049e+07   \n",
       "9    adatewithdateline             A Date With Dateline  1.244348e+09   \n",
       "\n",
       "                                               image  \\\n",
       "0  https://static.libsyn.com/p/assets/d/2/b/a/d2b...   \n",
       "1  https://megaphone.imgix.net/podcasts/073cc458-...   \n",
       "2  https://www.omnycontent.com/d/playlist/e73c998...   \n",
       "3  https://storage.googleapis.com/core-dev-361305...   \n",
       "4  https://media.redcircle.com/images/2024/12/10/...   \n",
       "5  https://static.libsyn.com/p/assets/2/3/f/1/23f...   \n",
       "6  https://storage.googleapis.com/core-production...   \n",
       "7  https://storage.googleapis.com/core-production...   \n",
       "8  https://storage.googleapis.com/core-production...   \n",
       "9  https://storage.googleapis.com/core-production...   \n",
       "\n",
       "                  youtubeID  \\\n",
       "0  UCf0PBRjhf0rF8fWBIxTuoWA   \n",
       "1  UCzxISXhBIzA-2wsnC7z9_Aw   \n",
       "2  UC7qHbziuYTsDYp9OxYXOJOA   \n",
       "3  UCVMF2HD4ZgC0QHpU9Yq5Xrw   \n",
       "4  UCM_TCZ3r8wQGfol-C6CSKBw   \n",
       "5  UCcy0KXINyPCf6-lWEzFQTQg   \n",
       "6  UC4Hfu6qPbLI1Uecswv9Mm1g   \n",
       "7  UCHbjWmAa_7ixnzv1jlILv6A   \n",
       "8  UCLwR_buRFVTkb7yVWxc52-g   \n",
       "9  UCZKTsL2PL_QXFym29pZv7fw   \n",
       "\n",
       "                                          categories  \\\n",
       "0      [\"business\",\"society_&_culture\",\"technology\"]   \n",
       "1                   [\"sports\",\"education\",\"leisure\"]   \n",
       "2  [\"health&fitness\",\"society&_culture\",\"education\"]   \n",
       "3           [\"arts\",\"society_&_culture\",\"education\"]   \n",
       "4     [\"true_crime\",\"society_&_culture\",\"education\"]   \n",
       "5  [\"society_&_culture\",\"health&fitness\",\"educati...   \n",
       "6          [\"society_&_culture\",\"fiction\",\"leisure\"]   \n",
       "7         [\"tv_&_film\",\"society_&_culture\",\"comedy\"]   \n",
       "8           [\"leisure\",\"society_&_culture\",\"travel\"]   \n",
       "9        [\"true_crime\",\"society_&_culture\",\"comedy\"]   \n",
       "\n",
       "                                             summary               spotifyId  \\\n",
       "0  The Twenty Minute VC brings insightful intervi...  3j2KMcZTtgTNBKwtZBMHvl   \n",
       "1  4.0 to Pro is a pocket-sized podcast dedicated...  5xQf95A7d9UESlpZi2YGBZ   \n",
       "2  Join Amy Brown as she discusses 4 essential pr...  7qMQUCmvUFlqZ0J68anixa   \n",
       "3  Hosted by Roman Mars, 99% Invisible explores t...  2VRS1IJCTn2Nlkg33ZVfkM   \n",
       "4  Join Madeline O'Brien as she delves into lesse...  3DsvYLaAUl1NV0eUrr6uI1   \n",
       "5  Dating Intelligence the Podcast explores datin...  51I5oHDuLzecFM2VC2Elm1   \n",
       "6  Midnight Burger is a whimsical audio journey w...  3flVB3CeXIfVHwXjcKkNk8   \n",
       "7  Supernatural Then and Now takes fans on a jour...  1c6D3QoBrXq9YezlQM1uer   \n",
       "8  Join Tim and David as they uncover unique trav...  2kyOzc9Cw2LGcHXvPcxn3u   \n",
       "9  A Date With Dateline features Kimberly and Kat...  4srBB0Rb4vw0Kur08gfreU   \n",
       "\n",
       "                                         socialLinks           category  \\\n",
       "0  {\"facebook\":\"https://www.facebook.com/The Twen...           business   \n",
       "1  {\"applePodcasts\":\"https://podcasts.apple.com/u...             sports   \n",
       "2  {\"applePodcasts\":\"https://podcasts.apple.com/u...     health&fitness   \n",
       "3  {\"facebook\":\"https://www.facebook.com/99percen...  society_&_culture   \n",
       "4  {\"facebook\":\"https://www.facebook.com/Crimeato...         true_crime   \n",
       "5  {\"facebook\":null,\"instagram\":\"https://www.inst...  society_&_culture   \n",
       "6  {\"facebook\":\"https://www.facebook.com/Midnight...            fiction   \n",
       "7  {\"facebook\":null,\"instagram\":\"https://www.inst...  society_&_culture   \n",
       "8  {\"facebook\":\"https://www.facebook.com/Travelin...           \"travel\"   \n",
       "9  {\"discord\":\"\",\"facebook\":null,\"instagram\":\"htt...         true_crime   \n",
       "\n",
       "                                       apple_reviews  \\\n",
       "0  {'average_rating': 4.4, 'rating_count': 479, '...   \n",
       "1  {'average_rating': 4.9, 'rating_count': 339, '...   \n",
       "2  {'average_rating': 4.9, 'rating_count': 5232, ...   \n",
       "3  {'average_rating': 4.8, 'rating_count': 25366,...   \n",
       "4  {'average_rating': None, 'rating_count': None,...   \n",
       "5  {'average_rating': 4.9, 'rating_count': 30, 'r...   \n",
       "6  {'average_rating': 4.9, 'rating_count': 2021, ...   \n",
       "7  {'average_rating': 4.9, 'rating_count': 1991, ...   \n",
       "8  {'average_rating': 4, 'rating_count': 12, 'rat...   \n",
       "9  {'average_rating': 4.6, 'rating_count': 5315, ...   \n",
       "\n",
       "                           followers_count  \\\n",
       "0  {'instagram': 11470, 'youtube': 160000}   \n",
       "1     {'instagram': 3454, 'youtube': 1060}   \n",
       "2                    {'instagram': 623540}   \n",
       "3   {'instagram': 87855, 'youtube': 11400}   \n",
       "4       {'instagram': 0, 'youtube': 21900}   \n",
       "5                         {'instagram': 0}   \n",
       "6                         {'instagram': 0}   \n",
       "7        {'instagram': 0, 'youtube': 4130}   \n",
       "8         {'instagram': 0, 'youtube': 116}   \n",
       "9        {'instagram': 0, 'youtube': 2920}   \n",
       "\n",
       "                                        recent_posts  \\\n",
       "0  {'instagram': [{'caption': 'Cos all the best a...   \n",
       "1  {'instagram': [{'caption': '@4.0_to_pro Custom...   \n",
       "2  {'instagram': [{'caption': 'only the best for ...   \n",
       "3  {'instagram': [{'caption': '99% Invisible invi...   \n",
       "4                                  {'instagram': []}   \n",
       "5                                  {'instagram': []}   \n",
       "6                                  {'instagram': []}   \n",
       "7                                  {'instagram': []}   \n",
       "8                                  {'instagram': []}   \n",
       "9                                  {'instagram': []}   \n",
       "\n",
       "                                      youtube_videos  \n",
       "0  [{'age_restricted': False, 'airDate': '2025072...  \n",
       "1  [{'age_restricted': False, 'airDate': '2025071...  \n",
       "2                                                NaN  \n",
       "3  [{'age_restricted': False, 'airDate': '2025071...  \n",
       "4                                                 []  \n",
       "5                                                NaN  \n",
       "6                                                NaN  \n",
       "7  [{'age_restricted': False, 'airDate': '2025071...  \n",
       "8  [{'age_restricted': False, 'airDate': '2025071...  \n",
       "9                                                 []  "
      ]
     },
     "execution_count": 5,
     "metadata": {},
     "output_type": "execute_result"
    }
   ],
   "source": [
    "\n",
    "pods = pd.read_csv(\"./1_pods_with_scrapped_data.csv\")\n",
    "pods.head(10)\n"
   ]
  },
  {
   "cell_type": "code",
   "execution_count": 26,
   "id": "be4a107b",
   "metadata": {},
   "outputs": [
    {
     "name": "stdout",
     "output_type": "stream",
     "text": [
      "Found 31 pods without YouTube videos\n",
      "Found 31 pods without YouTube videos\n",
      "['UC7qHbziuYTsDYp9OxYXOJOA', 'UCcy0KXINyPCf6-lWEzFQTQg', 'UC4Hfu6qPbLI1Uecswv9Mm1g', 'UCoxza7rTVHE09GYLTh-QEOQ', 'UCP79TAt63VGJc-CheIm64aA', 'UCf5nlJFACZ2nUxOP87efMwA', 'UCmTcd3n8vAufGFV83fC87UA', 'UCEg_3EWYw7GdGr1m5Qu2QuQ', 'UC98f9qRr1AVxp1ucGGwiIkA', 'UCvPtZNWnrt70fKmqvoqW3OQ', 'UCmTcd3n8vAufGFV83fC87UA', 'UCLtREJY21xRfCuEKvdki1Kw', 'UCxoL7OXNn-JuGzZj7LQrtIA', 'UCvxWyn4rfcI2H9APhfUIB1Q', 'UC0A-v_DL-h76F75xik8h03Q', 'UCOPKJU_uSOH20DLRd1mSyNA', 'UCq_o0YLzQAaJDItIOa2T5xw', 'UC0o0Ge78Msm6HtACPXKESDQ', 'UCKhVag9OGIOJu_x430Dmedw', 'UCdDWGuTxkvpmD6tcZP2Gh9g', 'UCSvlnWkA909f87KjcaSZyPQ', 'UCT6QFE3peNry9PdO5uGj96g', 'UC-0xJNkg_MIeOs2XcDEFnbQ', 'UChFAxSGg6qtp9n7sZIoePHw', 'UCumRoq4stXAAVsSo5Js1_sg', 'UC83CJFLyDe72XgkKBd5a9IA', 'UCfcMA_uz6raLWfj-9S-uBoQ', 'UCXHiYKVUxYtaX151ezwaotQ', 'UCnp2k_FBdUOmwb05LDNv34w', 'UCleQU3Ro70D6z6o46wLt3tg', 'UCuKYdhaKACkpGeSzKfc4dtg']\n"
     ]
    },
    {
     "name": "stderr",
     "output_type": "stream",
     "text": [
      "100%|██████████| 31/31 [00:00<00:00, 20823.74it/s]\n"
     ]
    }
   ],
   "source": [
    "\n",
    "\n",
    "\n",
    "# Get all pods with no YouTube videos\n",
    "no_youtube_pods = pods[\n",
    "    pods['youtube_videos'].isna() | \n",
    "    (pods['youtube_videos'].apply(lambda x: x is None or (isinstance(x, list) and len(x) == 0)))\n",
    "]\n",
    "\n",
    "print(f\"Found {len(no_youtube_pods)} pods without YouTube videos\")\n",
    "print(f\"Found {len(no_youtube_pods)} pods without YouTube videos\")\n",
    "\n",
    "youtubeids = no_youtube_pods['youtubeID'].tolist()\n",
    "\n",
    "print(youtubeids)\n",
    "\n",
    "for index, pod in tqdm(no_youtube_pods.iterrows(), total=len(no_youtube_pods)):\n",
    "# for index, pod in tqdm(pods.head(2).iterrows(), total=10):\n",
    "    get_pod_all_info(pod, index)\n"
   ]
  },
  {
   "cell_type": "code",
   "execution_count": 27,
   "id": "d4e73d23",
   "metadata": {},
   "outputs": [],
   "source": [
    "pods.to_csv(\"1_pods_with_scrapped_data.csv\", index=False)"
   ]
  },
  {
   "cell_type": "code",
   "execution_count": null,
   "id": "64cd986c",
   "metadata": {},
   "outputs": [],
   "source": []
  }
 ],
 "metadata": {
  "kernelspec": {
   "display_name": "Python 3",
   "language": "python",
   "name": "python3"
  },
  "language_info": {
   "codemirror_mode": {
    "name": "ipython",
    "version": 3
   },
   "file_extension": ".py",
   "mimetype": "text/x-python",
   "name": "python",
   "nbconvert_exporter": "python",
   "pygments_lexer": "ipython3",
   "version": "3.13.5"
  }
 },
 "nbformat": 4,
 "nbformat_minor": 5
}

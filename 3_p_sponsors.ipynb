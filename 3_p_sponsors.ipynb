{
 "cells": [
  {
   "cell_type": "code",
   "execution_count": 4,
   "id": "e6140cc9",
   "metadata": {},
   "outputs": [],
   "source": [
    "import pandas as pd\n",
    "\n",
    "# do for 10 shows\n",
    "from tqdm import tqdm\n",
    "import time\n",
    "import difflib\n",
    "import json\n",
    "from openai import OpenAI\n",
    "import json\n",
    "import os\n",
    "import ast\n",
    "import tiktoken\n",
    "import datetime\n",
    "from concurrent.futures import ThreadPoolExecutor, as_completed\n",
    "\n",
    "import asyncio\n",
    "\n",
    "\n",
    "\n",
    "\n",
    "\n",
    "\n",
    "\n"
   ]
  },
  {
   "cell_type": "code",
   "execution_count": 5,
   "id": "059d58b9",
   "metadata": {},
   "outputs": [
    {
     "name": "stdout",
     "output_type": "stream",
     "text": [
      "total pods:  275\n"
     ]
    },
    {
     "data": {
      "text/html": [
       "<div>\n",
       "<style scoped>\n",
       "    .dataframe tbody tr th:only-of-type {\n",
       "        vertical-align: middle;\n",
       "    }\n",
       "\n",
       "    .dataframe tbody tr th {\n",
       "        vertical-align: top;\n",
       "    }\n",
       "\n",
       "    .dataframe thead th {\n",
       "        text-align: right;\n",
       "    }\n",
       "</style>\n",
       "<table border=\"1\" class=\"dataframe\">\n",
       "  <thead>\n",
       "    <tr style=\"text-align: right;\">\n",
       "      <th></th>\n",
       "      <th>id</th>\n",
       "      <th>name</th>\n",
       "      <th>itunesID</th>\n",
       "      <th>image</th>\n",
       "      <th>youtubeID</th>\n",
       "      <th>categories</th>\n",
       "      <th>summary</th>\n",
       "      <th>spotifyId</th>\n",
       "      <th>socialLinks</th>\n",
       "      <th>category</th>\n",
       "      <th>apple_reviews</th>\n",
       "      <th>followers_count</th>\n",
       "      <th>recent_posts</th>\n",
       "      <th>youtube_videos</th>\n",
       "    </tr>\n",
       "  </thead>\n",
       "  <tbody>\n",
       "    <tr>\n",
       "      <th>0</th>\n",
       "      <td>20vc</td>\n",
       "      <td>The Twenty Minute VC (20VC)</td>\n",
       "      <td>9.582305e+08</td>\n",
       "      <td>https://static.libsyn.com/p/assets/d/2/b/a/d2b...</td>\n",
       "      <td>UCf0PBRjhf0rF8fWBIxTuoWA</td>\n",
       "      <td>[\"business\",\"society_&amp;_culture\",\"technology\"]</td>\n",
       "      <td>The Twenty Minute VC brings insightful intervi...</td>\n",
       "      <td>3j2KMcZTtgTNBKwtZBMHvl</td>\n",
       "      <td>{\"facebook\":\"https://www.facebook.com/The Twen...</td>\n",
       "      <td>business</td>\n",
       "      <td>{'average_rating': 4.4, 'rating_count': 479, '...</td>\n",
       "      <td>{'instagram': 11470, 'youtube': 160000}</td>\n",
       "      <td>{'instagram': [{'caption': 'Cos all the best a...</td>\n",
       "      <td>[{'age_restricted': False, 'airDate': '2025072...</td>\n",
       "    </tr>\n",
       "    <tr>\n",
       "      <th>1</th>\n",
       "      <td>402p</td>\n",
       "      <td>4.0 To Pro</td>\n",
       "      <td>1.672464e+09</td>\n",
       "      <td>https://megaphone.imgix.net/podcasts/073cc458-...</td>\n",
       "      <td>UCzxISXhBIzA-2wsnC7z9_Aw</td>\n",
       "      <td>[\"sports\",\"education\",\"leisure\"]</td>\n",
       "      <td>4.0 to Pro is a pocket-sized podcast dedicated...</td>\n",
       "      <td>5xQf95A7d9UESlpZi2YGBZ</td>\n",
       "      <td>{\"applePodcasts\":\"https://podcasts.apple.com/u...</td>\n",
       "      <td>sports</td>\n",
       "      <td>{'average_rating': 4.9, 'rating_count': 339, '...</td>\n",
       "      <td>{'instagram': 3454, 'youtube': 1060}</td>\n",
       "      <td>{'instagram': [{'caption': '@4.0_to_pro Custom...</td>\n",
       "      <td>[{'age_restricted': False, 'airDate': '2025071...</td>\n",
       "    </tr>\n",
       "    <tr>\n",
       "      <th>2</th>\n",
       "      <td>4thingswithamybrown</td>\n",
       "      <td>4 Things with Amy Brown</td>\n",
       "      <td>1.442391e+09</td>\n",
       "      <td>https://www.omnycontent.com/d/playlist/e73c998...</td>\n",
       "      <td>UC7qHbziuYTsDYp9OxYXOJOA</td>\n",
       "      <td>[\"health&amp;fitness\",\"society&amp;_culture\",\"education\"]</td>\n",
       "      <td>Join Amy Brown as she discusses 4 essential pr...</td>\n",
       "      <td>7qMQUCmvUFlqZ0J68anixa</td>\n",
       "      <td>{\"applePodcasts\":\"https://podcasts.apple.com/u...</td>\n",
       "      <td>health&amp;fitness</td>\n",
       "      <td>{'average_rating': 4.9, 'rating_count': 5232, ...</td>\n",
       "      <td>{'instagram': 623564}</td>\n",
       "      <td>{'instagram': [{'caption': 'only the best for ...</td>\n",
       "      <td>NaN</td>\n",
       "    </tr>\n",
       "    <tr>\n",
       "      <th>3</th>\n",
       "      <td>99invisible</td>\n",
       "      <td>99% Invisible</td>\n",
       "      <td>3.947753e+08</td>\n",
       "      <td>https://storage.googleapis.com/core-dev-361305...</td>\n",
       "      <td>UCVMF2HD4ZgC0QHpU9Yq5Xrw</td>\n",
       "      <td>[\"arts\",\"society_&amp;_culture\",\"education\"]</td>\n",
       "      <td>Hosted by Roman Mars, 99% Invisible explores t...</td>\n",
       "      <td>2VRS1IJCTn2Nlkg33ZVfkM</td>\n",
       "      <td>{\"facebook\":\"https://www.facebook.com/99percen...</td>\n",
       "      <td>society_&amp;_culture</td>\n",
       "      <td>{'average_rating': 4.8, 'rating_count': 25366,...</td>\n",
       "      <td>{'instagram': 87855, 'youtube': 11400}</td>\n",
       "      <td>{'instagram': [{'caption': '99% Invisible invi...</td>\n",
       "      <td>[{'age_restricted': False, 'airDate': '2025071...</td>\n",
       "    </tr>\n",
       "    <tr>\n",
       "      <th>4</th>\n",
       "      <td>Crimeatorium</td>\n",
       "      <td>Crimeatorium True Crime</td>\n",
       "      <td>1.724979e+09</td>\n",
       "      <td>https://media.redcircle.com/images/2024/12/10/...</td>\n",
       "      <td>UCM_TCZ3r8wQGfol-C6CSKBw</td>\n",
       "      <td>[\"true_crime\",\"society_&amp;_culture\",\"education\"]</td>\n",
       "      <td>Join Madeline O'Brien as she delves into lesse...</td>\n",
       "      <td>3DsvYLaAUl1NV0eUrr6uI1</td>\n",
       "      <td>{\"facebook\":\"https://www.facebook.com/Crimeato...</td>\n",
       "      <td>true_crime</td>\n",
       "      <td>{'average_rating': None, 'rating_count': None,...</td>\n",
       "      <td>{'instagram': 0, 'youtube': 21900}</td>\n",
       "      <td>{'instagram': []}</td>\n",
       "      <td>[]</td>\n",
       "    </tr>\n",
       "  </tbody>\n",
       "</table>\n",
       "</div>"
      ],
      "text/plain": [
       "                    id                         name      itunesID  \\\n",
       "0                 20vc  The Twenty Minute VC (20VC)  9.582305e+08   \n",
       "1                 402p                   4.0 To Pro  1.672464e+09   \n",
       "2  4thingswithamybrown      4 Things with Amy Brown  1.442391e+09   \n",
       "3          99invisible                99% Invisible  3.947753e+08   \n",
       "4         Crimeatorium      Crimeatorium True Crime  1.724979e+09   \n",
       "\n",
       "                                               image  \\\n",
       "0  https://static.libsyn.com/p/assets/d/2/b/a/d2b...   \n",
       "1  https://megaphone.imgix.net/podcasts/073cc458-...   \n",
       "2  https://www.omnycontent.com/d/playlist/e73c998...   \n",
       "3  https://storage.googleapis.com/core-dev-361305...   \n",
       "4  https://media.redcircle.com/images/2024/12/10/...   \n",
       "\n",
       "                  youtubeID  \\\n",
       "0  UCf0PBRjhf0rF8fWBIxTuoWA   \n",
       "1  UCzxISXhBIzA-2wsnC7z9_Aw   \n",
       "2  UC7qHbziuYTsDYp9OxYXOJOA   \n",
       "3  UCVMF2HD4ZgC0QHpU9Yq5Xrw   \n",
       "4  UCM_TCZ3r8wQGfol-C6CSKBw   \n",
       "\n",
       "                                          categories  \\\n",
       "0      [\"business\",\"society_&_culture\",\"technology\"]   \n",
       "1                   [\"sports\",\"education\",\"leisure\"]   \n",
       "2  [\"health&fitness\",\"society&_culture\",\"education\"]   \n",
       "3           [\"arts\",\"society_&_culture\",\"education\"]   \n",
       "4     [\"true_crime\",\"society_&_culture\",\"education\"]   \n",
       "\n",
       "                                             summary               spotifyId  \\\n",
       "0  The Twenty Minute VC brings insightful intervi...  3j2KMcZTtgTNBKwtZBMHvl   \n",
       "1  4.0 to Pro is a pocket-sized podcast dedicated...  5xQf95A7d9UESlpZi2YGBZ   \n",
       "2  Join Amy Brown as she discusses 4 essential pr...  7qMQUCmvUFlqZ0J68anixa   \n",
       "3  Hosted by Roman Mars, 99% Invisible explores t...  2VRS1IJCTn2Nlkg33ZVfkM   \n",
       "4  Join Madeline O'Brien as she delves into lesse...  3DsvYLaAUl1NV0eUrr6uI1   \n",
       "\n",
       "                                         socialLinks           category  \\\n",
       "0  {\"facebook\":\"https://www.facebook.com/The Twen...           business   \n",
       "1  {\"applePodcasts\":\"https://podcasts.apple.com/u...             sports   \n",
       "2  {\"applePodcasts\":\"https://podcasts.apple.com/u...     health&fitness   \n",
       "3  {\"facebook\":\"https://www.facebook.com/99percen...  society_&_culture   \n",
       "4  {\"facebook\":\"https://www.facebook.com/Crimeato...         true_crime   \n",
       "\n",
       "                                       apple_reviews  \\\n",
       "0  {'average_rating': 4.4, 'rating_count': 479, '...   \n",
       "1  {'average_rating': 4.9, 'rating_count': 339, '...   \n",
       "2  {'average_rating': 4.9, 'rating_count': 5232, ...   \n",
       "3  {'average_rating': 4.8, 'rating_count': 25366,...   \n",
       "4  {'average_rating': None, 'rating_count': None,...   \n",
       "\n",
       "                           followers_count  \\\n",
       "0  {'instagram': 11470, 'youtube': 160000}   \n",
       "1     {'instagram': 3454, 'youtube': 1060}   \n",
       "2                    {'instagram': 623564}   \n",
       "3   {'instagram': 87855, 'youtube': 11400}   \n",
       "4       {'instagram': 0, 'youtube': 21900}   \n",
       "\n",
       "                                        recent_posts  \\\n",
       "0  {'instagram': [{'caption': 'Cos all the best a...   \n",
       "1  {'instagram': [{'caption': '@4.0_to_pro Custom...   \n",
       "2  {'instagram': [{'caption': 'only the best for ...   \n",
       "3  {'instagram': [{'caption': '99% Invisible invi...   \n",
       "4                                  {'instagram': []}   \n",
       "\n",
       "                                      youtube_videos  \n",
       "0  [{'age_restricted': False, 'airDate': '2025072...  \n",
       "1  [{'age_restricted': False, 'airDate': '2025071...  \n",
       "2                                                NaN  \n",
       "3  [{'age_restricted': False, 'airDate': '2025071...  \n",
       "4                                                 []  "
      ]
     },
     "execution_count": 5,
     "metadata": {},
     "output_type": "execute_result"
    }
   ],
   "source": [
    "pods = pd.read_csv(\"./1_pods_with_scrapped_data.csv\")\n",
    "\n",
    "print(\"total pods: \", len(pods))\n",
    "pods.head()\n"
   ]
  },
  {
   "cell_type": "code",
   "execution_count": 6,
   "id": "61806527",
   "metadata": {},
   "outputs": [],
   "source": [
    "\n",
    "os.environ[\"OPENAI_API_KEY\"] = \"your-openai-api-key-here"\n",
    "\n",
    "\n",
    "client = OpenAI()"
   ]
  },
  {
   "cell_type": "code",
   "execution_count": 7,
   "id": "320efcab",
   "metadata": {},
   "outputs": [],
   "source": [
    "transcripts = {}\n",
    "\n",
    "def save_transcripts_to_file():\n",
    "    \"\"\"Save all transcripts to JSON file\"\"\"\n",
    "    with open(\"video-transcripts.json\", \"w\") as f:\n",
    "        json.dump(transcripts, f, indent=2)\n",
    "\n",
    "def load_transcripts_from_file():\n",
    "    \"\"\"Load transcripts from JSON file\"\"\"\n",
    "    global transcripts\n",
    "    try:\n",
    "        with open(\"video-transcripts.json\", \"r\") as f:\n",
    "            transcripts = json.load(f)\n",
    "    except FileNotFoundError:\n",
    "        transcripts = {}\n",
    "\n",
    "def store_transcript(video_id, transcript_text):\n",
    "    \"\"\"Store transcript for a video\"\"\"\n",
    "    transcripts[video_id] = transcript_text\n",
    "    save_transcripts_to_file()\n",
    "\n",
    "def get_transcript(video_id):\n",
    "    \"\"\"Get transcript by video ID\"\"\"\n",
    "    return transcripts.get(video_id, \"\")\n",
    "\n",
    "load_transcripts_from_file()\n",
    "\n"
   ]
  },
  {
   "cell_type": "code",
   "execution_count": 8,
   "id": "3c14293d",
   "metadata": {},
   "outputs": [],
   "source": [
    "def count_tokens(text, model=\"gpt-4o\"):\n",
    "    enc = tiktoken.encoding_for_model(model)\n",
    "    return len(enc.encode(text))"
   ]
  },
  {
   "cell_type": "code",
   "execution_count": 9,
   "id": "a7d9fa07",
   "metadata": {},
   "outputs": [],
   "source": [
    "def chunk_transcript(transcript, chunk_size=600):  # 600 seconds = 10 minutes\n",
    "    chunks = []\n",
    "    current_chunk = []\n",
    "    current_start = 0\n",
    "\n",
    "    for item in transcript:\n",
    "        if not current_chunk or item['start'] - current_start <= chunk_size:\n",
    "            current_chunk.append(item)\n",
    "        else:\n",
    "            chunks.append(current_chunk)\n",
    "            current_chunk = [item]\n",
    "            current_start = item['start']\n",
    "    \n",
    "    if current_chunk:\n",
    "        chunks.append(current_chunk)\n",
    "    \n",
    "    return chunks\n",
    "\n",
    "def normalize_sponsor_name(name):\n",
    "    return name.lower().strip()\n",
    "\n",
    "def merge_sponsor_chunks(all_results):\n",
    "    MAX_DURATION = 600  # 10 minutes\n",
    "    seen = {}\n",
    "\n",
    "    for sponsor in all_results:\n",
    "        if not isinstance(sponsor, dict):\n",
    "            continue\n",
    "\n",
    "        domain = sponsor.get(\"domain\", \"\")\n",
    "        if not domain:\n",
    "            continue\n",
    "\n",
    "        key = normalize_sponsor_name(domain)\n",
    "        start = sponsor.get(\"startTime\")\n",
    "        end = sponsor.get(\"endTime\")\n",
    "\n",
    "        # Convert to float if needed\n",
    "        try:\n",
    "            start = float(start) if start is not None else None\n",
    "            end = float(end) if end is not None else None\n",
    "        except (ValueError, TypeError):\n",
    "            continue\n",
    "\n",
    "        # Skip if no valid time range\n",
    "        if start is None and end is None:\n",
    "            continue\n",
    "\n",
    "        # Set start=end if one is missing (fallback)\n",
    "        if start is None: start = end\n",
    "        if end is None: end = start\n",
    "\n",
    "        # If duration is too long, skip\n",
    "        if abs(end - start) > MAX_DURATION:\n",
    "            continue\n",
    "\n",
    "        if key in seen:\n",
    "            prev = seen[key]\n",
    "            merged_start = min(prev[\"startTime\"], start)\n",
    "            merged_end = max(prev[\"endTime\"], end)\n",
    "            duration = merged_end - merged_start\n",
    "\n",
    "            # Only update if merged duration is valid\n",
    "            if duration <= MAX_DURATION:\n",
    "                prev[\"startTime\"] = merged_start\n",
    "                prev[\"endTime\"] = merged_end\n",
    "        else:\n",
    "            seen[key] = {\n",
    "                **sponsor,\n",
    "                \"startTime\": start,\n",
    "                \"endTime\": end\n",
    "            }\n",
    "\n",
    "    return list(seen.values())\n",
    "    seen = {}\n",
    "\n",
    "    for sponsor in all_results:\n",
    "        if not isinstance(sponsor, dict):\n",
    "            print(\"❌ Skipping non-dict sponsor:\", sponsor)\n",
    "            continue\n",
    "\n",
    "        domain = sponsor.get(\"domain\", \"\")\n",
    "        if not domain:\n",
    "            print(\"❌ Skipping sponsor with missing/empty domain:\", sponsor)\n",
    "            continue\n",
    "\n",
    "        key = normalize_sponsor_name(domain)\n",
    "\n",
    "        start = sponsor.get(\"startTime\")\n",
    "        end = sponsor.get(\"endTime\")\n",
    "\n",
    "        # If both start and end are None or invalid, skip\n",
    "        if start is None and end is None:\n",
    "            print(\"⚠️ No valid time range found, skipping:\", sponsor)\n",
    "            continue\n",
    "\n",
    "        # If time values are strings, try to convert to float\n",
    "        try:\n",
    "            if isinstance(start, str): start = float(start)\n",
    "            if isinstance(end, str): end = float(end)\n",
    "        except ValueError:\n",
    "            print(\"⚠️ Invalid time values, skipping:\", sponsor)\n",
    "            continue\n",
    "\n",
    "        if key in seen:\n",
    "            prev = seen[key]\n",
    "\n",
    "            # Use the minimum start and maximum end if available\n",
    "            prev[\"startTime\"] = min(\n",
    "                val for val in [prev.get(\"startTime\"), start] if val is not None\n",
    "            )\n",
    "            prev[\"endTime\"] = max(\n",
    "                val for val in [prev.get(\"endTime\"), end] if val is not None\n",
    "            )\n",
    "        else:\n",
    "            sponsor[\"startTime\"] = start\n",
    "            sponsor[\"endTime\"] = end\n",
    "            seen[key] = sponsor\n",
    "\n",
    "    return list(seen.values())"
   ]
  },
  {
   "cell_type": "code",
   "execution_count": 28,
   "id": "3a138618",
   "metadata": {},
   "outputs": [],
   "source": [
    "def prepare_transcript(transcript, max_chars=400000):\n",
    "    \"\"\"\n",
    "    Combine transcript into a single string with timestamps.\n",
    "    Truncate if exceeds max_chars.\n",
    "    \"\"\"\n",
    "    combined = []\n",
    "    total_length = 0\n",
    "\n",
    "    for item in transcript:\n",
    "        text_piece = f\"[{item['start']}s] {item['text']} \"\n",
    "        if total_length + len(text_piece) > max_chars:\n",
    "            break\n",
    "        combined.append(text_piece)\n",
    "        total_length += len(text_piece)\n",
    "    \n",
    "    return \"\".join(combined)\n",
    "\n",
    "    \n",
    "\n",
    "async def extract_sponsors_from_transcript(transcripts, description):\n",
    "    \"\"\"\n",
    "    Extract sponsors from full transcript (up to max_chars) and description.\n",
    "    \"\"\"\n",
    "\n",
    "    transcript_text= prepare_transcript(transcripts)\n",
    "    prompt = f\"\"\"\n",
    "    You are an assistant helping extract **sponsor mentions** from a **chunked podcast transcript** and a **YouTube description**.\n",
    "\n",
    "    ---\n",
    "\n",
    "    Your task:\n",
    "    Identify brands, products, or services that are being **sponsored** or **promoted** in this transcript chunk. The sponsor must be **mentioned in the transcript** — even partially — and the **description can be used only to enrich information** like brand name or domain.\n",
    "\n",
    "    ---\n",
    "\n",
    "    Strict Rules:\n",
    "    => Only include sponsors that are clearly promoted in the show, not brands that are mentioned casually or discussed without a promotional intent.\n",
    "    => Only include a sponsor if it appears in this transcript chunk — even if it's partial or cut off due to chunking.\n",
    "    => **Do not include any sponsor that appears only in the YouTube description** and is not mentioned in this transcript chunk.\n",
    "    => The YouTube description may be used to enrich the sponsor info (like full domain or full brand name), but never to introduce new sponsors.\n",
    "    => Estimate `startTime` and `endTime` if time references are present, otherwise use start and end of the transcript chunk.\n",
    "    => Typical sponsor signals: “sponsored by”, “use code”, “brought to you by”, “check out”, “this episode is presented by”, etc.\n",
    "    => Get links of the sponsor from the description including the coupon code if available. if no links are found, then put their original domain.\n",
    "\n",
    "    Exclusion Criteria\n",
    "        => General Brand Mentions\n",
    "        Do not include casual or unrelated mentions of products or brands unless there is a clear sponsor signal.\n",
    "        => Description-Only Mentions\n",
    "        Never introduce a sponsor solely because it appears in the YouTube description. do check in transcript as well.\n",
    "    ---\n",
    "\n",
    "    Do NOT include:\n",
    "    - Mentions from YouTube description alone (with no matching transcript evidence).\n",
    "    - Mentions of social media accounts.\n",
    "    - Product mentions that don't suggest sponsorship.\n",
    "\n",
    "    ---\n",
    "\n",
    "    Output Format (JSON only, no markdown, no explanation):\n",
    "    [\n",
    "    {{\n",
    "        \"sponsorName\": \"Brand name\",\n",
    "        \"sponsorCode\": \"code\", if available, otherwise null\n",
    "        \"startTime\": 123,  // in seconds,\n",
    "        \"endTime\": 135,    // in seconds, \n",
    "        \"domain\": \"example.com\"  // from YouTube description if available, or null\n",
    "    }},\n",
    "    ...\n",
    "    ]\n",
    "\n",
    "    If no sponsors are found in this chunk, return `[]`.\n",
    "\n",
    "    ---\n",
    "\n",
    "    Transcript Chunk:\n",
    "    {transcript_text}\n",
    "\n",
    "    ---\n",
    "\n",
    "    YouTube Description (for enrichment only):\n",
    "    {description}\n",
    "    \"\"\"\n",
    "\n",
    "    response = client.responses.create(\n",
    "        model= \"gpt-4o\",\n",
    "        input=prompt,\n",
    "        temperature=0\n",
    "    )\n",
    "\n",
    "    raw_output =  response.output_text.strip()\n",
    "\n",
    "    # Remove code fences like ```json and ```\n",
    "    if raw_output.startswith(\"```\"):\n",
    "        raw_output = raw_output.strip(\"`\")\n",
    "        raw_output = raw_output.replace(\"json\\n\", \"\").replace(\"json\", \"\")\n",
    "\n",
    "    try:\n",
    "        sponsors = json.loads(raw_output)\n",
    "    except Exception as e:\n",
    "        print(\"Exception: \", e)\n",
    "        sponsors = []\n",
    "\n",
    "    return sponsors"
   ]
  },
  {
   "cell_type": "code",
   "execution_count": 11,
   "id": "331c311a",
   "metadata": {},
   "outputs": [],
   "source": [
    "def string_to_list(youtube_videos):\n",
    "        # Handle NaN values first\n",
    "    if pd.isna(youtube_videos) or youtube_videos is None:\n",
    "        youtube_videos = []\n",
    "    elif isinstance(youtube_videos, str):\n",
    "        # Try to parse string as JSON or Python literal\n",
    "        try:\n",
    "            # First try JSON parsing\n",
    "            youtube_videos = json.loads(youtube_videos)\n",
    "        except (json.JSONDecodeError, ValueError):\n",
    "            try:\n",
    "                # Then try Python literal evaluation (for string representations of lists)\n",
    "                youtube_videos = ast.literal_eval(youtube_videos)\n",
    "            except (ValueError, SyntaxError):\n",
    "                print(f\"Warning: Could not parse youtube_videos string for pod_id {pod_id}\")\n",
    "                youtube_videos = []\n",
    "    elif not isinstance(youtube_videos, list):\n",
    "        print(f\"Warning: youtube_videos is unexpected type {type(youtube_videos)} for pod_id {pod_id}\")\n",
    "        youtube_videos = []\n",
    "    return youtube_videos"
   ]
  },
  {
   "cell_type": "code",
   "execution_count": 41,
   "id": "9bf62a78",
   "metadata": {},
   "outputs": [],
   "source": [
    "async def split_and_get_sponsors(transcript, description):\n",
    "    transcript_chunks = chunk_transcript(transcript)\n",
    " # Run all chunk processing concurrently\n",
    "    tasks = [\n",
    "        extract_sponsors_from_transcript(chunk, description)\n",
    "        for chunk in transcript_chunks\n",
    "    ]\n",
    "    all_sponsors_chunks = await asyncio.gather(*tasks)\n",
    "\n",
    "    flat_sponsors = [sponsor for chunk in all_sponsors_chunks for sponsor in chunk]\n",
    "    all_sponsors = merge_sponsor_chunks(flat_sponsors)\n",
    "    return all_sponsors"
   ]
  },
  {
   "cell_type": "code",
   "execution_count": 65,
   "id": "a74bf2fd",
   "metadata": {},
   "outputs": [],
   "source": [
    "noSponsor = {\n",
    "    \"episodeType\": \"nosponsors\",\n",
    "    \"startTime\": 0,\n",
    "    \"endTime\": 0,\n",
    "    \"domain\": \"nosponsors\",\n",
    "    \"sponsorName\": \"nosponsors\",\n",
    "}"
   ]
  },
  {
   "cell_type": "code",
   "execution_count": 61,
   "id": "90723d3a",
   "metadata": {},
   "outputs": [],
   "source": [
    "async def generate_and_store_sponsor_for_show(pod, index):\n",
    "    pod_id = pod[\"id\"]\n",
    "    youtube_videos = pod.get(\"youtube_videos\", [])\n",
    "\n",
    "    youtube_videos = string_to_list(youtube_videos)\n",
    "    \n",
    "    print(\"pod_id:\", pod_id, \"videos\", len(youtube_videos))\n",
    "\n",
    "    sponsor_df = pd.DataFrame()  # ✅ Initialize before use\n",
    "\n",
    "    for video in youtube_videos:\n",
    "        existing_sponsors = all_sponsors_df[(all_sponsors_df[\"episodeId\"] == video[\"youtubeVideoId\"]) & (all_sponsors_df[\"episodeType\"] == \"youtube\")]\n",
    "        if len(existing_sponsors) > 0:\n",
    "            print(f\"Skipping video {video['youtubeVideoId']} because it already has sponsors\")\n",
    "            continue\n",
    "        video_id = video[\"youtubeVideoId\"]\n",
    "        description = video[\"description\"]\n",
    "        print(\"video_id\", video_id)\n",
    "        transcript = get_transcript(video_id)\n",
    "        transcriptByWords = transcript[\"transcriptByWords\"]\n",
    "        all_sponsors = await split_and_get_sponsors(transcriptByWords, description)\n",
    "        if len(all_sponsors) == 0:\n",
    "            all_sponsors = [noSponsor]\n",
    "        for s in all_sponsors:\n",
    "            s[\"clientId\"] = pod_id\n",
    "            s[\"episodeId\"] = video_id\n",
    "            s[\"episodeType\"] = \"youtube\"\n",
    "            s[\"createdAt\"] = datetime.datetime.now().isoformat()\n",
    "            s[\"airDate\"] = video[\"airDate\"]\n",
    "        sponsor_df = pd.concat([sponsor_df, pd.DataFrame(all_sponsors)], ignore_index=True)\n",
    "\n",
    "\n",
    "    return sponsor_df\n",
    "    # Rest of your function logic here..."
   ]
  },
  {
   "cell_type": "code",
   "execution_count": 54,
   "id": "a567c489",
   "metadata": {},
   "outputs": [],
   "source": [
    "all_sponsors_df = pd.read_csv(\"./all_sponsors_of_shows.csv\")"
   ]
  },
  {
   "cell_type": "code",
   "execution_count": 64,
   "id": "7e30e181",
   "metadata": {},
   "outputs": [
    {
     "name": "stderr",
     "output_type": "stream",
     "text": [
      "  0%|          | 0/275 [00:00<?, ?it/s]"
     ]
    },
    {
     "name": "stdout",
     "output_type": "stream",
     "text": [
      "pod_id: 20vc videos 5\n",
      "Skipping video 4lFDEWFzHVk because it already has sponsors\n",
      "Skipping video ziqsNe1sLHw because it already has sponsors\n",
      "Skipping video Xz060_Kn0F0 because it already has sponsors\n",
      "Skipping video wSudjTgRm7o because it already has sponsors\n",
      "Skipping video CAi6HoyGaB8 because it already has sponsors\n",
      "pod_id: 402p videos 5\n",
      "Skipping video cLapzQiF0LM because it already has sponsors\n",
      "Skipping video hpas_GMyUQ0 because it already has sponsors\n",
      "Skipping video f6zt6XaXvy4 because it already has sponsors\n",
      "Skipping video 7Q_IrirocLc because it already has sponsors\n",
      "Skipping video rwHB4JYPl0c because it already has sponsors\n",
      "pod_id: 4thingswithamybrown videos 0\n",
      "pod_id: 99invisible videos 5\n",
      "Skipping video czKVO4PNzls because it already has sponsors\n",
      "Skipping video x-iBf4lhknI because it already has sponsors\n",
      "Skipping video bXF3lvvD3wU because it already has sponsors\n",
      "Skipping video jvS-9Sk-xXo because it already has sponsors\n",
      "Skipping video 8dNMEX8BasU because it already has sponsors\n",
      "pod_id: Crimeatorium videos 0\n",
      "pod_id: Datingintelligence videos 0\n",
      "pod_id: MidnightBurger videos 0\n",
      "pod_id: SPNthenandnow videos 5\n",
      "Skipping video B96ikgZqYDo because it already has sponsors\n",
      "Skipping video OK7PCjN2uk0 because it already has sponsors\n",
      "Skipping video nuIsBQ481Ow because it already has sponsors\n",
      "Skipping video lowVfUieKSQ because it already has sponsors\n",
      "Skipping video YwfDOr2v8QA because it already has sponsors\n",
      "pod_id: Travel-in-10 videos 5\n",
      "Skipping video NF3_TUEm0Es because it already has sponsors\n",
      "Skipping video a5_71zs__vw because it already has sponsors\n",
      "Skipping video 1cRb0dGIae0 because it already has sponsors\n",
      "Skipping video z2nggj9TWRU because it already has sponsors\n",
      "Skipping video In6FU3Fd5gA because it already has sponsors\n",
      "pod_id: adatewithdateline videos 0\n",
      "pod_id: afterhoursentrepreneur videos 5\n",
      "video_id zqWeNjEySU0\n",
      "video_id RK8MjkNnR3s\n",
      "video_id 3r4JCsRsZRA\n",
      "video_id cyEj-0g1gqw\n",
      "video_id Xa98m7fDdeQ\n"
     ]
    },
    {
     "name": "stderr",
     "output_type": "stream",
     "text": [
      "  4%|▍         | 11/275 [00:19<07:48,  1.78s/it]"
     ]
    },
    {
     "name": "stdout",
     "output_type": "stream",
     "text": [
      "pod_id: alignpodcast videos 5\n",
      "video_id yEz6Ws3WQ70\n",
      "video_id Ii-3nu34sws\n",
      "video_id tjAYYKVeEBs\n",
      "video_id -fqaUvzH-tI\n",
      "video_id VB5HRYlz2Rs\n"
     ]
    },
    {
     "name": "stderr",
     "output_type": "stream",
     "text": [
      "  4%|▍         | 12/275 [01:06<30:47,  7.02s/it]"
     ]
    },
    {
     "name": "stdout",
     "output_type": "stream",
     "text": [
      "pod_id: allin videos 5\n",
      "video_id HmxbPH1PL_A\n",
      "video_id jp9jDINt1mM\n",
      "video_id 9WkGNe27r_Q\n",
      "video_id 8qT2SAJI_HQ\n",
      "video_id Nmw43vcSFhw\n"
     ]
    },
    {
     "name": "stderr",
     "output_type": "stream",
     "text": [
      "  5%|▍         | 13/275 [01:39<46:15, 10.59s/it]"
     ]
    },
    {
     "name": "stdout",
     "output_type": "stream",
     "text": [
      "pod_id: almostadulting videos 5\n",
      "video_id dbaJryd-uU8\n",
      "video_id 6cEHyKphxmU\n",
      "video_id -8ADz8viUWI\n",
      "video_id 4vBtsX7EYnA\n",
      "video_id bdmS3IhkaAw\n"
     ]
    },
    {
     "name": "stderr",
     "output_type": "stream",
     "text": [
      "  5%|▌         | 14/275 [02:01<54:26, 12.51s/it]"
     ]
    },
    {
     "name": "stdout",
     "output_type": "stream",
     "text": [
      "pod_id: almostfamous videos 0\n",
      "pod_id: andthatswhywedrink videos 5\n",
      "video_id 4dMtMcN16y0\n",
      "video_id s-XLr4i8nzA\n",
      "video_id d8BsF3Auwdk\n",
      "video_id K8__Yh-AGSs\n",
      "video_id OY0X66FXVBU\n"
     ]
    },
    {
     "name": "stderr",
     "output_type": "stream",
     "text": [
      "  6%|▌         | 16/275 [03:05<1:21:34, 18.90s/it]"
     ]
    },
    {
     "name": "stdout",
     "output_type": "stream",
     "text": [
      "pod_id: anotherkingdom videos 0\n",
      "pod_id: anxietycoachespod videos 1\n",
      "video_id 05MlPdWfeAU\n"
     ]
    },
    {
     "name": "stderr",
     "output_type": "stream",
     "text": [
      "  7%|▋         | 18/275 [03:09<57:50, 13.50s/it]  "
     ]
    },
    {
     "name": "stdout",
     "output_type": "stream",
     "text": [
      "pod_id: arenafootballleague videos 0\n",
      "pod_id: armchairexpert videos 3\n",
      "video_id kf0P-EzjrOI\n",
      "video_id rV3pfRWAigg\n",
      "video_id XBjirg8Gcs0\n"
     ]
    },
    {
     "name": "stderr",
     "output_type": "stream",
     "text": [
      "  7%|▋         | 20/275 [03:43<1:02:00, 14.59s/it]"
     ]
    },
    {
     "name": "stdout",
     "output_type": "stream",
     "text": [
      "pod_id: arrowheadpride videos 4\n",
      "video_id 4ICBp_1UlTc\n",
      "video_id bZkX9B4GAYg\n",
      "video_id ieTT2WNSRzU\n",
      "video_id __Oym7NWL_s\n"
     ]
    },
    {
     "name": "stderr",
     "output_type": "stream",
     "text": [
      "  8%|▊         | 21/275 [04:01<1:04:01, 15.13s/it]"
     ]
    },
    {
     "name": "stdout",
     "output_type": "stream",
     "text": [
      "pod_id: asianbossgirl videos 5\n",
      "video_id EEYTXfHnPBA\n",
      "video_id CkD-NczgRoQ\n",
      "video_id r-YdlNaaffU\n",
      "video_id L69PUf-N8bU\n",
      "video_id y_dpJ9GsVCk\n"
     ]
    },
    {
     "name": "stderr",
     "output_type": "stream",
     "text": [
      "  8%|▊         | 22/275 [04:37<1:22:16, 19.51s/it]"
     ]
    },
    {
     "name": "stdout",
     "output_type": "stream",
     "text": [
      "pod_id: askacyclingcoach videos 5\n",
      "video_id sX_0dVLmSRc\n",
      "video_id H4A14h0c6oY\n",
      "video_id H0AdjXTV99g\n",
      "video_id dGqEVe_ezDI\n",
      "video_id _9yIdXfZg34\n"
     ]
    },
    {
     "name": "stderr",
     "output_type": "stream",
     "text": [
      "  8%|▊         | 23/275 [05:32<1:56:25, 27.72s/it]"
     ]
    },
    {
     "name": "stdout",
     "output_type": "stream",
     "text": [
      "pod_id: athleticomince videos 5\n",
      "video_id rO83Hkto3NE\n",
      "video_id DmBv5eQBAeo\n",
      "video_id s9DwL0kf6Xc\n",
      "video_id eYYfExIiqIc\n",
      "video_id ozEXSNTuZvA\n"
     ]
    },
    {
     "name": "stderr",
     "output_type": "stream",
     "text": [
      "  9%|▊         | 24/275 [05:55<1:51:03, 26.55s/it]"
     ]
    },
    {
     "name": "stdout",
     "output_type": "stream",
     "text": [
      "pod_id: badfriends videos 5\n",
      "video_id Y2cd1HI_yEk\n",
      "video_id -UEx-at2fE8\n",
      "video_id reyaLGtpHMc\n",
      "video_id 9X8vXxUTaog\n",
      "video_id Q_1YI7pKuls\n"
     ]
    },
    {
     "name": "stderr",
     "output_type": "stream",
     "text": [
      "  9%|▉         | 25/275 [06:57<2:28:12, 35.57s/it]"
     ]
    },
    {
     "name": "stdout",
     "output_type": "stream",
     "text": [
      "pod_id: badtv videos 5\n",
      "video_id 2r9-YJBFDA0\n",
      "video_id 1FGyg7Mf1V4\n",
      "video_id gAEp7goKU2s\n",
      "video_id Ooq3-f5McTc\n",
      "video_id 7XqqYAVp-cI\n"
     ]
    },
    {
     "name": "stderr",
     "output_type": "stream",
     "text": [
      "  9%|▉         | 26/275 [07:24<2:18:10, 33.29s/it]"
     ]
    },
    {
     "name": "stdout",
     "output_type": "stream",
     "text": [
      "pod_id: beargrease videos 0\n",
      "pod_id: beermethatmovie videos 5\n",
      "video_id VFW9w2j1k_E\n",
      "video_id YTRcrpmOhQo\n",
      "video_id 9-xFS4bzYjk\n",
      "video_id o5HaTuZRHwQ\n",
      "video_id VbIYNWoBEic\n"
     ]
    },
    {
     "name": "stderr",
     "output_type": "stream",
     "text": [
      " 10%|█         | 28/275 [07:54<1:44:12, 25.31s/it]"
     ]
    },
    {
     "name": "stdout",
     "output_type": "stream",
     "text": [
      "pod_id: behindthevelvetrope videos 0\n",
      "pod_id: betterthanhappy videos 5\n",
      "video_id yrvBiwjSFbE\n",
      "video_id wsu0zCdxEOA\n",
      "video_id IA6c1wwDjoc\n",
      "video_id 1HYg6IE78Wo\n",
      "video_id 4uvVIOm_bGk\n"
     ]
    },
    {
     "name": "stderr",
     "output_type": "stream",
     "text": [
      " 11%|█         | 30/275 [08:11<1:17:06, 18.88s/it]"
     ]
    },
    {
     "name": "stdout",
     "output_type": "stream",
     "text": [
      "pod_id: bewellby videos 5\n",
      "video_id pjahPc7HZYA\n",
      "video_id _TgnWnBRg7I\n",
      "video_id cOTuyPeqRQE\n",
      "video_id JySSoV9bo_A\n",
      "video_id UgFLsk_7bFc\n"
     ]
    },
    {
     "name": "stderr",
     "output_type": "stream",
     "text": [
      " 11%|█▏        | 31/275 [09:12<1:53:30, 27.91s/it]"
     ]
    },
    {
     "name": "stdout",
     "output_type": "stream",
     "text": [
      "pod_id: bigdeal videos 5\n",
      "video_id nQfB-mWpnQc\n",
      "video_id RHWHH__TnO8\n",
      "video_id OdNE8Bq6BYo\n",
      "video_id wmuw-ischI8\n",
      "video_id Bdz1Q9DMpzg\n"
     ]
    },
    {
     "name": "stderr",
     "output_type": "stream",
     "text": [
      " 12%|█▏        | 32/275 [09:42<1:54:58, 28.39s/it]"
     ]
    },
    {
     "name": "stdout",
     "output_type": "stream",
     "text": [
      "pod_id: bourbonpursuit videos 5\n",
      "video_id PeoSUa5Xn94\n",
      "video_id XwfffwMHeSQ\n",
      "video_id J87TbyNi0no\n",
      "video_id z_MxUOk56TQ\n",
      "video_id w8vLmD-_aUc\n"
     ]
    },
    {
     "name": "stderr",
     "output_type": "stream",
     "text": [
      " 12%|█▏        | 33/275 [10:15<1:59:04, 29.52s/it]"
     ]
    },
    {
     "name": "stdout",
     "output_type": "stream",
     "text": [
      "pod_id: businesswars videos 5\n",
      "video_id RU6fpEDnoao\n",
      "video_id y6eXW6uiJww\n",
      "video_id PMUeUDXAyHU\n",
      "video_id Sa6rcAe-L3o\n",
      "video_id tlyXVJg7Wf8\n"
     ]
    },
    {
     "name": "stderr",
     "output_type": "stream",
     "text": [
      " 12%|█▏        | 34/275 [10:30<1:43:06, 25.67s/it]"
     ]
    },
    {
     "name": "stdout",
     "output_type": "stream",
     "text": [
      "pod_id: cabinetofcuriosities videos 0\n",
      "pod_id: caliphate videos 5\n",
      "video_id PCpV9nSLq5A\n",
      "video_id wpsh6uTJBK4\n",
      "video_id YhjW-dYhJLc\n",
      "video_id 4D5TcgEgk58\n",
      "video_id LnX_TtKrScA\n"
     ]
    },
    {
     "name": "stderr",
     "output_type": "stream",
     "text": [
      " 13%|█▎        | 36/275 [10:48<1:13:45, 18.52s/it]"
     ]
    },
    {
     "name": "stdout",
     "output_type": "stream",
     "text": [
      "pod_id: callherdaddy videos 5\n",
      "video_id 25jcDQuWoaE\n",
      "video_id eIwZX2P5MnU\n",
      "video_id zTD57bOhXMA\n",
      "video_id mk88jHJQ_eA\n",
      "video_id 6MTPomZGizI\n"
     ]
    },
    {
     "name": "stderr",
     "output_type": "stream",
     "text": [
      " 13%|█▎        | 37/275 [11:38<1:42:45, 25.90s/it]"
     ]
    },
    {
     "name": "stdout",
     "output_type": "stream",
     "text": [
      "pod_id: carefreeblackgirl videos 5\n",
      "video_id WVLjtWUgqSg\n",
      "video_id vbPCxZQxIFo\n",
      "video_id NCYr7h2dNmI\n",
      "video_id XMK06c2DHes\n",
      "video_id xnO6unpXF0Y\n"
     ]
    },
    {
     "name": "stderr",
     "output_type": "stream",
     "text": [
      " 14%|█▍        | 38/275 [12:02<1:41:07, 25.60s/it]"
     ]
    },
    {
     "name": "stdout",
     "output_type": "stream",
     "text": [
      "pod_id: caseyadams videos 5\n",
      "video_id YTta2r8DyWw\n",
      "video_id mnW5At8cBpU\n",
      "video_id XYbybsu4cYI\n",
      "video_id EzRggH49Xrw\n",
      "video_id ttCvzYClPtU\n"
     ]
    },
    {
     "name": "stderr",
     "output_type": "stream",
     "text": [
      " 14%|█▍        | 39/275 [12:33<1:45:30, 26.83s/it]"
     ]
    },
    {
     "name": "stdout",
     "output_type": "stream",
     "text": [
      "pod_id: chadprather videos 5\n",
      "video_id _f4nrfVHUVc\n",
      "video_id aEO2Sl0Vh74\n",
      "video_id JxpOuK_VSeM\n",
      "video_id GFF3iRRskTc\n",
      "video_id 191rkghK9tk\n"
     ]
    },
    {
     "name": "stderr",
     "output_type": "stream",
     "text": [
      " 15%|█▍        | 40/275 [13:17<2:04:01, 31.66s/it]"
     ]
    },
    {
     "name": "stdout",
     "output_type": "stream",
     "text": [
      "pod_id: chapotraphouse videos 5\n",
      "video_id iCRXvrCC-b8\n",
      "video_id civ6_WwaTUs\n",
      "video_id Zpm5MmSMe2g\n",
      "video_id Ew0Ug0cN8pk\n",
      "video_id -TQARZ5wgAk\n"
     ]
    },
    {
     "name": "stderr",
     "output_type": "stream",
     "text": [
      " 15%|█▍        | 41/275 [13:40<1:53:25, 29.08s/it]"
     ]
    },
    {
     "name": "stdout",
     "output_type": "stream",
     "text": [
      "pod_id: chrismoylesshow videos 5\n",
      "video_id X4C-89tXUys\n",
      "video_id HSrpCL8AP1I\n",
      "video_id CJK_M8g7jOU\n",
      "video_id O340CyMvZ6M\n",
      "video_id AKRlH4mKchw\n"
     ]
    },
    {
     "name": "stderr",
     "output_type": "stream",
     "text": [
      " 15%|█▌        | 42/275 [13:53<1:35:50, 24.68s/it]"
     ]
    },
    {
     "name": "stdout",
     "output_type": "stream",
     "text": [
      "pod_id: clearedhot videos 5\n",
      "video_id t4QclLj3zkI\n",
      "video_id rIbg8hgTVjQ\n",
      "video_id fK_0yK0BeYk\n",
      "video_id XHX7OJyb7qQ\n",
      "video_id GTa23aMyBog\n"
     ]
    },
    {
     "name": "stderr",
     "output_type": "stream",
     "text": [
      " 16%|█▌        | 43/275 [14:48<2:09:13, 33.42s/it]"
     ]
    },
    {
     "name": "stdout",
     "output_type": "stream",
     "text": [
      "pod_id: cocktales videos 5\n",
      "video_id WassP1CNSYA\n",
      "Exception:  Expecting ',' delimiter: line 5 column 25 (char 104)\n",
      "video_id BdUXWPjkOg8\n",
      "video_id iG7jts5kf5I\n",
      "video_id 6gFfEW8nJeg\n",
      "video_id aZ2uxYeubPQ\n"
     ]
    },
    {
     "name": "stderr",
     "output_type": "stream",
     "text": [
      " 16%|█▌        | 44/275 [15:42<2:31:20, 39.31s/it]"
     ]
    },
    {
     "name": "stdout",
     "output_type": "stream",
     "text": [
      "pod_id: codestory videos 5\n",
      "video_id GU-uZwyO7Bc\n",
      "video_id 3NaMdD_isMA\n",
      "video_id eHOjT-xDACg\n",
      "video_id sL2he9_R1q8\n",
      "video_id ostBugz8fRM\n"
     ]
    },
    {
     "name": "stderr",
     "output_type": "stream",
     "text": [
      " 16%|█▋        | 45/275 [16:28<2:38:33, 41.36s/it]"
     ]
    },
    {
     "name": "stdout",
     "output_type": "stream",
     "text": [
      "pod_id: codeswitch videos 0\n",
      "pod_id: congratulations videos 5\n",
      "video_id hvIKmYnMLNc\n",
      "video_id e-0cgkNkjNk\n",
      "video_id t65WVjk1vHE\n",
      "video_id h3PRg2_009I\n",
      "video_id Y3aE5--SD-4\n"
     ]
    },
    {
     "name": "stderr",
     "output_type": "stream",
     "text": [
      " 17%|█▋        | 47/275 [16:55<1:49:07, 28.72s/it]"
     ]
    },
    {
     "name": "stdout",
     "output_type": "stream",
     "text": [
      "pod_id: conversationswithcam videos 5\n",
      "video_id c-2YcxgZX9g\n",
      "video_id 48d93Z263fw\n",
      "video_id PbhVcy02s34\n",
      "video_id v-50WaIiFvI\n",
      "video_id b_qpz0ahvaQ\n"
     ]
    },
    {
     "name": "stderr",
     "output_type": "stream",
     "text": [
      " 17%|█▋        | 48/275 [17:25<1:49:38, 28.98s/it]"
     ]
    },
    {
     "name": "stdout",
     "output_type": "stream",
     "text": [
      "pod_id: crimeinsports videos 5\n",
      "video_id H52Zqk4r6mE\n",
      "video_id cgxf96qR42c\n",
      "video_id S47eCTBvQnM\n",
      "video_id CoCAD44r8xc\n",
      "video_id 0k2egK7jeCM\n"
     ]
    },
    {
     "name": "stderr",
     "output_type": "stream",
     "text": [
      " 18%|█▊        | 49/275 [18:45<2:39:06, 42.24s/it]"
     ]
    },
    {
     "name": "stdout",
     "output_type": "stream",
     "text": [
      "pod_id: criminology videos 5\n",
      "video_id bqk0P2XvEzw\n",
      "video_id 1vc0sJHvvvs\n",
      "video_id KSRXUgULa90\n",
      "video_id hkMl-VuAvsA\n",
      "video_id NPo7ZIWRwCI\n"
     ]
    },
    {
     "name": "stderr",
     "output_type": "stream",
     "text": [
      " 18%|█▊        | 50/275 [19:25<2:35:55, 41.58s/it]"
     ]
    },
    {
     "name": "stdout",
     "output_type": "stream",
     "text": [
      "pod_id: curious videos 5\n",
      "video_id pmLqE8BAqqs\n",
      "video_id PPD-VGTsvbw\n",
      "video_id pHm136JclEM\n",
      "video_id oUfQowmOBS0\n",
      "video_id r1ukwogDilM\n"
     ]
    },
    {
     "name": "stderr",
     "output_type": "stream",
     "text": [
      " 19%|█▊        | 51/275 [20:12<2:41:10, 43.17s/it]"
     ]
    },
    {
     "name": "stdout",
     "output_type": "stream",
     "text": [
      "pod_id: dailymeditationpodcast videos 0\n",
      "pod_id: dailyradioprogram videos 5\n",
      "video_id DNN2KnB56eo\n",
      "video_id HkIdpwPsqMY\n",
      "video_id nntyiV5Ryrw\n",
      "video_id LR9FFsUR97U\n",
      "video_id 0KZ5eRkHQw4\n"
     ]
    },
    {
     "name": "stderr",
     "output_type": "stream",
     "text": [
      " 19%|█▉        | 53/275 [20:26<1:40:10, 27.08s/it]"
     ]
    },
    {
     "name": "stdout",
     "output_type": "stream",
     "text": [
      "pod_id: daminternetyouscary videos 5\n",
      "video_id BcOQKx6bWrY\n",
      "video_id zp20Oi2pzjc\n",
      "video_id w8pRTv6iz84\n",
      "video_id SnO71-vGHDc\n",
      "video_id WfW6dOSlRXw\n"
     ]
    },
    {
     "name": "stderr",
     "output_type": "stream",
     "text": [
      " 20%|█▉        | 54/275 [21:05<1:50:13, 29.92s/it]"
     ]
    },
    {
     "name": "stdout",
     "output_type": "stream",
     "text": [
      "pod_id: darknetdiaries videos 5\n",
      "video_id W81oWOf_RiE\n",
      "video_id YV5XVcNLHzs\n",
      "video_id FmVv4sowtLo\n",
      "video_id r4BkcQvrDe4\n",
      "video_id RyLlzHvXIDQ\n"
     ]
    },
    {
     "name": "stderr",
     "output_type": "stream",
     "text": [
      " 20%|██        | 55/275 [21:34<1:49:30, 29.87s/it]"
     ]
    },
    {
     "name": "stdout",
     "output_type": "stream",
     "text": [
      "pod_id: detectivestory videos 5\n",
      "video_id Ij0JRFyH9NU\n",
      "video_id npZF1AmpspU\n",
      "video_id hzDpogCE93c\n",
      "video_id GkVcSd4HyH8\n",
      "video_id gz-Q59Aedhc\n"
     ]
    },
    {
     "name": "stderr",
     "output_type": "stream",
     "text": [
      " 20%|██        | 56/275 [22:04<1:48:46, 29.80s/it]"
     ]
    },
    {
     "name": "stdout",
     "output_type": "stream",
     "text": [
      "pod_id: devaneostemporales videos 0\n",
      "pod_id: digitalsocialhour videos 5\n",
      "video_id QasqH7qWb-c\n",
      "video_id mxXrWTEETjw\n",
      "video_id jMEWyG7vaQQ\n",
      "video_id CrV2h6UM0bg\n",
      "video_id tk-jpRbf1T0\n"
     ]
    },
    {
     "name": "stderr",
     "output_type": "stream",
     "text": [
      " 21%|██        | 58/275 [22:29<1:20:16, 22.20s/it]"
     ]
    },
    {
     "name": "stdout",
     "output_type": "stream",
     "text": [
      "pod_id: directionallychallenged videos 0\n",
      "pod_id: dirtbagspodcast videos 5\n",
      "video_id 4BqxWKNorwk\n",
      "video_id CzKU0pWaNWY\n",
      "video_id 50mKRaU305g\n",
      "video_id p0W2klhMfsc\n",
      "video_id VEBeu07T-ds\n"
     ]
    },
    {
     "name": "stderr",
     "output_type": "stream",
     "text": [
      " 22%|██▏       | 60/275 [23:42<1:39:41, 27.82s/it]"
     ]
    },
    {
     "name": "stdout",
     "output_type": "stream",
     "text": [
      "pod_id: disneytravelsecrets videos 0\n",
      "pod_id: drinkinbros videos 5\n",
      "video_id BQThfI8WGoc\n",
      "video_id 6DoLRT0Or9A\n",
      "video_id wAQebk5PwOU\n",
      "video_id HsqxadaXc-8\n",
      "video_id K3SMU4o72dM\n"
     ]
    },
    {
     "name": "stderr",
     "output_type": "stream",
     "text": [
      " 23%|██▎       | 62/275 [24:27<1:31:48, 25.86s/it]"
     ]
    },
    {
     "name": "stdout",
     "output_type": "stream",
     "text": [
      "pod_id: dropouts videos 5\n",
      "video_id Gw7ciW_90-4\n",
      "video_id A-xDR9CQs8U\n",
      "video_id A2hH3CK8of8\n",
      "video_id 4ohdYoxQ1dg\n",
      "video_id f0QjauuSACs\n"
     ]
    },
    {
     "name": "stderr",
     "output_type": "stream",
     "text": [
      " 23%|██▎       | 63/275 [25:12<1:45:15, 29.79s/it]"
     ]
    },
    {
     "name": "stdout",
     "output_type": "stream",
     "text": [
      "pod_id: droppingthegloves videos 5\n",
      "video_id 7LUgra3H1us\n",
      "video_id WRdU42vE4o0\n",
      "video_id sEjUQNe4ZJQ\n",
      "video_id WjitQMJ5gYE\n",
      "video_id EQtSCIi0Mww\n"
     ]
    },
    {
     "name": "stderr",
     "output_type": "stream",
     "text": [
      " 23%|██▎       | 64/275 [25:40<1:43:15, 29.36s/it]"
     ]
    },
    {
     "name": "stdout",
     "output_type": "stream",
     "text": [
      "pod_id: earthancients videos 0\n",
      "pod_id: eatyourcontent videos 0\n",
      "pod_id: echalepodcast videos 0\n",
      "pod_id: econtalk videos 5\n",
      "video_id 6lL4eZ5xCzg\n",
      "video_id 88c36Uny1bM\n",
      "video_id 9SFkwdm0PP0\n",
      "video_id cS-k6nQ8pnc\n",
      "video_id eUgZNr3L018\n"
     ]
    },
    {
     "name": "stderr",
     "output_type": "stream",
     "text": [
      " 25%|██▍       | 68/275 [26:15<1:01:25, 17.80s/it]"
     ]
    },
    {
     "name": "stdout",
     "output_type": "stream",
     "text": [
      "pod_id: embedded videos 5\n",
      "video_id aJaDAtqtyb8\n",
      "video_id VEd2uQxDIy8\n",
      "video_id JfRUt6laqgU\n",
      "video_id oacsC4ROzS8\n",
      "video_id sD8IUVJcSQY\n"
     ]
    },
    {
     "name": "stderr",
     "output_type": "stream",
     "text": [
      " 25%|██▌       | 69/275 [26:56<1:14:02, 21.57s/it]"
     ]
    },
    {
     "name": "stdout",
     "output_type": "stream",
     "text": [
      "pod_id: entrellats videos 0\n",
      "pod_id: everydaywellness videos 5\n",
      "video_id TxHLPoIK-Ps\n",
      "video_id m3rtEPBkskE\n",
      "video_id cC_2caree-U\n",
      "video_id OymuLAFpn2w\n",
      "video_id bRz1bRE-Ezw\n"
     ]
    },
    {
     "name": "stderr",
     "output_type": "stream",
     "text": [
      " 26%|██▌       | 71/275 [27:31<1:09:05, 20.32s/it]"
     ]
    },
    {
     "name": "stdout",
     "output_type": "stream",
     "text": [
      "pod_id: everylittlething videos 0\n",
      "pod_id: f1nation videos 5\n",
      "video_id TVbYbtqmqTA\n",
      "video_id Q7aDL9kEiHk\n",
      "video_id gYD6fS5y4po\n",
      "video_id sSddCAtlqG8\n",
      "video_id 1EMfDvNfiaY\n"
     ]
    },
    {
     "name": "stderr",
     "output_type": "stream",
     "text": [
      " 27%|██▋       | 73/275 [27:53<58:21, 17.33s/it]  "
     ]
    },
    {
     "name": "stdout",
     "output_type": "stream",
     "text": [
      "pod_id: fabulousover50 videos 5\n",
      "video_id -VuNHAHB9e0\n",
      "video_id iGwWTM9w1XA\n",
      "video_id N7GSNCIdd6o\n",
      "video_id pRQhvPwVmTA\n",
      "video_id 7j6EviCR-54\n"
     ]
    },
    {
     "name": "stderr",
     "output_type": "stream",
     "text": [
      " 27%|██▋       | 74/275 [28:08<57:04, 17.04s/it]"
     ]
    },
    {
     "name": "stdout",
     "output_type": "stream",
     "text": [
      "pod_id: failureguy videos 5\n",
      "video_id wExxpYd1MCA\n",
      "video_id npKpjfresQY\n",
      "video_id 3nUof8UDPWY\n",
      "video_id ddMTXmbMv-Y\n",
      "video_id hRCsWwtMadk\n"
     ]
    },
    {
     "name": "stderr",
     "output_type": "stream",
     "text": [
      " 27%|██▋       | 75/275 [28:46<1:11:21, 21.41s/it]"
     ]
    },
    {
     "name": "stdout",
     "output_type": "stream",
     "text": [
      "pod_id: fantasypros videos 5\n",
      "video_id rQbcCGRruOs\n",
      "video_id jKPPXGDhoq0\n",
      "video_id OD6eNMC47tM\n",
      "video_id TkVFkxf_CPg\n",
      "video_id jG4FHW-5_5g\n"
     ]
    },
    {
     "name": "stderr",
     "output_type": "stream",
     "text": [
      " 28%|██▊       | 76/275 [29:32<1:29:02, 26.85s/it]"
     ]
    },
    {
     "name": "stdout",
     "output_type": "stream",
     "text": [
      "pod_id: fictionwritingmadeeasy videos 5\n",
      "video_id Sm14PtNcYUM\n",
      "video_id Vua58hDolIs\n",
      "video_id XzECtvPk3qY\n",
      "video_id 2DN_y7Y5lNQ\n",
      "video_id DQIXGh6myIg\n"
     ]
    },
    {
     "name": "stderr",
     "output_type": "stream",
     "text": [
      " 28%|██▊       | 77/275 [29:57<1:27:51, 26.62s/it]"
     ]
    },
    {
     "name": "stdout",
     "output_type": "stream",
     "text": [
      "pod_id: fiercemarriage videos 5\n",
      "video_id uOEN0Log_wM\n",
      "video_id 7xiaEe4-pjE\n",
      "video_id 3wXheaV9jLU\n",
      "video_id LJiIPkaxRRs\n",
      "video_id 8GerSPMpxRs\n"
     ]
    },
    {
     "name": "stderr",
     "output_type": "stream",
     "text": [
      " 28%|██▊       | 78/275 [30:21<1:24:21, 25.69s/it]"
     ]
    },
    {
     "name": "stdout",
     "output_type": "stream",
     "text": [
      "pod_id: findingmastery videos 5\n",
      "video_id GbyXDSMMr50\n",
      "video_id SsqSmP1ffz4\n",
      "video_id Goac74Yxkus\n",
      "video_id ABEScFe3hQ0\n",
      "video_id V6rL1L4LEpo\n"
     ]
    },
    {
     "name": "stderr",
     "output_type": "stream",
     "text": [
      " 29%|██▊       | 79/275 [31:09<1:44:31, 32.00s/it]"
     ]
    },
    {
     "name": "stdout",
     "output_type": "stream",
     "text": [
      "pod_id: fivethirtyeightpolitics videos 5\n",
      "video_id oG1MWvIYvQ4\n",
      "video_id LrzuxHmnSXs\n",
      "video_id i9SyZmL0E2w\n",
      "video_id -hJWTFxSjF8\n",
      "video_id 5041SZ2FyCw\n"
     ]
    },
    {
     "name": "stderr",
     "output_type": "stream",
     "text": [
      " 29%|██▉       | 80/275 [31:28<1:31:33, 28.17s/it]"
     ]
    },
    {
     "name": "stdout",
     "output_type": "stream",
     "text": [
      "pod_id: focusonthefamily videos 5\n",
      "video_id eiVqmw8B60M\n",
      "video_id 8iynEYerpxE\n",
      "video_id aywN8K_uDsI\n",
      "video_id gg10fjmwJf4\n",
      "video_id k1YccoLfKaM\n"
     ]
    },
    {
     "name": "stderr",
     "output_type": "stream",
     "text": [
      " 29%|██▉       | 81/275 [31:42<1:18:03, 24.14s/it]"
     ]
    },
    {
     "name": "stdout",
     "output_type": "stream",
     "text": [
      "pod_id: focusonthefamilymarriage videos 5\n",
      "video_id UvptPvll3v4\n",
      "video_id gl1tIB0somk\n",
      "video_id ty1f62shZqk\n",
      "video_id V7US0AhAzzs\n",
      "video_id ttfnyF8gCHA\n"
     ]
    },
    {
     "name": "stderr",
     "output_type": "stream",
     "text": [
      " 30%|██▉       | 82/275 [32:08<1:19:10, 24.61s/it]"
     ]
    },
    {
     "name": "stdout",
     "output_type": "stream",
     "text": [
      "pod_id: forthelove videos 5\n",
      "video_id OECQDyj4-II\n",
      "video_id -54S-Suf_W0\n",
      "video_id w3w2vPV_1bo\n",
      "video_id X-N2OqQ0VO4\n",
      "video_id CBy4cIbpa0c\n"
     ]
    },
    {
     "name": "stderr",
     "output_type": "stream",
     "text": [
      " 30%|███       | 83/275 [32:40<1:25:41, 26.78s/it]"
     ]
    },
    {
     "name": "stdout",
     "output_type": "stream",
     "text": [
      "pod_id: freakonomicsradio videos 5\n",
      "video_id WNLJKUFeNeo\n",
      "video_id 6nMDn_PljQY\n",
      "video_id OYbJcsjgCiE\n",
      "video_id wsaicE0F_A8\n",
      "video_id d9KPlcpoWRc\n"
     ]
    },
    {
     "name": "stderr",
     "output_type": "stream",
     "text": [
      " 31%|███       | 84/275 [33:05<1:23:46, 26.32s/it]"
     ]
    },
    {
     "name": "stdout",
     "output_type": "stream",
     "text": [
      "pod_id: gangstercapitalism videos 5\n",
      "video_id JQ3ZLKLN680\n",
      "video_id rWuKOPU8fTQ\n",
      "video_id DBHu0vz2y9g\n",
      "video_id lQZ8106JzRk\n",
      "video_id BodMK_mzj4g\n"
     ]
    },
    {
     "name": "stderr",
     "output_type": "stream",
     "text": [
      " 31%|███       | 85/275 [33:30<1:22:34, 26.08s/it]"
     ]
    },
    {
     "name": "stdout",
     "output_type": "stream",
     "text": [
      "pod_id: geeksunderthe videos 5\n",
      "video_id 9WCdfub5H34\n",
      "video_id bNrhYGMU7i4\n",
      "video_id fFbKhtkWeeE\n",
      "video_id GzShUIkFDCk\n",
      "video_id RPkqkKPp5-M\n"
     ]
    },
    {
     "name": "stderr",
     "output_type": "stream",
     "text": [
      " 31%|███▏      | 86/275 [33:50<1:16:27, 24.27s/it]"
     ]
    },
    {
     "name": "stdout",
     "output_type": "stream",
     "text": [
      "pod_id: girlsgottaeat videos 5\n",
      "video_id Du27TKg4_UA\n",
      "video_id 07UbGfUYobI\n",
      "video_id 96GiPN7M35Q\n",
      "video_id K2Qi-PWyA-4\n",
      "video_id SZQeKlxI_0Q\n"
     ]
    },
    {
     "name": "stderr",
     "output_type": "stream",
     "text": [
      " 32%|███▏      | 87/275 [34:59<1:57:13, 37.41s/it]"
     ]
    },
    {
     "name": "stdout",
     "output_type": "stream",
     "text": [
      "pod_id: glamorouslygrounded videos 2\n",
      "video_id esGVrUm3h28\n",
      "video_id H-NbE_SLfLI\n"
     ]
    },
    {
     "name": "stderr",
     "output_type": "stream",
     "text": [
      " 32%|███▏      | 88/275 [35:06<1:28:44, 28.48s/it]"
     ]
    },
    {
     "name": "stdout",
     "output_type": "stream",
     "text": [
      "pod_id: goop videos 5\n",
      "video_id M5HBB294A_c\n",
      "video_id mSu8GXcyHTc\n",
      "video_id Gfta5REfBMM\n",
      "video_id Tri-SloNm3M\n",
      "video_id 8CKNaB0H5_I\n"
     ]
    },
    {
     "name": "stderr",
     "output_type": "stream",
     "text": [
      " 32%|███▏      | 89/275 [35:33<1:26:26, 27.89s/it]"
     ]
    },
    {
     "name": "stdout",
     "output_type": "stream",
     "text": [
      "pod_id: h3 videos 0\n",
      "pod_id: happymumhappybaby videos 5\n",
      "video_id 2-ncv1GnI_I\n",
      "video_id pDKB6fM65_E\n",
      "video_id ExFp0IusZeI\n",
      "video_id D_hkGBJQM7c\n",
      "video_id mcgr3_UqUrY\n"
     ]
    },
    {
     "name": "stderr",
     "output_type": "stream",
     "text": [
      " 33%|███▎      | 91/275 [36:05<1:09:17, 22.59s/it]"
     ]
    },
    {
     "name": "stdout",
     "output_type": "stream",
     "text": [
      "pod_id: hellalatin videos 5\n",
      "video_id 9T9nq_WQByM\n",
      "video_id Yo-DqzeCIgg\n",
      "video_id DE9KCDh7DFw\n",
      "video_id m4K99UECOXQ\n",
      "video_id fp1JDYzpGk4\n"
     ]
    },
    {
     "name": "stderr",
     "output_type": "stream",
     "text": [
      " 33%|███▎      | 92/275 [36:37<1:15:55, 24.89s/it]"
     ]
    },
    {
     "name": "stdout",
     "output_type": "stream",
     "text": [
      "pod_id: highperformance videos 5\n",
      "video_id 12V31820E1A\n",
      "video_id nJ8t5_4PEss\n",
      "video_id dyRlhORLG6s\n",
      "video_id R_h6QCJ9JnM\n",
      "video_id ciniiSv5lX4\n"
     ]
    },
    {
     "name": "stderr",
     "output_type": "stream",
     "text": [
      " 34%|███▍      | 93/275 [37:22<1:31:27, 30.15s/it]"
     ]
    },
    {
     "name": "stdout",
     "output_type": "stream",
     "text": [
      "pod_id: historythatdoesntsuck videos 5\n",
      "video_id N8PMZY_mpF4\n",
      "video_id 7-HUlSXkGYU\n",
      "video_id B-SB5asG4oE\n",
      "video_id vtZo_H1yuvg\n",
      "video_id sTOQMifIXQE\n"
     ]
    },
    {
     "name": "stderr",
     "output_type": "stream",
     "text": [
      " 34%|███▍      | 94/275 [38:22<1:54:58, 38.11s/it]"
     ]
    },
    {
     "name": "stdout",
     "output_type": "stream",
     "text": [
      "pod_id: holdincourt videos 5\n",
      "video_id 8j0RocTdn1U\n",
      "video_id bkkDYcMbxmU\n",
      "video_id 5RFt3c7ijSg\n",
      "video_id zpJ7R5t39gA\n",
      "video_id JuVymYJBRb0\n"
     ]
    },
    {
     "name": "stderr",
     "output_type": "stream",
     "text": [
      " 35%|███▍      | 95/275 [39:01<1:55:17, 38.43s/it]"
     ]
    },
    {
     "name": "stdout",
     "output_type": "stream",
     "text": [
      "pod_id: hollyburnsdreamhouse videos 0\n",
      "pod_id: hollywoodraw videos 5\n",
      "video_id oUtpvqm2LaA\n",
      "video_id EAzrHtWAqbE\n",
      "video_id r9Le-Q7PV8U\n",
      "video_id Lov5HWxQm2c\n",
      "video_id LLVRjE9firg\n"
     ]
    },
    {
     "name": "stderr",
     "output_type": "stream",
     "text": [
      " 35%|███▌      | 97/275 [39:21<1:16:23, 25.75s/it]"
     ]
    },
    {
     "name": "stdout",
     "output_type": "stream",
     "text": [
      "pod_id: howibuiltthis videos 5\n",
      "video_id aIua_1pt6A0\n",
      "video_id 0Sr6bP1JtP4\n",
      "video_id iFFGA6uqjNU\n",
      "video_id -K-cgx58J-8\n",
      "video_id I3qX4pNqoaM\n"
     ]
    },
    {
     "name": "stderr",
     "output_type": "stream",
     "text": [
      " 36%|███▌      | 98/275 [39:48<1:17:08, 26.15s/it]"
     ]
    },
    {
     "name": "stdout",
     "output_type": "stream",
     "text": [
      "pod_id: howtofailwithelizabethday videos 5\n",
      "video_id zHJ6P7EvT30\n",
      "video_id nWs20n1BAy8\n",
      "video_id BK2nXI9Cn0Y\n",
      "video_id ZpflT6PI4ns\n",
      "video_id SzU9nzxSjnc\n"
     ]
    },
    {
     "name": "stderr",
     "output_type": "stream",
     "text": [
      " 36%|███▌      | 99/275 [40:13<1:15:21, 25.69s/it]"
     ]
    },
    {
     "name": "stdout",
     "output_type": "stream",
     "text": [
      "pod_id: hubermanlab videos 5\n",
      "video_id OvHbhzArbfE\n",
      "video_id gyE6Z4GLEeM\n",
      "video_id mJv1_esiJ8g\n",
      "video_id ewnvjnuFTOY\n",
      "video_id WxtxzRdJFTI\n"
     ]
    },
    {
     "name": "stderr",
     "output_type": "stream",
     "text": [
      " 36%|███▋      | 100/275 [40:59<1:31:16, 31.30s/it]"
     ]
    },
    {
     "name": "stdout",
     "output_type": "stream",
     "text": [
      "pod_id: icantsleep videos 5\n",
      "video_id BmlFJZQ6sh4\n",
      "video_id ZnMzBsEsRvc\n",
      "video_id eV8LB4tCNSc\n",
      "video_id PBnjBP3W4do\n",
      "video_id 8RRpdwltQIA\n"
     ]
    },
    {
     "name": "stderr",
     "output_type": "stream",
     "text": [
      " 37%|███▋      | 101/275 [41:21<1:22:58, 28.61s/it]"
     ]
    },
    {
     "name": "stdout",
     "output_type": "stream",
     "text": [
      "pod_id: impacttheory videos 5\n",
      "video_id OgB6Y-15k6c\n",
      "video_id M4lBqcevBCg\n",
      "video_id IBXrpyflEWw\n",
      "video_id 7mMemTnmg9Q\n",
      "video_id _y5nfZs8_Yg\n"
     ]
    },
    {
     "name": "stderr",
     "output_type": "stream",
     "text": [
      " 37%|███▋      | 102/275 [42:05<1:35:08, 33.00s/it]"
     ]
    },
    {
     "name": "stdout",
     "output_type": "stream",
     "text": [
      "pod_id: jimmysjobsofthefuture videos 0\n",
      "pod_id: joelosteen videos 0\n",
      "pod_id: jordanharbingershow videos 5\n",
      "video_id cGIIkME7duE\n",
      "video_id GGARrnPAijQ\n",
      "video_id QOfuCzzT08o\n",
      "video_id fmWBprL0S7w\n",
      "video_id mDmjo3N2mc8\n"
     ]
    },
    {
     "name": "stderr",
     "output_type": "stream",
     "text": [
      " 38%|███▊      | 105/275 [42:45<1:03:10, 22.30s/it]"
     ]
    },
    {
     "name": "stdout",
     "output_type": "stream",
     "text": [
      "pod_id: juliandoreypodcast videos 0\n",
      "pod_id: keke videos 5\n",
      "video_id TYGAFg9hhVU\n",
      "video_id AKcztbvI5Ig\n",
      "video_id 3zmA9LO2v90\n",
      "video_id VxcZVTFHQKA\n",
      "video_id 3QVPzOvbIQ4\n"
     ]
    },
    {
     "name": "stderr",
     "output_type": "stream",
     "text": [
      " 39%|███▉      | 107/275 [43:20<57:30, 20.54s/it]  "
     ]
    },
    {
     "name": "stdout",
     "output_type": "stream",
     "text": [
      "pod_id: lasculturistas videos 5\n",
      "video_id XLId-fqyZUE\n",
      "video_id VuFPmzs6SYM\n",
      "video_id aOo3TEDLGJ0\n",
      "video_id OlsEVSuvBaM\n",
      "video_id PHtHXRaj3yA\n"
     ]
    },
    {
     "name": "stderr",
     "output_type": "stream",
     "text": [
      " 39%|███▉      | 108/275 [44:07<1:11:43, 25.77s/it]"
     ]
    },
    {
     "name": "stdout",
     "output_type": "stream",
     "text": [
      "pod_id: lesinvestisseurs40 videos 0\n",
      "pod_id: lex videos 5\n",
      "video_id -HzgcbRXUK8\n",
      "video_id vagyIcmIGOQ\n",
      "video_id gtmJi8LbAts\n",
      "video_id HUkBz-cdB-k\n",
      "video_id 9V6tWC4CdFQ\n"
     ]
    },
    {
     "name": "stderr",
     "output_type": "stream",
     "text": [
      " 40%|████      | 110/275 [45:50<1:36:27, 35.07s/it]"
     ]
    },
    {
     "name": "stdout",
     "output_type": "stream",
     "text": [
      "pod_id: lexfridmanpodcast videos 5\n",
      "Skipping video -HzgcbRXUK8 because it already has sponsors\n",
      "Skipping video vagyIcmIGOQ because it already has sponsors\n",
      "Skipping video HUkBz-cdB-k because it already has sponsors\n",
      "Skipping video gtmJi8LbAts because it already has sponsors\n",
      "Skipping video 9V6tWC4CdFQ because it already has sponsors\n",
      "pod_id: lifewithedwardandavalon videos 4\n",
      "video_id R1bMtQJhsoQ\n",
      "video_id BL615LXGHNQ\n",
      "video_id y4pOl0_H0q0\n",
      "video_id 7hW7PQfcDZk\n"
     ]
    },
    {
     "name": "stderr",
     "output_type": "stream",
     "text": [
      " 41%|████      | 112/275 [45:58<1:06:45, 24.57s/it]"
     ]
    },
    {
     "name": "stdout",
     "output_type": "stream",
     "text": [
      "pod_id: listeningtoamerica videos 5\n",
      "video_id SX1lmmq_JyM\n",
      "video_id 5RxXN_psFRc\n",
      "video_id HRDh4Bmpvfs\n",
      "video_id y9qo_jX4fyM\n",
      "video_id M8et7bn84GM\n"
     ]
    },
    {
     "name": "stderr",
     "output_type": "stream",
     "text": [
      " 41%|████      | 113/275 [46:25<1:07:41, 25.07s/it]"
     ]
    },
    {
     "name": "stdout",
     "output_type": "stream",
     "text": [
      "pod_id: loveislandthemorningafter videos 5\n",
      "video_id NMQFd-06N88\n",
      "video_id 3Go11wqMnTY\n",
      "video_id SsspoHeWjBI\n",
      "video_id WsapSgv0R7w\n",
      "video_id HNjkDmb5UUM\n"
     ]
    },
    {
     "name": "stderr",
     "output_type": "stream",
     "text": [
      " 41%|████▏     | 114/275 [46:57<1:10:48, 26.39s/it]"
     ]
    },
    {
     "name": "stdout",
     "output_type": "stream",
     "text": [
      "pod_id: macrovoices videos 5\n",
      "video_id OaQskeOomcA\n",
      "video_id JNj6GlCsdRA\n",
      "video_id 4FTzDPITxkM\n",
      "video_id PSGvEdhCHpY\n",
      "video_id 0YAY_Ar6KzM\n"
     ]
    },
    {
     "name": "stderr",
     "output_type": "stream",
     "text": [
      " 42%|████▏     | 115/275 [47:27<1:12:45, 27.28s/it]"
     ]
    },
    {
     "name": "stdout",
     "output_type": "stream",
     "text": [
      "pod_id: mamasconganas videos 0\n",
      "pod_id: marchofhistory videos 0\n",
      "pod_id: markgroves videos 5\n",
      "video_id wwRaq6-_w0g\n",
      "video_id 8Y9ryppBb2A\n",
      "video_id mWgPSI6vwqg\n",
      "video_id yurznJTEanA\n",
      "video_id QM0hT2YWYfM\n"
     ]
    },
    {
     "name": "stderr",
     "output_type": "stream",
     "text": [
      " 43%|████▎     | 118/275 [48:23<1:00:05, 22.97s/it]"
     ]
    },
    {
     "name": "stdout",
     "output_type": "stream",
     "text": [
      "pod_id: mastersofscale videos 5\n",
      "video_id pRiP6O-c_KI\n",
      "video_id sTRdzIpFHeE\n",
      "video_id 38TjGeYy_Q8\n",
      "video_id v56rNMRXbSQ\n",
      "video_id ye_Ce8ArXEU\n"
     ]
    },
    {
     "name": "stderr",
     "output_type": "stream",
     "text": [
      " 43%|████▎     | 119/275 [48:41<57:29, 22.11s/it]  "
     ]
    },
    {
     "name": "stdout",
     "output_type": "stream",
     "text": [
      "pod_id: medicalmedium videos 5\n",
      "video_id mkGsQvoBDnE\n",
      "video_id otWZf_9QmMw\n",
      "video_id R-p_9Eedc0E\n",
      "video_id mKy9izZ4Kg4\n",
      "video_id Pqi2YIAC7JA\n"
     ]
    },
    {
     "name": "stderr",
     "output_type": "stream",
     "text": [
      " 44%|████▎     | 120/275 [49:00<55:01, 21.30s/it]"
     ]
    },
    {
     "name": "stdout",
     "output_type": "stream",
     "text": [
      "pod_id: melissaambrosinishow videos 5\n",
      "video_id OaQYOa4Svj8\n",
      "video_id ZKgTr0q0d1U\n",
      "video_id br1BICm4kVY\n",
      "video_id OQ18ramF3RQ\n",
      "video_id I70F14m9lwA\n"
     ]
    },
    {
     "name": "stderr",
     "output_type": "stream",
     "text": [
      " 44%|████▍     | 121/275 [49:15<51:11, 19.94s/it]"
     ]
    },
    {
     "name": "stdout",
     "output_type": "stream",
     "text": [
      "pod_id: mickunplugged videos 1\n",
      "video_id ye5363qls0A\n"
     ]
    },
    {
     "name": "stderr",
     "output_type": "stream",
     "text": [
      " 44%|████▍     | 122/275 [49:18<39:32, 15.50s/it]"
     ]
    },
    {
     "name": "stdout",
     "output_type": "stream",
     "text": [
      "pod_id: mikedrop videos 5\n",
      "video_id 6DbJiHwi-Vo\n",
      "video_id 47a0IqvoUto\n",
      "video_id 0pGdi7AVF1Q\n",
      "video_id JuaFhYj17kk\n",
      "video_id phlbqprdf58\n"
     ]
    },
    {
     "name": "stderr",
     "output_type": "stream",
     "text": [
      " 45%|████▍     | 123/275 [50:53<1:32:42, 36.59s/it]"
     ]
    },
    {
     "name": "stdout",
     "output_type": "stream",
     "text": [
      "pod_id: mikewardsousecoute videos 0\n",
      "pod_id: mission-daily videos 5\n",
      "video_id ffp-ePO_4Nc\n",
      "video_id eZcMiYFniAI\n",
      "video_id NkqJf-uqc34\n",
      "video_id jJtwfLALqSw\n",
      "video_id d-JgwESD3bI\n"
     ]
    },
    {
     "name": "stderr",
     "output_type": "stream",
     "text": [
      " 45%|████▌     | 125/275 [51:19<1:06:00, 26.40s/it]"
     ]
    },
    {
     "name": "stdout",
     "output_type": "stream",
     "text": [
      "pod_id: mobituaries videos 0\n",
      "pod_id: mondaymatchanalysis videos 5\n",
      "video_id EWi85x4N7oU\n",
      "video_id 2eHJg2QILdE\n",
      "video_id h4YGeIzhzpE\n",
      "video_id E5Lsagvj7A8\n",
      "video_id pfylr2T_q7o\n"
     ]
    },
    {
     "name": "stderr",
     "output_type": "stream",
     "text": [
      " 46%|████▌     | 127/275 [51:53<56:24, 22.87s/it]  "
     ]
    },
    {
     "name": "stdout",
     "output_type": "stream",
     "text": [
      "pod_id: morbid videos 5\n",
      "video_id 1yjJZQ_CwxA\n",
      "video_id gZBl-cc5NRQ\n",
      "video_id _prnyqY3Mzg\n",
      "video_id RQQrf431gCs\n",
      "video_id lUYccCNoEao\n"
     ]
    },
    {
     "name": "stderr",
     "output_type": "stream",
     "text": [
      " 47%|████▋     | 128/275 [52:32<1:04:33, 26.35s/it]"
     ]
    },
    {
     "name": "stdout",
     "output_type": "stream",
     "text": [
      "pod_id: motleyfoolmoney videos 0\n",
      "pod_id: musicmatters videos 5\n",
      "video_id Ig_IzwkzCQ4\n",
      "video_id wibw0zCBKSw\n",
      "video_id St3PUT9FvOk\n",
      "video_id 0jVaklqQrc4\n",
      "video_id RgLMkcgxNLo\n"
     ]
    },
    {
     "name": "stderr",
     "output_type": "stream",
     "text": [
      " 47%|████▋     | 130/275 [52:46<45:57, 19.02s/it]  "
     ]
    },
    {
     "name": "stdout",
     "output_type": "stream",
     "text": [
      "pod_id: myfirstmillion videos 5\n",
      "video_id MpvkocxQUaU\n",
      "video_id fV6nXzGYiLk\n",
      "video_id mzSjAxYCEow\n",
      "video_id 7QjMs7FuwI0\n",
      "video_id t6fT4snuErA\n"
     ]
    },
    {
     "name": "stderr",
     "output_type": "stream",
     "text": [
      " 48%|████▊     | 131/275 [53:22<54:26, 22.68s/it]"
     ]
    },
    {
     "name": "stdout",
     "output_type": "stream",
     "text": [
      "pod_id: mysteryandmurderanalysis videos 5\n",
      "video_id ZGUcxh7JwUg\n",
      "video_id kWRZN0hISq8\n",
      "video_id K_teTTA7ywI\n",
      "video_id P8t9GbuBKY0\n",
      "video_id 3AbOjyrtIks\n"
     ]
    },
    {
     "name": "stderr",
     "output_type": "stream",
     "text": [
      " 48%|████▊     | 132/275 [53:43<53:07, 22.29s/it]"
     ]
    },
    {
     "name": "stdout",
     "output_type": "stream",
     "text": [
      "pod_id: nbadaily videos 5\n",
      "video_id 7Wxnrm_ZWFM\n",
      "video_id 1jhFd3L5jDo\n",
      "video_id CwpxrMUElHM\n",
      "video_id sgF95t5NNH0\n",
      "video_id APExuUyX_yc\n"
     ]
    },
    {
     "name": "stderr",
     "output_type": "stream",
     "text": [
      " 48%|████▊     | 133/275 [54:06<52:39, 22.25s/it]"
     ]
    },
    {
     "name": "stdout",
     "output_type": "stream",
     "text": [
      "pod_id: newheightswith videos 5\n",
      "video_id 1UkDbxYDe2M\n",
      "video_id oRBWSLTyfsQ\n",
      "video_id iaYZsvYEcis\n",
      "video_id jLHh_kEuZik\n",
      "video_id ZdRxzxNuEWM\n"
     ]
    },
    {
     "name": "stderr",
     "output_type": "stream",
     "text": [
      " 49%|████▊     | 134/275 [55:28<1:29:19, 38.01s/it]"
     ]
    },
    {
     "name": "stdout",
     "output_type": "stream",
     "text": [
      "pod_id: newmindsetwhodis videos 2\n",
      "video_id _xlnUUd4jBM\n",
      "video_id NsxwZ9NdlF0\n"
     ]
    },
    {
     "name": "stderr",
     "output_type": "stream",
     "text": [
      " 49%|████▉     | 135/275 [55:32<1:07:27, 28.91s/it]"
     ]
    },
    {
     "name": "stdout",
     "output_type": "stream",
     "text": [
      "pod_id: newscast videos 5\n",
      "video_id ECDyvhiY5ls\n",
      "video_id QeHBg3XkmzU\n",
      "video_id kZdRQ7fNGsk\n",
      "video_id hyEOEA9xZ6s\n",
      "video_id i1wYAiM37jE\n"
     ]
    },
    {
     "name": "stderr",
     "output_type": "stream",
     "text": [
      " 49%|████▉     | 136/275 [55:44<55:54, 24.13s/it]  "
     ]
    },
    {
     "name": "stdout",
     "output_type": "stream",
     "text": [
      "pod_id: noputtsgiven videos 5\n",
      "video_id Kuvx7J5JRSo\n",
      "video_id LiTbgbsM7WM\n",
      "video_id 4O0fLjILy-U\n",
      "video_id R-6KKkrOkQE\n",
      "video_id -7mxc7MJa-4\n"
     ]
    },
    {
     "name": "stderr",
     "output_type": "stream",
     "text": [
      " 50%|████▉     | 137/275 [56:12<57:38, 25.06s/it]"
     ]
    },
    {
     "name": "stdout",
     "output_type": "stream",
     "text": [
      "pod_id: notbasicblondeppodcast videos 1\n",
      "video_id 0FvCtpA3w2A\n"
     ]
    },
    {
     "name": "stderr",
     "output_type": "stream",
     "text": [
      " 50%|█████     | 138/275 [56:16<43:15, 18.94s/it]"
     ]
    },
    {
     "name": "stdout",
     "output_type": "stream",
     "text": [
      "pod_id: notgonnalie videos 4\n",
      "video_id fNNhuyWCUpY\n",
      "video_id tDiXOES_jx4\n",
      "video_id wRm9dJK7VF8\n",
      "video_id b_PmbCmoBms\n"
     ]
    },
    {
     "name": "stderr",
     "output_type": "stream",
     "text": [
      " 51%|█████     | 139/275 [56:41<46:56, 20.71s/it]"
     ]
    },
    {
     "name": "stdout",
     "output_type": "stream",
     "text": [
      "pod_id: nothingmuchhappens videos 5\n",
      "video_id xGc7MzxUV7s\n",
      "video_id GI-JZwiQXrQ\n",
      "video_id ixXCup0d0r4\n",
      "video_id 4rY357CHBl8\n",
      "video_id kmfC3fO8ego\n"
     ]
    },
    {
     "name": "stderr",
     "output_type": "stream",
     "text": [
      " 51%|█████     | 140/275 [56:54<41:53, 18.62s/it]"
     ]
    },
    {
     "name": "stdout",
     "output_type": "stream",
     "text": [
      "pod_id: offtrackwithhinchandrossi videos 5\n",
      "video_id juLj6xNTzN0\n",
      "video_id 8_HKkzAMEhU\n",
      "video_id TN9lMdj6eek\n",
      "video_id 8dnMVG-geY4\n",
      "video_id b13iGRZoaUQ\n"
     ]
    },
    {
     "name": "stderr",
     "output_type": "stream",
     "text": [
      " 51%|█████▏    | 141/275 [57:15<43:14, 19.36s/it]"
     ]
    },
    {
     "name": "stdout",
     "output_type": "stream",
     "text": [
      "pod_id: onpurpose videos 5\n",
      "video_id r0x972BaT20\n",
      "video_id nVkT1VgtirY\n",
      "video_id RPVR8PqC_NQ\n",
      "video_id fhc8UjYVAzY\n",
      "video_id IqKzfNdgpcM\n"
     ]
    },
    {
     "name": "stderr",
     "output_type": "stream",
     "text": [
      " 52%|█████▏    | 142/275 [57:46<50:35, 22.83s/it]"
     ]
    },
    {
     "name": "stdout",
     "output_type": "stream",
     "text": [
      "pod_id: opieradio videos 5\n",
      "video_id NO9X-AhVBmE\n",
      "video_id 1K7nAcQAmow\n",
      "video_id pq35MH94m-o\n",
      "video_id FOuo9EgiVuw\n",
      "video_id rThMqq8hmNA\n"
     ]
    },
    {
     "name": "stderr",
     "output_type": "stream",
     "text": [
      " 52%|█████▏    | 143/275 [58:17<55:40, 25.31s/it]"
     ]
    },
    {
     "name": "stdout",
     "output_type": "stream",
     "text": [
      "pod_id: passionstruck videos 5\n",
      "video_id ifJxh16BuVk\n",
      "video_id hceW1gMOAuM\n",
      "video_id jTt2GHUWc0g\n",
      "video_id LksLQVr4M10\n",
      "video_id 0hSjIm9BD4I\n"
     ]
    },
    {
     "name": "stderr",
     "output_type": "stream",
     "text": [
      " 52%|█████▏    | 144/275 [58:42<55:02, 25.21s/it]"
     ]
    },
    {
     "name": "stdout",
     "output_type": "stream",
     "text": [
      "pod_id: patgrayunleashed videos 0\n",
      "pod_id: petercrouchpod videos 5\n",
      "video_id U0SSd1DsDWo\n",
      "video_id u5JC65iBR0s\n",
      "video_id WKjKC-ZCHDA\n",
      "video_id xL7UzZm9OvQ\n",
      "video_id qiHbIo2UyCc\n"
     ]
    },
    {
     "name": "stderr",
     "output_type": "stream",
     "text": [
      " 53%|█████▎    | 146/275 [59:07<41:21, 19.24s/it]"
     ]
    },
    {
     "name": "stdout",
     "output_type": "stream",
     "text": [
      "pod_id: pitlaneparley videos 5\n",
      "video_id DH9epfDfUKY\n",
      "video_id yj7Vh27UzF0\n",
      "video_id 7SghQtP4KLE\n",
      "video_id 2ix9fQTujBE\n",
      "video_id jp9jWqLKO9I\n"
     ]
    },
    {
     "name": "stderr",
     "output_type": "stream",
     "text": [
      " 53%|█████▎    | 147/275 [59:29<42:37, 19.98s/it]"
     ]
    },
    {
     "name": "stdout",
     "output_type": "stream",
     "text": [
      "pod_id: pivot videos 5\n",
      "video_id 0yQFcVdPrYk\n",
      "video_id BPegVZ9CU4A\n",
      "video_id 71-sbygEFgk\n",
      "video_id 0k2LGdWtl9g\n",
      "video_id 1TSzQMjwpgo\n"
     ]
    },
    {
     "name": "stderr",
     "output_type": "stream",
     "text": [
      " 54%|█████▍    | 148/275 [1:00:00<48:03, 22.70s/it]"
     ]
    },
    {
     "name": "stdout",
     "output_type": "stream",
     "text": [
      "pod_id: planetmoney videos 0\n",
      "pod_id: psiloveyouxoxo videos 0\n",
      "pod_id: purposemade videos 5\n",
      "video_id MPZyfTEb2Oo\n",
      "video_id lRgDLiWMv8E\n",
      "video_id uJJ29cn0XZw\n",
      "video_id mGNSi_cT5Xw\n",
      "video_id I3WAJiz82Hk\n"
     ]
    },
    {
     "name": "stderr",
     "output_type": "stream",
     "text": [
      " 55%|█████▍    | 151/275 [1:00:36<35:13, 17.05s/it]"
     ]
    },
    {
     "name": "stdout",
     "output_type": "stream",
     "text": [
      "pod_id: realfoodology videos 5\n",
      "video_id QO_-ktqZ_Ug\n",
      "video_id si3q1Xh7fcg\n",
      "video_id aQAWyQ-z3TA\n",
      "video_id clcXno3SuLM\n",
      "video_id hdwi-AILcmw\n"
     ]
    },
    {
     "name": "stderr",
     "output_type": "stream",
     "text": [
      " 55%|█████▌    | 152/275 [1:01:34<51:48, 25.27s/it]"
     ]
    },
    {
     "name": "stdout",
     "output_type": "stream",
     "text": [
      "pod_id: redpilledamerica videos 5\n",
      "video_id ZgjeSysbW5o\n",
      "video_id dIubNzQZFjk\n",
      "video_id NVgi06ZGa3U\n",
      "video_id XlVx_eKlizQ\n",
      "video_id xKmz-aODDIA\n"
     ]
    },
    {
     "name": "stderr",
     "output_type": "stream",
     "text": [
      " 56%|█████▌    | 153/275 [1:01:59<51:19, 25.24s/it]"
     ]
    },
    {
     "name": "stdout",
     "output_type": "stream",
     "text": [
      "pod_id: relatable videos 5\n",
      "video_id klw9WI11Bcc\n",
      "video_id PbLyKvT3LYg\n",
      "video_id E8HnqAgtlcc\n",
      "video_id 9u7nmRjw-44\n",
      "video_id 1ZNEgzn7z7c\n"
     ]
    },
    {
     "name": "stderr",
     "output_type": "stream",
     "text": [
      " 56%|█████▌    | 154/275 [1:02:56<1:06:23, 32.92s/it]"
     ]
    },
    {
     "name": "stdout",
     "output_type": "stream",
     "text": [
      "pod_id: revisionisthistory videos 5\n",
      "video_id yrgpOqzhzxI\n",
      "video_id YJlvdmYIhnA\n",
      "video_id scu6TEcRJ-8\n",
      "video_id HUSzIE3qcY8\n",
      "video_id Qhtfk9Fv7NM\n"
     ]
    },
    {
     "name": "stderr",
     "output_type": "stream",
     "text": [
      " 56%|█████▋    | 155/275 [1:03:12<57:20, 28.67s/it]  "
     ]
    },
    {
     "name": "stdout",
     "output_type": "stream",
     "text": [
      "pod_id: rightaboutnow videos 5\n",
      "video_id kBmpwN_lPCg\n",
      "video_id 0DYn39pN2Oc\n",
      "video_id GuqKCrIrdS4\n",
      "video_id ksMdcz9a1DI\n",
      "video_id x9zWU9wuC5w\n"
     ]
    },
    {
     "name": "stderr",
     "output_type": "stream",
     "text": [
      " 57%|█████▋    | 156/275 [1:03:34<53:19, 26.89s/it]"
     ]
    },
    {
     "name": "stdout",
     "output_type": "stream",
     "text": [
      "pod_id: ronanddonradio videos 5\n",
      "video_id IwXY50RqFMU\n",
      "video_id 4SjVwaAMpNM\n",
      "video_id mPy5vUh-PYE\n",
      "video_id cr74a5uoHlc\n",
      "video_id -xWcTZdDb1c\n"
     ]
    },
    {
     "name": "stderr",
     "output_type": "stream",
     "text": [
      " 57%|█████▋    | 157/275 [1:03:55<49:35, 25.21s/it]"
     ]
    },
    {
     "name": "stdout",
     "output_type": "stream",
     "text": [
      "pod_id: sacredsymbols videos 5\n",
      "video_id UL0Pe41JLHk\n",
      "video_id yUJG0MZ9P8g\n",
      "video_id P6MJfG6DORU\n",
      "video_id YL2GHwYzoVg\n",
      "video_id eCOuBFWAtT4\n"
     ]
    },
    {
     "name": "stderr",
     "output_type": "stream",
     "text": [
      " 57%|█████▋    | 158/275 [1:05:36<1:31:03, 46.70s/it]"
     ]
    },
    {
     "name": "stdout",
     "output_type": "stream",
     "text": [
      "pod_id: schoolofpodcasting videos 3\n",
      "video_id lLF90-6pO7g\n",
      "video_id yswazY6RRZE\n",
      "video_id 1ensu4opsDY\n"
     ]
    },
    {
     "name": "stderr",
     "output_type": "stream",
     "text": [
      " 58%|█████▊    | 159/275 [1:06:04<1:20:10, 41.47s/it]"
     ]
    },
    {
     "name": "stdout",
     "output_type": "stream",
     "text": [
      "pod_id: seancarrollsmindscape videos 5\n",
      "video_id 0RhiYYk784w\n",
      "video_id eS2tJBVBuo4\n",
      "video_id ExdAXjVBFVU\n",
      "video_id SWP2ktac34k\n",
      "video_id mKTm4FHVByE\n"
     ]
    },
    {
     "name": "stderr",
     "output_type": "stream",
     "text": [
      " 58%|█████▊    | 160/275 [1:07:00<1:27:15, 45.53s/it]"
     ]
    },
    {
     "name": "stdout",
     "output_type": "stream",
     "text": [
      "pod_id: seeingotherpeople videos 5\n",
      "video_id iZVEaNoTiUM\n",
      "video_id xaG-i-n30ms\n",
      "video_id heh9G0BE4uM\n",
      "video_id lWaWuomzGjo\n",
      "video_id Fjc5BN8y12c\n"
     ]
    },
    {
     "name": "stderr",
     "output_type": "stream",
     "text": [
      " 59%|█████▊    | 161/275 [1:07:24<1:14:17, 39.10s/it]"
     ]
    },
    {
     "name": "stdout",
     "output_type": "stream",
     "text": [
      "pod_id: siblingrivalry videos 5\n",
      "video_id h0m8ge1TWLA\n",
      "video_id Nz-G4OXHk9o\n",
      "video_id qdBTtCU1x9w\n",
      "video_id xYKAaExWgoc\n",
      "video_id mBZKpvtBp38\n"
     ]
    },
    {
     "name": "stderr",
     "output_type": "stream",
     "text": [
      " 59%|█████▉    | 162/275 [1:08:08<1:16:30, 40.63s/it]"
     ]
    },
    {
     "name": "stdout",
     "output_type": "stream",
     "text": [
      "pod_id: sidebar videos 5\n",
      "video_id PJ54fAWhodQ\n",
      "video_id UndXsT7RnkA\n",
      "video_id LQC_KXAsJUE\n",
      "video_id _azDvXM4sVk\n",
      "video_id wTeF5Rl5Gxo\n"
     ]
    },
    {
     "name": "stderr",
     "output_type": "stream",
     "text": [
      " 59%|█████▉    | 163/275 [1:08:22<1:01:06, 32.74s/it]"
     ]
    },
    {
     "name": "stdout",
     "output_type": "stream",
     "text": [
      "pod_id: simonsquibb videos 5\n",
      "video_id cJBwBR_WHcE\n",
      "video_id 8Tf6O01B_UU\n",
      "video_id fHwZDFk4kQ0\n",
      "video_id QGpmGNs9L_4\n",
      "video_id sjKph7-F3-o\n"
     ]
    },
    {
     "name": "stderr",
     "output_type": "stream",
     "text": [
      " 60%|█████▉    | 164/275 [1:08:40<52:42, 28.49s/it]  "
     ]
    },
    {
     "name": "stdout",
     "output_type": "stream",
     "text": [
      "pod_id: slatenews videos 5\n",
      "video_id NhRXpHnUw-Y\n",
      "video_id fKSTaHdqiKA\n",
      "video_id Qhr6OJuFF2o\n",
      "video_id V8ylIDADfmU\n",
      "video_id OewM9Zw6pJs\n"
     ]
    },
    {
     "name": "stderr",
     "output_type": "stream",
     "text": [
      " 60%|██████    | 165/275 [1:09:16<56:14, 30.68s/it]"
     ]
    },
    {
     "name": "stdout",
     "output_type": "stream",
     "text": [
      "pod_id: sleepmeditationfor videos 0\n",
      "pod_id: slightlyoffensive videos 0\n",
      "pod_id: smalltowndicks videos 5\n",
      "video_id JrwL1dll6KA\n",
      "video_id gMf7FB2Ef_A\n",
      "video_id 90Q3Ehom1AI\n",
      "video_id XbcSKY_Vhlg\n",
      "video_id Pug3lgy_woY\n"
     ]
    },
    {
     "name": "stderr",
     "output_type": "stream",
     "text": [
      " 61%|██████    | 168/275 [1:09:38<31:14, 17.52s/it]"
     ]
    },
    {
     "name": "stdout",
     "output_type": "stream",
     "text": [
      "pod_id: smalltownmurder videos 5\n",
      "Skipping video cgxf96qR42c because it already has sponsors\n",
      "Skipping video H52Zqk4r6mE because it already has sponsors\n",
      "Skipping video CoCAD44r8xc because it already has sponsors\n",
      "Skipping video S47eCTBvQnM because it already has sponsors\n",
      "Skipping video 0k2egK7jeCM because it already has sponsors\n",
      "pod_id: smartmoneyhappyhour videos 5\n",
      "video_id BhfMmCNeCFY\n",
      "video_id N2-3k1f4gkE\n",
      "video_id yMU1kv7LzRU\n",
      "video_id 3D2UMJpNqiA\n",
      "video_id Vyyia__5l_A\n"
     ]
    },
    {
     "name": "stderr",
     "output_type": "stream",
     "text": [
      " 62%|██████▏   | 170/275 [1:10:09<29:23, 16.80s/it]"
     ]
    },
    {
     "name": "stdout",
     "output_type": "stream",
     "text": [
      "pod_id: somethingscary videos 5\n",
      "video_id cAO7eoawvC0\n",
      "video_id pfbYmuKgtLg\n",
      "video_id sQ0UZ2Y3sB8\n",
      "video_id 3JTtT0WfuEc\n",
      "video_id bTY8aPBdMok\n"
     ]
    },
    {
     "name": "stderr",
     "output_type": "stream",
     "text": [
      " 62%|██████▏   | 171/275 [1:10:34<32:01, 18.48s/it]"
     ]
    },
    {
     "name": "stdout",
     "output_type": "stream",
     "text": [
      "pod_id: somethingtowrestle videos 0\n",
      "pod_id: soomf videos 5\n",
      "video_id 51KUBVBbCMk\n",
      "video_id iF0MJDfEU80\n",
      "video_id bc7mQO3A2uo\n",
      "video_id q_f37ipF9LQ\n",
      "video_id saBbchEc61Q\n"
     ]
    },
    {
     "name": "stderr",
     "output_type": "stream",
     "text": [
      " 63%|██████▎   | 173/275 [1:11:00<28:05, 16.52s/it]"
     ]
    },
    {
     "name": "stdout",
     "output_type": "stream",
     "text": [
      "pod_id: spooked videos 0\n",
      "pod_id: stinkydragon videos 5\n",
      "video_id 4FHvtV7Vw-k\n",
      "video_id rN2jI6_ZJ9E\n",
      "video_id 240beNWc1Vg\n",
      "video_id Co2DJ1hRUss\n",
      "video_id NqiQtv98v6o\n"
     ]
    },
    {
     "name": "stderr",
     "output_type": "stream",
     "text": [
      " 64%|██████▎   | 175/275 [1:11:42<30:06, 18.07s/it]"
     ]
    },
    {
     "name": "stdout",
     "output_type": "stream",
     "text": [
      "pod_id: stoicism videos 5\n",
      "video_id cF3pRlrqJSg\n",
      "video_id 3cF4L2qFvAU\n",
      "video_id wh86Pq795xM\n",
      "video_id QnJ339ao26M\n",
      "video_id 9ELZTqGcKzQ\n"
     ]
    },
    {
     "name": "stderr",
     "output_type": "stream",
     "text": [
      " 64%|██████▍   | 176/275 [1:11:56<28:17, 17.15s/it]"
     ]
    },
    {
     "name": "stdout",
     "output_type": "stream",
     "text": [
      "pod_id: supermegashow videos 5\n",
      "video_id zGvCcT68eWM\n",
      "video_id -74oCvi_4Bg\n",
      "video_id R-Ft7V_b2jo\n",
      "video_id 1jtBftCy_o4\n",
      "video_id VFffQZCqiwk\n"
     ]
    },
    {
     "name": "stderr",
     "output_type": "stream",
     "text": [
      " 64%|██████▍   | 177/275 [1:12:29<33:56, 20.78s/it]"
     ]
    },
    {
     "name": "stdout",
     "output_type": "stream",
     "text": [
      "pod_id: talkeasy videos 5\n",
      "video_id Xc9VjN4SqpA\n",
      "video_id -j34RAQq_Yk\n",
      "video_id 7mCLSSzBxW4\n",
      "video_id IP_Cnm8mzkk\n",
      "video_id MZqOGX_kdNo\n"
     ]
    },
    {
     "name": "stderr",
     "output_type": "stream",
     "text": [
      " 65%|██████▍   | 178/275 [1:12:58<36:33, 22.61s/it]"
     ]
    },
    {
     "name": "stdout",
     "output_type": "stream",
     "text": [
      "pod_id: teamneverquit videos 5\n",
      "video_id dWTet16E3yk\n",
      "video_id wM6SGYeczbg\n",
      "video_id uhF7xretsWE\n",
      "video_id ADyo0n0UjNA\n",
      "video_id HSjUslz7hMw\n"
     ]
    },
    {
     "name": "stderr",
     "output_type": "stream",
     "text": [
      " 65%|██████▌   | 179/275 [1:14:01<52:44, 32.96s/it]"
     ]
    },
    {
     "name": "stdout",
     "output_type": "stream",
     "text": [
      "pod_id: tedbusiness videos 0\n",
      "pod_id: tedtalksdaily videos 0\n",
      "pod_id: thaboxingvoice videos 5\n",
      "video_id HMOKyjOquOM\n",
      "video_id 3n09Ft__DmY\n",
      "video_id Js9nocFNl2o\n",
      "video_id 9vkw2GYhKMc\n",
      "video_id jI6792-Y6lg\n"
     ]
    },
    {
     "name": "stderr",
     "output_type": "stream",
     "text": [
      " 66%|██████▌   | 182/275 [1:14:36<33:44, 21.77s/it]"
     ]
    },
    {
     "name": "stdout",
     "output_type": "stream",
     "text": [
      "pod_id: theaichopping videos 5\n",
      "video_id lRa81kLnFak\n",
      "video_id QQTb5TjJ6ek\n",
      "video_id gEx0zmNDhKY\n",
      "video_id 8LrOpQUKvMQ\n",
      "video_id E5wtB93vv-k\n"
     ]
    },
    {
     "name": "stderr",
     "output_type": "stream",
     "text": [
      " 67%|██████▋   | 183/275 [1:15:11<37:34, 24.50s/it]"
     ]
    },
    {
     "name": "stdout",
     "output_type": "stream",
     "text": [
      "pod_id: thealisachilders videos 5\n",
      "video_id 6nvrDeeMMD0\n",
      "video_id 7muuEuBpX38\n",
      "video_id 1sFKCTuiCAk\n",
      "video_id 9vWja9r0CA0\n",
      "video_id Jtp7MBcxk88\n"
     ]
    },
    {
     "name": "stderr",
     "output_type": "stream",
     "text": [
      " 67%|██████▋   | 184/275 [1:15:59<44:52, 29.59s/it]"
     ]
    },
    {
     "name": "stdout",
     "output_type": "stream",
     "text": [
      "pod_id: theandrewklavanshow videos 5\n",
      "video_id MkfRMr9vIoY\n",
      "video_id 6UXwxZMqIqo\n",
      "video_id pAYdjiObC1U\n",
      "video_id HtUCGHCts0c\n",
      "video_id dh2gUzcwpEo\n"
     ]
    },
    {
     "name": "stderr",
     "output_type": "stream",
     "text": [
      " 67%|██████▋   | 185/275 [1:16:37<47:29, 31.66s/it]"
     ]
    },
    {
     "name": "stdout",
     "output_type": "stream",
     "text": [
      "pod_id: thebakarisellerspodcast videos 0\n",
      "pod_id: thebenshapiroshow videos 5\n",
      "video_id orrOCFqNW3o\n",
      "video_id foRrwslq5hY\n",
      "video_id XG-hR9eccPQ\n",
      "video_id JVbiOuTC84w\n",
      "video_id Yw54mwEnDKs\n"
     ]
    },
    {
     "name": "stderr",
     "output_type": "stream",
     "text": [
      " 68%|██████▊   | 187/275 [1:17:26<42:14, 28.80s/it]"
     ]
    },
    {
     "name": "stdout",
     "output_type": "stream",
     "text": [
      "pod_id: thebestof videos 5\n",
      "video_id jsL1KUoVfaM\n",
      "video_id 9gm8UN8-RqM\n",
      "video_id 2UUmDhpK0Ho\n",
      "video_id Zop8XYx9-qU\n",
      "video_id yGk6d-kUkvE\n"
     ]
    },
    {
     "name": "stderr",
     "output_type": "stream",
     "text": [
      " 68%|██████▊   | 188/275 [1:18:04<44:35, 30.75s/it]"
     ]
    },
    {
     "name": "stdout",
     "output_type": "stream",
     "text": [
      "pod_id: thebestoneyet videos 5\n",
      "video_id 0o__2vbCkiI\n",
      "video_id R75ZqEk_Yyo\n",
      "video_id hQJvn0W6pHI\n",
      "video_id UnZmZo6pHTA\n",
      "video_id AeLzWbUO-oc\n"
     ]
    },
    {
     "name": "stderr",
     "output_type": "stream",
     "text": [
      " 69%|██████▊   | 189/275 [1:18:20<39:02, 27.24s/it]"
     ]
    },
    {
     "name": "stdout",
     "output_type": "stream",
     "text": [
      "pod_id: theboundlessshow videos 5\n",
      "video_id S-vOvpzw9Kk\n",
      "video_id 9rTXBj4dj3w\n",
      "video_id 0-Qt11eX4W4\n",
      "video_id ziW8LUugUJM\n",
      "video_id yO99868WCLQ\n"
     ]
    },
    {
     "name": "stderr",
     "output_type": "stream",
     "text": [
      " 69%|██████▉   | 190/275 [1:18:34<33:53, 23.92s/it]"
     ]
    },
    {
     "name": "stdout",
     "output_type": "stream",
     "text": [
      "pod_id: thebreakfastclub videos 5\n",
      "video_id bwwmyM3ZwBo\n",
      "video_id n0c0vnWlczU\n",
      "video_id hMBLcb71nDU\n",
      "video_id GLRjSXSJFso\n",
      "video_id VTP38P3Vtqw\n"
     ]
    },
    {
     "name": "stderr",
     "output_type": "stream",
     "text": [
      " 69%|██████▉   | 191/275 [1:19:16<40:09, 28.68s/it]"
     ]
    },
    {
     "name": "stdout",
     "output_type": "stream",
     "text": [
      "pod_id: thecandaceowensshow videos 5\n",
      "video_id XhLlckA5Q_0\n",
      "video_id 01Mf3k8zfa8\n",
      "video_id pxUDKUgJSGI\n",
      "video_id AMBwmlohOVY\n",
      "video_id 4Mhh1ALBri0\n"
     ]
    },
    {
     "name": "stderr",
     "output_type": "stream",
     "text": [
      " 70%|██████▉   | 192/275 [1:19:52<42:38, 30.83s/it]"
     ]
    },
    {
     "name": "stdout",
     "output_type": "stream",
     "text": [
      "pod_id: theconfessionals videos 0\n",
      "pod_id: thecontrarians videos 5\n",
      "video_id nutdfHJTsQU\n",
      "video_id nwJ6Y-hsARQ\n",
      "video_id vEnhEOWaBwM\n",
      "video_id Xq2xzPR13qY\n",
      "video_id lTaSsWX5yZY\n"
     ]
    },
    {
     "name": "stderr",
     "output_type": "stream",
     "text": [
      " 71%|███████   | 194/275 [1:20:15<30:03, 22.27s/it]"
     ]
    },
    {
     "name": "stdout",
     "output_type": "stream",
     "text": [
      "pod_id: thedailysignal videos 1\n",
      "video_id EB41u0pgO00\n"
     ]
    },
    {
     "name": "stderr",
     "output_type": "stream",
     "text": [
      " 71%|███████   | 195/275 [1:20:18<23:34, 17.68s/it]"
     ]
    },
    {
     "name": "stdout",
     "output_type": "stream",
     "text": [
      "pod_id: thedailystoic videos 5\n",
      "video_id R_alc-pfHbo\n",
      "video_id zFNaJkThbTw\n",
      "video_id p8OARstQGfM\n",
      "video_id Yk0j4vtQjqI\n",
      "video_id ux9i4qIDpI4\n"
     ]
    },
    {
     "name": "stderr",
     "output_type": "stream",
     "text": [
      " 71%|███████▏  | 196/275 [1:20:43<25:32, 19.39s/it]"
     ]
    },
    {
     "name": "stdout",
     "output_type": "stream",
     "text": [
      "pod_id: thedailyzeitgeist videos 5\n",
      "video_id DGcWvV1pK4Y\n",
      "video_id _TeJfI03dtE\n",
      "video_id Ptq_g_tmaQw\n",
      "video_id yeLjhGql_W0\n",
      "video_id 6KUw3rYWyNg\n"
     ]
    },
    {
     "name": "stderr",
     "output_type": "stream",
     "text": [
      " 72%|███████▏  | 197/275 [1:21:13<28:50, 22.19s/it]"
     ]
    },
    {
     "name": "stdout",
     "output_type": "stream",
     "text": [
      "pod_id: thedanzaproject videos 5\n",
      "video_id tlTY2ysXNmE\n",
      "video_id OB2yxtJmYvM\n",
      "video_id afWFOnNiDfo\n",
      "video_id o8OigneGoFo\n",
      "video_id HhxFupQ2v2E\n"
     ]
    },
    {
     "name": "stderr",
     "output_type": "stream",
     "text": [
      " 72%|███████▏  | 198/275 [1:21:44<31:45, 24.75s/it]"
     ]
    },
    {
     "name": "stdout",
     "output_type": "stream",
     "text": [
      "pod_id: thedoctoryounshow videos 5\n",
      "video_id JrQprIyNUpM\n",
      "video_id yMNrFrgDvCU\n",
      "video_id NzAg_BrJE4s\n",
      "video_id KtzCafTV8OQ\n",
      "video_id 1hTKllQHkZM\n"
     ]
    },
    {
     "name": "stderr",
     "output_type": "stream",
     "text": [
      " 72%|███████▏  | 199/275 [1:22:12<32:24, 25.59s/it]"
     ]
    },
    {
     "name": "stdout",
     "output_type": "stream",
     "text": [
      "pod_id: thedrewlaneshow videos 5\n",
      "video_id Ed40GyqE3pA\n",
      "video_id -fDy8szfj9o\n",
      "video_id eVge8jd7f64\n",
      "video_id AZIBapFYRFM\n",
      "video_id zXZ6x5iHeT0\n"
     ]
    },
    {
     "name": "stderr",
     "output_type": "stream",
     "text": [
      " 73%|███████▎  | 200/275 [1:22:27<28:02, 22.43s/it]"
     ]
    },
    {
     "name": "stdout",
     "output_type": "stream",
     "text": [
      "pod_id: thedrphil videos 5\n",
      "Skipping video kWRZN0hISq8 because it already has sponsors\n",
      "Skipping video ZGUcxh7JwUg because it already has sponsors\n",
      "Skipping video K_teTTA7ywI because it already has sponsors\n",
      "Skipping video P8t9GbuBKY0 because it already has sponsors\n",
      "Skipping video 3AbOjyrtIks because it already has sponsors\n",
      "pod_id: theedmylettshow videos 5\n",
      "video_id DWjtdx77SAA\n",
      "video_id 8rz6SSDSASg\n",
      "video_id n5hXKv1RzUo\n",
      "video_id waTcnhMRgHM\n",
      "video_id Y7lqxO-SMy4\n"
     ]
    },
    {
     "name": "stderr",
     "output_type": "stream",
     "text": [
      " 73%|███████▎  | 202/275 [1:23:04<25:19, 20.82s/it]"
     ]
    },
    {
     "name": "stdout",
     "output_type": "stream",
     "text": [
      "pod_id: thefacility videos 5\n",
      "video_id GBJFDF9ZjBE\n",
      "video_id ECUQ0Qr5HyU\n",
      "video_id fT5prX6-e2I\n",
      "video_id UpN9TWrkN50\n",
      "video_id PCJJK_afc_w\n"
     ]
    },
    {
     "name": "stderr",
     "output_type": "stream",
     "text": [
      " 74%|███████▍  | 203/275 [1:23:39<29:01, 24.19s/it]"
     ]
    },
    {
     "name": "stdout",
     "output_type": "stream",
     "text": [
      "pod_id: thefallline videos 5\n",
      "video_id rXh59aFbL3s\n",
      "video_id drB3Gu5JFLw\n",
      "video_id w4IuiR2vDXg\n",
      "video_id q923W6hhwI8\n",
      "video_id a-RY7uDynJM\n"
     ]
    },
    {
     "name": "stderr",
     "output_type": "stream",
     "text": [
      " 74%|███████▍  | 204/275 [1:23:58<27:09, 22.95s/it]"
     ]
    },
    {
     "name": "stdout",
     "output_type": "stream",
     "text": [
      "pod_id: thegeniuslife videos 5\n",
      "video_id _OkLwGgTLHY\n",
      "video_id qxFwR_zWoF8\n",
      "video_id Roxk-mRzhhM\n",
      "video_id llZlbAHz1u8\n",
      "video_id gt5NQ4i_6TY\n"
     ]
    },
    {
     "name": "stderr",
     "output_type": "stream",
     "text": [
      " 75%|███████▍  | 205/275 [1:24:29<29:21, 25.16s/it]"
     ]
    },
    {
     "name": "stdout",
     "output_type": "stream",
     "text": [
      "pod_id: theglasscannon videos 0\n",
      "pod_id: theguiltyfeminist videos 5\n",
      "video_id gLclOeFcqnE\n",
      "video_id S-ZM2TIyL0E\n",
      "video_id zFE9dj_p7Kw\n",
      "video_id nL--sKUfNqY\n",
      "video_id XBrfx46rCGU\n"
     ]
    },
    {
     "name": "stderr",
     "output_type": "stream",
     "text": [
      " 75%|███████▌  | 207/275 [1:25:01<23:59, 21.17s/it]"
     ]
    },
    {
     "name": "stdout",
     "output_type": "stream",
     "text": [
      "pod_id: thehitenshow videos 0\n",
      "pod_id: thehumanupgrade videos 5\n",
      "video_id TiqLi-MDOP8\n",
      "video_id 4h9fUY1kOns\n",
      "video_id pQWfxAuFe1o\n",
      "video_id kmjKw3JL2fk\n",
      "video_id gEqFjMVBn5w\n"
     ]
    },
    {
     "name": "stderr",
     "output_type": "stream",
     "text": [
      " 76%|███████▌  | 209/275 [1:25:45<23:35, 21.45s/it]"
     ]
    },
    {
     "name": "stdout",
     "output_type": "stream",
     "text": [
      "pod_id: thejamessmith videos 5\n",
      "video_id 72lWnjuSyss\n",
      "video_id __-Oiq3VuFY\n",
      "video_id DqxX-A5XWl8\n",
      "video_id Hq6nZ_6m1Zo\n",
      "video_id ngbyEKSxxDs\n"
     ]
    },
    {
     "name": "stderr",
     "output_type": "stream",
     "text": [
      " 76%|███████▋  | 210/275 [1:26:11<24:11, 22.34s/it]"
     ]
    },
    {
     "name": "stdout",
     "output_type": "stream",
     "text": [
      "pod_id: thejimfortinpodcast videos 5\n",
      "video_id ds-jHzX14ds\n",
      "video_id zQUam5MGkFw\n",
      "video_id XsZfntkcpLs\n",
      "video_id iuRlDh86E40\n",
      "video_id H-ZmAlS8ueg\n"
     ]
    },
    {
     "name": "stderr",
     "output_type": "stream",
     "text": [
      " 77%|███████▋  | 211/275 [1:26:27<22:22, 20.98s/it]"
     ]
    },
    {
     "name": "stdout",
     "output_type": "stream",
     "text": [
      "pod_id: thejoerogan videos 5\n",
      "video_id idNM_AiGb40\n",
      "video_id rAVzLFL5sPs\n",
      "video_id 2x9r4E5_5EQ\n",
      "video_id TmfWdsmos2Y\n",
      "video_id _jOGPvMftb8\n"
     ]
    },
    {
     "name": "stderr",
     "output_type": "stream",
     "text": [
      " 77%|███████▋  | 212/275 [1:27:38<35:11, 33.52s/it]"
     ]
    },
    {
     "name": "stdout",
     "output_type": "stream",
     "text": [
      "pod_id: theladyvanishes videos 5\n",
      "video_id AwCkMBah8g0\n",
      "video_id 22YQ69FUYN0\n",
      "video_id e__0Y0Tv-AI\n",
      "video_id 3LbnX8m0FRM\n",
      "video_id 6TYXyOKmP64\n"
     ]
    },
    {
     "name": "stderr",
     "output_type": "stream",
     "text": [
      " 77%|███████▋  | 213/275 [1:29:13<51:23, 49.74s/it]"
     ]
    },
    {
     "name": "stdout",
     "output_type": "stream",
     "text": [
      "pod_id: thelazygenius videos 1\n",
      "video_id vvdlVS5N5TI\n"
     ]
    },
    {
     "name": "stderr",
     "output_type": "stream",
     "text": [
      " 78%|███████▊  | 214/275 [1:29:16<37:29, 36.87s/it]"
     ]
    },
    {
     "name": "stdout",
     "output_type": "stream",
     "text": [
      "pod_id: themagnusarchives videos 5\n",
      "video_id nNDusX07QII\n",
      "video_id qZ1ZzNChPCU\n",
      "video_id JalXGDNFsHg\n",
      "video_id 9XGfHsTrIUU\n",
      "video_id A9dykoiTlCk\n"
     ]
    },
    {
     "name": "stderr",
     "output_type": "stream",
     "text": [
      " 78%|███████▊  | 215/275 [1:29:30<30:19, 30.33s/it]"
     ]
    },
    {
     "name": "stdout",
     "output_type": "stream",
     "text": [
      "pod_id: themandalore videos 0\n",
      "pod_id: themasswatchshow videos 5\n",
      "video_id eEjxlDS9Dwk\n",
      "video_id N8a24FeVf2E\n",
      "video_id 2io6eUgyB0U\n",
      "video_id 0wEHFcK75rg\n",
      "video_id zQ7eTCnxjXA\n"
     ]
    },
    {
     "name": "stderr",
     "output_type": "stream",
     "text": [
      " 79%|███████▉  | 217/275 [1:30:09<24:47, 25.64s/it]"
     ]
    },
    {
     "name": "stdout",
     "output_type": "stream",
     "text": [
      "pod_id: themelrobbins videos 5\n",
      "video_id 7a-FiD6QPLo\n",
      "video_id zXZo0u_6ies\n",
      "video_id 892M1vCEuUg\n",
      "video_id e_9UHSj0qE4\n",
      "video_id CESqNpTK1S8\n"
     ]
    },
    {
     "name": "stderr",
     "output_type": "stream",
     "text": [
      " 79%|███████▉  | 218/275 [1:30:44<26:31, 27.93s/it]"
     ]
    },
    {
     "name": "stdout",
     "output_type": "stream",
     "text": [
      "pod_id: themichaelknowlesshow videos 5\n",
      "video_id mVkHgK2Bbjg\n",
      "video_id cKlXfz8mu7g\n",
      "video_id 5ud9r8kimVo\n",
      "video_id LGE3plO7pC8\n",
      "video_id Uw3l6bSeSbI\n"
     ]
    },
    {
     "name": "stderr",
     "output_type": "stream",
     "text": [
      " 80%|███████▉  | 219/275 [1:31:27<29:30, 31.61s/it]"
     ]
    },
    {
     "name": "stdout",
     "output_type": "stream",
     "text": [
      "pod_id: themindsetmentor videos 5\n",
      "video_id v_eaCF2-W_g\n",
      "video_id yINpp8Ysskg\n",
      "video_id v0QhWyw-fpM\n",
      "video_id 4kIDyv39Hlk\n",
      "video_id wOZIM2mDTtg\n"
     ]
    },
    {
     "name": "stderr",
     "output_type": "stream",
     "text": [
      " 80%|████████  | 220/275 [1:31:40<24:36, 26.85s/it]"
     ]
    },
    {
     "name": "stdout",
     "output_type": "stream",
     "text": [
      "pod_id: themindsofmadness videos 0\n",
      "pod_id: theminimalists videos 5\n",
      "video_id EcPm8SmmlzA\n",
      "video_id X15SMF1wcEM\n",
      "video_id mAJY6oq4RoI\n",
      "video_id dBg7gTmpzQM\n",
      "video_id CnxcTjDoJns\n"
     ]
    },
    {
     "name": "stderr",
     "output_type": "stream",
     "text": [
      " 81%|████████  | 222/275 [1:32:01<17:26, 19.74s/it]"
     ]
    },
    {
     "name": "stdout",
     "output_type": "stream",
     "text": [
      "pod_id: themismatch videos 5\n",
      "video_id QwTXJHnCqnA\n",
      "video_id VruEXFx2Ey8\n",
      "video_id Hu_9AxBwpec\n",
      "video_id G5xSOhVeFxw\n",
      "video_id WCTtFDRFCRI\n"
     ]
    },
    {
     "name": "stderr",
     "output_type": "stream",
     "text": [
      " 81%|████████  | 223/275 [1:32:41<21:12, 24.47s/it]"
     ]
    },
    {
     "name": "stdout",
     "output_type": "stream",
     "text": [
      "pod_id: thenikkiandbrieshow videos 5\n",
      "video_id BfTkiIRTtyU\n",
      "video_id 23vwnYGBmIM\n",
      "video_id 0dZE16bCtMo\n",
      "video_id OA7gY2ZejwA\n",
      "video_id gzLl7f6m9uY\n"
     ]
    },
    {
     "name": "stderr",
     "output_type": "stream",
     "text": [
      " 81%|████████▏ | 224/275 [1:33:06<20:51, 24.55s/it]"
     ]
    },
    {
     "name": "stdout",
     "output_type": "stream",
     "text": [
      "pod_id: theofficial videos 5\n",
      "video_id WLvqVM9zrEc\n",
      "video_id AFwG8fVz5LY\n",
      "video_id _FCP4ZIEMVk\n",
      "video_id tXbb6xm7muw\n",
      "video_id EtGkMqqHs5o\n"
     ]
    },
    {
     "name": "stderr",
     "output_type": "stream",
     "text": [
      " 82%|████████▏ | 225/275 [1:33:41<22:46, 27.33s/it]"
     ]
    },
    {
     "name": "stdout",
     "output_type": "stream",
     "text": [
      "pod_id: theoklahomabreakdown videos 5\n",
      "video_id svAc8BuA4DI\n",
      "video_id w04WoiNxWgw\n",
      "video_id eTg318j9bvc\n",
      "video_id THLryOp2kRw\n",
      "video_id yDsheasVnhM\n"
     ]
    },
    {
     "name": "stderr",
     "output_type": "stream",
     "text": [
      " 82%|████████▏ | 226/275 [1:34:30<27:11, 33.30s/it]"
     ]
    },
    {
     "name": "stdout",
     "output_type": "stream",
     "text": [
      "pod_id: thepatmcafeeshow videos 3\n",
      "video_id 5KK19cTVwbY\n",
      "video_id cq0-S1Vf4mg\n",
      "video_id OHQQpR5Q6-A\n"
     ]
    },
    {
     "name": "stderr",
     "output_type": "stream",
     "text": [
      " 83%|████████▎ | 227/275 [1:34:45<22:36, 28.26s/it]"
     ]
    },
    {
     "name": "stdout",
     "output_type": "stream",
     "text": [
      "pod_id: theplaybook videos 5\n",
      "video_id 1DOOf0vUnp4\n",
      "video_id Jln1WTDTpv0\n",
      "video_id Sr_Zvia_WDY\n",
      "video_id KIVmgGJPGjg\n",
      "video_id VTDp6jS5Ggw\n"
     ]
    },
    {
     "name": "stderr",
     "output_type": "stream",
     "text": [
      " 83%|████████▎ | 228/275 [1:34:58<18:38, 23.80s/it]"
     ]
    },
    {
     "name": "stdout",
     "output_type": "stream",
     "text": [
      "pod_id: thepurposeshow videos 5\n",
      "video_id Hw4-lSDUJpI\n",
      "video_id 1VNvB-uEuZs\n",
      "video_id BOmtHfGHhnA\n",
      "video_id NIFDp3O8F7A\n",
      "video_id 35D9bMIMRlo\n"
     ]
    },
    {
     "name": "stderr",
     "output_type": "stream",
     "text": [
      " 83%|████████▎ | 229/275 [1:35:21<17:59, 23.46s/it]"
     ]
    },
    {
     "name": "stdout",
     "output_type": "stream",
     "text": [
      "pod_id: therecapshow videos 5\n",
      "video_id M9q1D00pzNI\n",
      "video_id 1IIE4_GNHbM\n",
      "video_id RfuUcS9KMo4\n",
      "video_id 4VRPF-nhYSU\n",
      "video_id C57tjAgk6UU\n"
     ]
    },
    {
     "name": "stderr",
     "output_type": "stream",
     "text": [
      " 84%|████████▎ | 230/275 [1:35:46<18:04, 24.11s/it]"
     ]
    },
    {
     "name": "stdout",
     "output_type": "stream",
     "text": [
      "pod_id: therighttime videos 5\n",
      "video_id 2gi0B3LH-Nk\n",
      "video_id nY_IOQLO5I4\n",
      "video_id NHmdOIfPKgs\n",
      "video_id K9JNmeea3bw\n",
      "video_id 6oy3C1c7xBM\n"
     ]
    },
    {
     "name": "stderr",
     "output_type": "stream",
     "text": [
      " 84%|████████▍ | 231/275 [1:36:24<20:33, 28.04s/it]"
     ]
    },
    {
     "name": "stdout",
     "output_type": "stream",
     "text": [
      "pod_id: theringernbashow videos 5\n",
      "Skipping video VruEXFx2Ey8 because it already has sponsors\n",
      "Skipping video QwTXJHnCqnA because it already has sponsors\n",
      "Skipping video G5xSOhVeFxw because it already has sponsors\n",
      "Skipping video Hu_9AxBwpec because it already has sponsors\n",
      "Skipping video WCTtFDRFCRI because it already has sponsors\n",
      "pod_id: therootofallsuccess videos 5\n",
      "video_id ZO58SOGCa_8\n",
      "video_id zuU_uMO5EbE\n",
      "video_id LcNTYVo3-RQ\n",
      "video_id Go-trjb9lsM\n",
      "video_id a661KGM8sTY\n"
     ]
    },
    {
     "name": "stderr",
     "output_type": "stream",
     "text": [
      " 85%|████████▍ | 233/275 [1:36:48<14:29, 20.71s/it]"
     ]
    },
    {
     "name": "stdout",
     "output_type": "stream",
     "text": [
      "pod_id: therubinreport videos 2\n",
      "video_id Qq8d82Ic2Gk\n",
      "video_id SeqjwZOCAOQ\n"
     ]
    },
    {
     "name": "stderr",
     "output_type": "stream",
     "text": [
      " 85%|████████▌ | 234/275 [1:37:00<12:38, 18.49s/it]"
     ]
    },
    {
     "name": "stdout",
     "output_type": "stream",
     "text": [
      "pod_id: theshiftclub videos 5\n",
      "video_id xqgX5-cnJuQ\n",
      "video_id huy-kGN0lXQ\n",
      "video_id UzjjoIybYSA\n",
      "video_id tNrpP9RAKsw\n",
      "video_id NhSjvqryJlQ\n"
     ]
    },
    {
     "name": "stderr",
     "output_type": "stream",
     "text": [
      " 85%|████████▌ | 235/275 [1:37:20<12:43, 19.08s/it]"
     ]
    },
    {
     "name": "stdout",
     "output_type": "stream",
     "text": [
      "pod_id: theteamignitionshow videos 5\n",
      "video_id zFt7OwgiHmE\n",
      "video_id YnMfDFZar5A\n",
      "video_id VN0JLL57Jhw\n",
      "video_id YTbvqggj7gU\n",
      "video_id vCwSyLCbzjQ\n"
     ]
    },
    {
     "name": "stderr",
     "output_type": "stream",
     "text": [
      " 86%|████████▌ | 236/275 [1:37:43<13:05, 20.13s/it]"
     ]
    },
    {
     "name": "stdout",
     "output_type": "stream",
     "text": [
      "pod_id: thetommygshow videos 5\n",
      "video_id Jq5EaC8RpkA\n",
      "video_id lfyWOeOHfXY\n",
      "video_id 5WxVC5n0QIs\n",
      "video_id U_ajUzTiC6U\n",
      "video_id WGEsaRWOhww\n"
     ]
    },
    {
     "name": "stderr",
     "output_type": "stream",
     "text": [
      " 86%|████████▌ | 237/275 [1:38:06<13:17, 20.99s/it]"
     ]
    },
    {
     "name": "stdout",
     "output_type": "stream",
     "text": [
      "pod_id: theunderworldpodcast videos 5\n",
      "video_id RyxCBe2su0Y\n",
      "video_id PFqrrVcAwMM\n",
      "video_id iTPofmM5U-8\n",
      "video_id GpAvjU8SnbI\n",
      "video_id DRrBh7SIXS8\n"
     ]
    },
    {
     "name": "stderr",
     "output_type": "stream",
     "text": [
      " 87%|████████▋ | 238/275 [1:38:38<14:44, 23.90s/it]"
     ]
    },
    {
     "name": "stdout",
     "output_type": "stream",
     "text": [
      "pod_id: theunplannedpodcast videos 5\n",
      "video_id AvDDvumb9xQ\n",
      "video_id qSw6QmZifk4\n",
      "video_id HVoTRxBEA18\n",
      "video_id Cs3hfrcQF30\n",
      "video_id JEmab_illuc\n"
     ]
    },
    {
     "name": "stderr",
     "output_type": "stream",
     "text": [
      " 87%|████████▋ | 239/275 [1:38:55<13:13, 22.04s/it]"
     ]
    },
    {
     "name": "stdout",
     "output_type": "stream",
     "text": [
      "pod_id: thevanished videos 0\n",
      "pod_id: thewilderness videos 5\n",
      "video_id 9Un1mISiHZ8\n",
      "video_id SKVqKFBfGH0\n",
      "video_id BVuFItxWDvo\n",
      "video_id nJV2w_hi7mc\n",
      "video_id x5jbxNqGKkc\n"
     ]
    },
    {
     "name": "stderr",
     "output_type": "stream",
     "text": [
      " 88%|████████▊ | 241/275 [1:39:47<13:29, 23.81s/it]"
     ]
    },
    {
     "name": "stdout",
     "output_type": "stream",
     "text": [
      "pod_id: thinkfasttalksmart videos 5\n",
      "video_id DjTOhIh7ChE\n",
      "video_id t83gJ5jSMMQ\n",
      "video_id fNQg0BFgdFc\n",
      "video_id cmBlrXy3VH8\n",
      "video_id 67--LQILd1U\n"
     ]
    },
    {
     "name": "stderr",
     "output_type": "stream",
     "text": [
      " 88%|████████▊ | 242/275 [1:40:03<11:59, 21.80s/it]"
     ]
    },
    {
     "name": "stdout",
     "output_type": "stream",
     "text": [
      "pod_id: throughline videos 0\n",
      "pod_id: tigerbelly videos 5\n",
      "video_id fzd_LiRL4yk\n",
      "video_id GxM-vMVLmtg\n",
      "video_id gACGg9S7_b8\n",
      "video_id Kl_Ab8ScefA\n",
      "video_id WuGXBNhxbjI\n"
     ]
    },
    {
     "name": "stderr",
     "output_type": "stream",
     "text": [
      " 89%|████████▊ | 244/275 [1:40:55<12:13, 23.67s/it]"
     ]
    },
    {
     "name": "stdout",
     "output_type": "stream",
     "text": [
      "pod_id: timferrissshow videos 5\n",
      "video_id T2FV1Ir344A\n",
      "video_id gxkjMnSCg3k\n",
      "video_id mLGqrlxofXA\n",
      "video_id 3hCokqJPc08\n",
      "video_id xrHOlE7fLrM\n"
     ]
    },
    {
     "name": "stderr",
     "output_type": "stream",
     "text": [
      " 89%|████████▉ | 245/275 [1:42:09<17:32, 35.08s/it]"
     ]
    },
    {
     "name": "stdout",
     "output_type": "stream",
     "text": [
      "pod_id: todayinfocus videos 0\n",
      "pod_id: tomorrowslegends videos 0\n",
      "pod_id: totallyfootballshow videos 5\n",
      "video_id e9n0TpjFoho\n",
      "video_id VsEOZM1qkzc\n",
      "video_id XcL3ghAVflQ\n",
      "video_id o9vAnnJQsZI\n",
      "video_id G5bHbeGYPuw\n"
     ]
    },
    {
     "name": "stderr",
     "output_type": "stream",
     "text": [
      " 90%|█████████ | 248/275 [1:42:33<09:44, 21.66s/it]"
     ]
    },
    {
     "name": "stdout",
     "output_type": "stream",
     "text": [
      "pod_id: truecrimeallthetimeunsolved videos 5\n",
      "video_id 7yXg6AcUmKI\n",
      "video_id DMj_RYekr5g\n",
      "video_id SRfdDQUABis\n",
      "video_id Jl1Pv8E7H8E\n",
      "video_id ukXYidrgkp0\n"
     ]
    },
    {
     "name": "stderr",
     "output_type": "stream",
     "text": [
      " 91%|█████████ | 249/275 [1:43:07<10:23, 23.96s/it]"
     ]
    },
    {
     "name": "stdout",
     "output_type": "stream",
     "text": [
      "pod_id: truecrimegarage videos 5\n",
      "video_id jSCFtoIrIoc\n",
      "video_id 56nvjbk3XRc\n",
      "video_id l6B1o2cr59s\n",
      "video_id b9Ffp_4yUsI\n",
      "video_id vY9LuLhnYtM\n"
     ]
    },
    {
     "name": "stderr",
     "output_type": "stream",
     "text": [
      " 91%|█████████ | 250/275 [1:43:42<11:00, 26.44s/it]"
     ]
    },
    {
     "name": "stdout",
     "output_type": "stream",
     "text": [
      "pod_id: truecrimeobsessed videos 0\n",
      "pod_id: tweener-talks videos 5\n",
      "video_id 6EZHYlyvsHM\n",
      "video_id zWuxK9S2Enk\n",
      "video_id QrAj22I4KSA\n",
      "video_id bei0L5bVWCE\n",
      "video_id rNTcxcohDs8\n"
     ]
    },
    {
     "name": "stderr",
     "output_type": "stream",
     "text": [
      " 92%|█████████▏| 252/275 [1:44:30<09:47, 25.55s/it]"
     ]
    },
    {
     "name": "stdout",
     "output_type": "stream",
     "text": [
      "pod_id: twogirlsoneghost videos 5\n",
      "video_id fMC8gCLmr6M\n",
      "video_id 310fDvjyzMs\n",
      "video_id AwOYQny_Vyk\n",
      "video_id ubeP5SzgWFk\n",
      "video_id wLykLCD36ek\n"
     ]
    },
    {
     "name": "stderr",
     "output_type": "stream",
     "text": [
      " 92%|█████████▏| 253/275 [1:45:03<09:53, 26.98s/it]"
     ]
    },
    {
     "name": "stdout",
     "output_type": "stream",
     "text": [
      "pod_id: unapologeticman videos 5\n",
      "video_id lLhOiV51Zic\n",
      "video_id 4Ahj7MIl_Fw\n",
      "video_id M31Cu9WlosQ\n",
      "video_id oXyCe1M4Vb0\n",
      "video_id 49Kh1B06mVM\n"
     ]
    },
    {
     "name": "stderr",
     "output_type": "stream",
     "text": [
      " 92%|█████████▏| 254/275 [1:45:16<08:19, 23.77s/it]"
     ]
    },
    {
     "name": "stdout",
     "output_type": "stream",
     "text": [
      "pod_id: unexplainedencounters videos 5\n",
      "video_id ySxQz2bmSzI\n",
      "video_id 1KA_tMLiXXQ\n",
      "video_id 8haKJ_HsVKE\n",
      "video_id jcB6-uhQ424\n",
      "video_id n4Jwv9vFJso\n"
     ]
    },
    {
     "name": "stderr",
     "output_type": "stream",
     "text": [
      " 93%|█████████▎| 255/275 [1:45:29<07:00, 21.03s/it]"
     ]
    },
    {
     "name": "stdout",
     "output_type": "stream",
     "text": [
      "pod_id: unexplainedmysteries videos 5\n",
      "video_id YMvI_IEX_Yo\n",
      "video_id 8oNL84QrNms\n",
      "video_id 7LIpbDnzVRY\n",
      "video_id 0EpdxcwcFbk\n",
      "video_id y-Ut1mLmm2o\n"
     ]
    },
    {
     "name": "stderr",
     "output_type": "stream",
     "text": [
      " 93%|█████████▎| 256/275 [1:46:11<08:24, 26.53s/it]"
     ]
    },
    {
     "name": "stdout",
     "output_type": "stream",
     "text": [
      "pod_id: unfiltered videos 5\n",
      "video_id h6Te7of8_Fw\n",
      "video_id sE0Jvzk7ABg\n",
      "video_id 2UtDgQMU3Zg\n",
      "video_id RXR6vYzmuDI\n",
      "video_id KRlNq4T7SJE\n"
     ]
    },
    {
     "name": "stderr",
     "output_type": "stream",
     "text": [
      " 93%|█████████▎| 257/275 [1:46:30<07:21, 24.52s/it]"
     ]
    },
    {
     "name": "stdout",
     "output_type": "stream",
     "text": [
      "pod_id: unpluggered videos 5\n",
      "video_id bu1JROGKYdY\n",
      "video_id YRunVt7bNP8\n",
      "video_id mXWmhvOTTTU\n",
      "video_id DLTnHJP-OOM\n",
      "video_id 4fZh1KnLOxc\n"
     ]
    },
    {
     "name": "stderr",
     "output_type": "stream",
     "text": [
      " 94%|█████████▍| 258/275 [1:47:09<08:08, 28.74s/it]"
     ]
    },
    {
     "name": "stdout",
     "output_type": "stream",
     "text": [
      "pod_id: upandvanished videos 0\n",
      "pod_id: urbanladyprepper videos 5\n",
      "video_id NHgSyyYO80E\n",
      "video_id EBG3geuRims\n",
      "video_id imcFb2R6SJk\n",
      "video_id 1toE1W9mGLQ\n",
      "video_id Z1d9EgQ-FDc\n"
     ]
    },
    {
     "name": "stderr",
     "output_type": "stream",
     "text": [
      " 95%|█████████▍| 260/275 [1:47:44<05:53, 23.56s/it]"
     ]
    },
    {
     "name": "stdout",
     "output_type": "stream",
     "text": [
      "pod_id: veryamusing videos 5\n",
      "video_id erfp5peV5m4\n",
      "video_id Zmw7O-RWi68\n",
      "video_id lfNfBjy0uWo\n",
      "video_id qAC7wRkwTFo\n",
      "video_id DZMCKzi0vMU\n"
     ]
    },
    {
     "name": "stderr",
     "output_type": "stream",
     "text": [
      " 95%|█████████▍| 261/275 [1:48:03<05:16, 22.60s/it]"
     ]
    },
    {
     "name": "stdout",
     "output_type": "stream",
     "text": [
      "pod_id: veryreallygood videos 5\n",
      "video_id GZRtl6cRk8Q\n",
      "video_id UDBl-3hw9tw\n",
      "video_id mCjw6vb5j48\n",
      "video_id HOL4lfbiVXU\n",
      "video_id 17Vq81Ux3h4\n"
     ]
    },
    {
     "name": "stderr",
     "output_type": "stream",
     "text": [
      " 95%|█████████▌| 262/275 [1:48:27<04:59, 23.01s/it]"
     ]
    },
    {
     "name": "stdout",
     "output_type": "stream",
     "text": [
      "pod_id: views videos 5\n",
      "video_id huHoxvRXXgU\n",
      "video_id B6Tv5C_tLoc\n",
      "video_id 56WQiO2_2Gg\n",
      "video_id 827cIt9Tzws\n",
      "video_id umqfiH0ZD2s\n"
     ]
    },
    {
     "name": "stderr",
     "output_type": "stream",
     "text": [
      " 96%|█████████▌| 263/275 [1:48:52<04:40, 23.38s/it]"
     ]
    },
    {
     "name": "stdout",
     "output_type": "stream",
     "text": [
      "pod_id: wdwradio videos 0\n",
      "pod_id: webuiltthisbrand videos 5\n",
      "video_id 3d8cFg_xAac\n",
      "video_id fBbPQ_7GTKE\n",
      "video_id 74xjCYrMkSg\n",
      "video_id 9jJLcjnUYzI\n",
      "video_id Jyz6hdzZTWM\n"
     ]
    },
    {
     "name": "stderr",
     "output_type": "stream",
     "text": [
      " 96%|█████████▋| 265/275 [1:49:20<03:14, 19.49s/it]"
     ]
    },
    {
     "name": "stdout",
     "output_type": "stream",
     "text": [
      "pod_id: whathappenedwhen videos 5\n",
      "video_id bQQ3YXyiVGY\n",
      "video_id uaFMSYqpYtQ\n",
      "video_id Wpg7Z8O4JWw\n",
      "video_id Cra3wdpdl0A\n",
      "video_id j-2vfQKVfNk\n"
     ]
    },
    {
     "name": "stderr",
     "output_type": "stream",
     "text": [
      " 97%|█████████▋| 266/275 [1:50:24<04:28, 29.86s/it]"
     ]
    },
    {
     "name": "stdout",
     "output_type": "stream",
     "text": [
      "pod_id: whatisthefutureforcities videos 5\n",
      "video_id OvG0qKkC9-M\n",
      "video_id ApQe0eX6f9k\n",
      "video_id 6dKYqmLiWn0\n",
      "video_id 4hX0BePspO8\n",
      "video_id VHOx6RCQsn4\n"
     ]
    },
    {
     "name": "stderr",
     "output_type": "stream",
     "text": [
      " 97%|█████████▋| 267/275 [1:50:50<03:50, 28.81s/it]"
     ]
    },
    {
     "name": "stdout",
     "output_type": "stream",
     "text": [
      "pod_id: whatshouldireadnext videos 0\n",
      "pod_id: whiskeyginger videos 5\n",
      "video_id VysTLdK4zpw\n",
      "video_id w0e1uJ64_1A\n",
      "video_id tfORsJtU3Xs\n",
      "video_id xDiwiOyPhIg\n",
      "video_id kEMpJTUuXZ8\n"
     ]
    },
    {
     "name": "stderr",
     "output_type": "stream",
     "text": [
      " 98%|█████████▊| 269/275 [1:51:23<02:22, 23.75s/it]"
     ]
    },
    {
     "name": "stdout",
     "output_type": "stream",
     "text": [
      "pod_id: wrongfulconviction videos 5\n",
      "video_id BTARw_HlHNk\n",
      "video_id JM-pt9gVmOU\n",
      "video_id Zxyt7GLPrD0\n",
      "video_id oVKU1uNfHmo\n",
      "video_id n7sXQyxDCuQ\n"
     ]
    },
    {
     "name": "stderr",
     "output_type": "stream",
     "text": [
      " 98%|█████████▊| 270/275 [1:51:41<01:51, 22.31s/it]"
     ]
    },
    {
     "name": "stdout",
     "output_type": "stream",
     "text": [
      "pod_id: wsjtechnews videos 5\n",
      "video_id yb_MfqHtJ4Y\n",
      "video_id aGbBiWcAMzw\n",
      "video_id 4g4PKzP4x98\n",
      "video_id iw-drpUYjX0\n",
      "video_id 5sbAuvbSP1Y\n"
     ]
    },
    {
     "name": "stderr",
     "output_type": "stream",
     "text": [
      " 99%|█████████▊| 271/275 [1:51:55<01:21, 20.37s/it]"
     ]
    },
    {
     "name": "stdout",
     "output_type": "stream",
     "text": [
      "pod_id: yoretown videos 5\n",
      "video_id zQyxKt6y36Q\n",
      "video_id QwUl2tYdWt8\n",
      "video_id 6ACOR_B1LOU\n",
      "video_id G7Skk-VIz1Q\n",
      "video_id tFTSUKJvYzo\n"
     ]
    },
    {
     "name": "stderr",
     "output_type": "stream",
     "text": [
      " 99%|█████████▉| 272/275 [1:52:06<00:54, 18.03s/it]"
     ]
    },
    {
     "name": "stdout",
     "output_type": "stream",
     "text": [
      "pod_id: yourfavoritethingwithwellsandbrandi videos 5\n",
      "video_id ISx7X71EqgE\n",
      "video_id X11VStvvUsA\n",
      "video_id dSrEl10oWFM\n",
      "video_id onaxQPaXy4k\n",
      "video_id udgiLC5GUbk\n"
     ]
    },
    {
     "name": "stderr",
     "output_type": "stream",
     "text": [
      " 99%|█████████▉| 273/275 [1:52:25<00:36, 18.31s/it]"
     ]
    },
    {
     "name": "stdout",
     "output_type": "stream",
     "text": [
      "pod_id: yourmomdad videos 5\n",
      "video_id th4dsP8fvm4\n",
      "video_id cl6tyJVrVxE\n",
      "video_id lbQBNcaqZwc\n",
      "video_id IAZoE8zQIZE\n",
      "video_id C6se_5BMSPU\n"
     ]
    },
    {
     "name": "stderr",
     "output_type": "stream",
     "text": [
      "100%|██████████| 275/275 [1:53:15<00:00, 24.71s/it]"
     ]
    },
    {
     "name": "stdout",
     "output_type": "stream",
     "text": [
      "pod_id: zengeen videos 0\n"
     ]
    },
    {
     "name": "stderr",
     "output_type": "stream",
     "text": [
      "\n"
     ]
    }
   ],
   "source": [
    "# do for 10 shows\n",
    "from tqdm import tqdm\n",
    "import time\n",
    "\n",
    "\n",
    "# huberman_pod = pods.loc[pods['id'] == 'hubermanlab']\n",
    "\n",
    "for index, pod in tqdm(pods.iterrows(), total=len(pods)):\n",
    "    df = await generate_and_store_sponsor_for_show(pod, index)\n",
    "    all_sponsors_df = pd.concat([all_sponsors_df, df], ignore_index=True)"
   ]
  },
  {
   "cell_type": "code",
   "execution_count": 66,
   "id": "4c55dd1a",
   "metadata": {},
   "outputs": [
    {
     "data": {
      "text/html": [
       "<div>\n",
       "<style scoped>\n",
       "    .dataframe tbody tr th:only-of-type {\n",
       "        vertical-align: middle;\n",
       "    }\n",
       "\n",
       "    .dataframe tbody tr th {\n",
       "        vertical-align: top;\n",
       "    }\n",
       "\n",
       "    .dataframe thead th {\n",
       "        text-align: right;\n",
       "    }\n",
       "</style>\n",
       "<table border=\"1\" class=\"dataframe\">\n",
       "  <thead>\n",
       "    <tr style=\"text-align: right;\">\n",
       "      <th></th>\n",
       "      <th>sponsorName</th>\n",
       "      <th>sponsorCode</th>\n",
       "      <th>startTime</th>\n",
       "      <th>endTime</th>\n",
       "      <th>domain</th>\n",
       "      <th>clientId</th>\n",
       "      <th>episodeId</th>\n",
       "      <th>episodeType</th>\n",
       "      <th>createdAt</th>\n",
       "      <th>airDate</th>\n",
       "    </tr>\n",
       "  </thead>\n",
       "  <tbody>\n",
       "    <tr>\n",
       "      <th>0</th>\n",
       "      <td>Kalshi</td>\n",
       "      <td>NaN</td>\n",
       "      <td>4975.0</td>\n",
       "      <td>4984.0</td>\n",
       "      <td>kalshi.com</td>\n",
       "      <td>20vc</td>\n",
       "      <td>4lFDEWFzHVk</td>\n",
       "      <td>youtube</td>\n",
       "      <td>2025-07-26T17:16:36.460878</td>\n",
       "      <td>20250724</td>\n",
       "    </tr>\n",
       "    <tr>\n",
       "      <th>1</th>\n",
       "      <td>CRBN Pickleball</td>\n",
       "      <td>402p</td>\n",
       "      <td>94.0</td>\n",
       "      <td>162.0</td>\n",
       "      <td>crbnpickleball.com</td>\n",
       "      <td>402p</td>\n",
       "      <td>cLapzQiF0LM</td>\n",
       "      <td>youtube</td>\n",
       "      <td>2025-07-26T17:17:09.036052</td>\n",
       "      <td>20250719</td>\n",
       "    </tr>\n",
       "    <tr>\n",
       "      <th>2</th>\n",
       "      <td>Progressive</td>\n",
       "      <td>NaN</td>\n",
       "      <td>0.0</td>\n",
       "      <td>28.0</td>\n",
       "      <td>progressive.com</td>\n",
       "      <td>402p</td>\n",
       "      <td>hpas_GMyUQ0</td>\n",
       "      <td>youtube</td>\n",
       "      <td>2025-07-26T17:17:12.324929</td>\n",
       "      <td>20250719</td>\n",
       "    </tr>\n",
       "    <tr>\n",
       "      <th>3</th>\n",
       "      <td>Dropbox Dash</td>\n",
       "      <td>NaN</td>\n",
       "      <td>728.0</td>\n",
       "      <td>751.0</td>\n",
       "      <td>dropbox.com/dash</td>\n",
       "      <td>402p</td>\n",
       "      <td>hpas_GMyUQ0</td>\n",
       "      <td>youtube</td>\n",
       "      <td>2025-07-26T17:17:12.324952</td>\n",
       "      <td>20250719</td>\n",
       "    </tr>\n",
       "    <tr>\n",
       "      <th>4</th>\n",
       "      <td>Yobo</td>\n",
       "      <td>NaN</td>\n",
       "      <td>1328.0</td>\n",
       "      <td>1438.0</td>\n",
       "      <td>402p.com</td>\n",
       "      <td>402p</td>\n",
       "      <td>f6zt6XaXvy4</td>\n",
       "      <td>youtube</td>\n",
       "      <td>2025-07-26T17:17:16.461851</td>\n",
       "      <td>20250701</td>\n",
       "    </tr>\n",
       "    <tr>\n",
       "      <th>...</th>\n",
       "      <td>...</td>\n",
       "      <td>...</td>\n",
       "      <td>...</td>\n",
       "      <td>...</td>\n",
       "      <td>...</td>\n",
       "      <td>...</td>\n",
       "      <td>...</td>\n",
       "      <td>...</td>\n",
       "      <td>...</td>\n",
       "      <td>...</td>\n",
       "    </tr>\n",
       "    <tr>\n",
       "      <th>2016</th>\n",
       "      <td>Nutrafol</td>\n",
       "      <td>momdad</td>\n",
       "      <td>704.0</td>\n",
       "      <td>851.0</td>\n",
       "      <td>nutrafol.com</td>\n",
       "      <td>yourmomdad</td>\n",
       "      <td>IAZoE8zQIZE</td>\n",
       "      <td>youtube</td>\n",
       "      <td>2025-07-26T19:30:50.929894</td>\n",
       "      <td>20250710</td>\n",
       "    </tr>\n",
       "    <tr>\n",
       "      <th>2017</th>\n",
       "      <td>Hungryroot</td>\n",
       "      <td>momdad</td>\n",
       "      <td>1920.0</td>\n",
       "      <td>2104.0</td>\n",
       "      <td>hungryroot.com</td>\n",
       "      <td>yourmomdad</td>\n",
       "      <td>IAZoE8zQIZE</td>\n",
       "      <td>youtube</td>\n",
       "      <td>2025-07-26T19:30:50.929912</td>\n",
       "      <td>20250710</td>\n",
       "    </tr>\n",
       "    <tr>\n",
       "      <th>2018</th>\n",
       "      <td>Article</td>\n",
       "      <td>None</td>\n",
       "      <td>632.0</td>\n",
       "      <td>778.0</td>\n",
       "      <td>article.com</td>\n",
       "      <td>yourmomdad</td>\n",
       "      <td>C6se_5BMSPU</td>\n",
       "      <td>youtube</td>\n",
       "      <td>2025-07-26T19:31:00.164720</td>\n",
       "      <td>20250708</td>\n",
       "    </tr>\n",
       "    <tr>\n",
       "      <th>2019</th>\n",
       "      <td>Hya</td>\n",
       "      <td>MOMANDDAD</td>\n",
       "      <td>1951.0</td>\n",
       "      <td>2116.0</td>\n",
       "      <td>hiyahealth.com</td>\n",
       "      <td>yourmomdad</td>\n",
       "      <td>C6se_5BMSPU</td>\n",
       "      <td>youtube</td>\n",
       "      <td>2025-07-26T19:31:00.164743</td>\n",
       "      <td>20250708</td>\n",
       "    </tr>\n",
       "    <tr>\n",
       "      <th>2020</th>\n",
       "      <td>Minnow</td>\n",
       "      <td>MEETMINNOW15</td>\n",
       "      <td>3101.0</td>\n",
       "      <td>3267.0</td>\n",
       "      <td>shopminnow.com</td>\n",
       "      <td>yourmomdad</td>\n",
       "      <td>C6se_5BMSPU</td>\n",
       "      <td>youtube</td>\n",
       "      <td>2025-07-26T19:31:00.164746</td>\n",
       "      <td>20250708</td>\n",
       "    </tr>\n",
       "  </tbody>\n",
       "</table>\n",
       "<p>2021 rows × 10 columns</p>\n",
       "</div>"
      ],
      "text/plain": [
       "          sponsorName   sponsorCode  startTime  endTime              domain  \\\n",
       "0              Kalshi           NaN     4975.0   4984.0          kalshi.com   \n",
       "1     CRBN Pickleball          402p       94.0    162.0  crbnpickleball.com   \n",
       "2         Progressive           NaN        0.0     28.0     progressive.com   \n",
       "3        Dropbox Dash           NaN      728.0    751.0    dropbox.com/dash   \n",
       "4                Yobo           NaN     1328.0   1438.0            402p.com   \n",
       "...               ...           ...        ...      ...                 ...   \n",
       "2016         Nutrafol        momdad      704.0    851.0        nutrafol.com   \n",
       "2017       Hungryroot        momdad     1920.0   2104.0      hungryroot.com   \n",
       "2018          Article          None      632.0    778.0         article.com   \n",
       "2019              Hya     MOMANDDAD     1951.0   2116.0      hiyahealth.com   \n",
       "2020           Minnow  MEETMINNOW15     3101.0   3267.0      shopminnow.com   \n",
       "\n",
       "        clientId    episodeId episodeType                   createdAt  \\\n",
       "0           20vc  4lFDEWFzHVk     youtube  2025-07-26T17:16:36.460878   \n",
       "1           402p  cLapzQiF0LM     youtube  2025-07-26T17:17:09.036052   \n",
       "2           402p  hpas_GMyUQ0     youtube  2025-07-26T17:17:12.324929   \n",
       "3           402p  hpas_GMyUQ0     youtube  2025-07-26T17:17:12.324952   \n",
       "4           402p  f6zt6XaXvy4     youtube  2025-07-26T17:17:16.461851   \n",
       "...          ...          ...         ...                         ...   \n",
       "2016  yourmomdad  IAZoE8zQIZE     youtube  2025-07-26T19:30:50.929894   \n",
       "2017  yourmomdad  IAZoE8zQIZE     youtube  2025-07-26T19:30:50.929912   \n",
       "2018  yourmomdad  C6se_5BMSPU     youtube  2025-07-26T19:31:00.164720   \n",
       "2019  yourmomdad  C6se_5BMSPU     youtube  2025-07-26T19:31:00.164743   \n",
       "2020  yourmomdad  C6se_5BMSPU     youtube  2025-07-26T19:31:00.164746   \n",
       "\n",
       "       airDate  \n",
       "0     20250724  \n",
       "1     20250719  \n",
       "2     20250719  \n",
       "3     20250719  \n",
       "4     20250701  \n",
       "...        ...  \n",
       "2016  20250710  \n",
       "2017  20250710  \n",
       "2018  20250708  \n",
       "2019  20250708  \n",
       "2020  20250708  \n",
       "\n",
       "[2021 rows x 10 columns]"
      ]
     },
     "execution_count": 66,
     "metadata": {},
     "output_type": "execute_result"
    }
   ],
   "source": [
    "all_sponsors_df"
   ]
  },
  {
   "cell_type": "code",
   "execution_count": 67,
   "id": "171a09d6",
   "metadata": {},
   "outputs": [],
   "source": [
    "all_sponsors_df.to_csv(\"all_sponsors_of_shows.csv\", index=False)"
   ]
  },
  {
   "cell_type": "code",
   "execution_count": null,
   "id": "f536d8f6",
   "metadata": {},
   "outputs": [],
   "source": []
  }
 ],
 "metadata": {
  "kernelspec": {
   "display_name": "Python 3",
   "language": "python",
   "name": "python3"
  },
  "language_info": {
   "codemirror_mode": {
    "name": "ipython",
    "version": 3
   },
   "file_extension": ".py",
   "mimetype": "text/x-python",
   "name": "python",
   "nbconvert_exporter": "python",
   "pygments_lexer": "ipython3",
   "version": "3.13.5"
  }
 },
 "nbformat": 4,
 "nbformat_minor": 5
}

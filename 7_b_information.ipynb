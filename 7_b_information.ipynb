{
 "cells": [
  {
   "cell_type": "code",
   "execution_count": null,
   "id": "86535885",
   "metadata": {},
   "outputs": [],
   "source": [
    "website = \"https://vimergy.com/\"\n",
    "\n",
    "budget = 40000\n",
    "aov=80\n",
    "ctr=1.5\n",
    "target_gender = \"90% female\"\n",
    "target_hhi = \"+$100k\"\n"
   ]
  },
  {
   "cell_type": "code",
   "execution_count": 7,
   "id": "a07d8c40",
   "metadata": {},
   "outputs": [],
   "source": [
    "ai_backend_brand_base_url = \"http://localhost:3001/api/v1/brand\"\n",
    "headers = {\n",
    "    \"authorization\": \"testtoken0001\"\n",
    "}"
   ]
  },
  {
   "cell_type": "code",
   "execution_count": 10,
   "id": "76bae62d",
   "metadata": {},
   "outputs": [],
   "source": [
    "import requests\n",
    "# get data from apollo\n",
    "\n",
    "\n",
    "def get_brand_info(website):\n",
    "    api_url = f\"{ai_backend_brand_base_url}/info\"\n",
    "    try:\n",
    "        response = requests.post(api_url, json={\"website_url\": website}, headers=headers)\n",
    "        brand_info = response.json()\n",
    "        return brand_info\n",
    "    except Exception as e:\n",
    "        print(f\"Error getting brand info for {website}: {e}\")\n",
    "        return None\n",
    "\n",
    "\n",
    "\n",
    "\n",
    "\n",
    "\n"
   ]
  },
  {
   "cell_type": "code",
   "execution_count": 16,
   "id": "ea7a9aad",
   "metadata": {},
   "outputs": [],
   "source": [
    "import json\n",
    "brand_info = get_brand_info(website)\n",
    "\n",
    "\n",
    "with open(\"branding_info.json\", \"w\") as f:\n",
    "    json.dump(brand_info, f)"
   ]
  },
  {
   "cell_type": "code",
   "execution_count": null,
   "id": "594dacc9",
   "metadata": {},
   "outputs": [],
   "source": []
  }
 ],
 "metadata": {
  "kernelspec": {
   "display_name": "Python 3",
   "language": "python",
   "name": "python3"
  },
  "language_info": {
   "codemirror_mode": {
    "name": "ipython",
    "version": 3
   },
   "file_extension": ".py",
   "mimetype": "text/x-python",
   "name": "python",
   "nbconvert_exporter": "python",
   "pygments_lexer": "ipython3",
   "version": "3.13.5"
  }
 },
 "nbformat": 4,
 "nbformat_minor": 5
}
